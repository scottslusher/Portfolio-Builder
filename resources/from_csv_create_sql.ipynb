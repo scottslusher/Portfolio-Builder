{
 "cells": [
  {
   "cell_type": "code",
   "execution_count": 1,
   "source": [
    "import pandas as pd\r\n",
    "from pathlib import Path\r\n",
    "import sqlalchemy as sql"
   ],
   "outputs": [],
   "metadata": {}
  },
  {
   "cell_type": "code",
   "execution_count": 2,
   "source": [
    "# Create a database connection string that links an in-memory database\r\n",
    "database_connection_string = 'sqlite:///stock_industry_top5.db'\r\n",
    "\r\n",
    "# Database connection object\r\n",
    "engine = sql.create_engine(database_connection_string, echo=True)\r\n",
    "\r\n",
    "# Confirm the engine was created\r\n",
    "engine"
   ],
   "outputs": [
    {
     "output_type": "execute_result",
     "data": {
      "text/plain": [
       "Engine(sqlite:///stock_industry_top5.db)"
      ]
     },
     "metadata": {},
     "execution_count": 2
    }
   ],
   "metadata": {}
  },
  {
   "cell_type": "code",
   "execution_count": 3,
   "source": [
    "stocks_df = pd.read_csv(\r\n",
    "    Path('stock_industry_marketcap.csv')\r\n",
    ")\r\n",
    "\r\n",
    "stocks_df.head()"
   ],
   "outputs": [
    {
     "output_type": "execute_result",
     "data": {
      "text/plain": [
       "  Symbol             GICS Sector    Market_Cap\n",
       "0    MMM             Industrials  1.146455e+11\n",
       "1    ABT             Health Care  2.165854e+11\n",
       "2   ABBV             Health Care  2.022537e+11\n",
       "3   ABMD             Health Care  1.569610e+10\n",
       "4    ACN  Information Technology  2.040843e+11"
      ],
      "text/html": [
       "<div>\n",
       "<style scoped>\n",
       "    .dataframe tbody tr th:only-of-type {\n",
       "        vertical-align: middle;\n",
       "    }\n",
       "\n",
       "    .dataframe tbody tr th {\n",
       "        vertical-align: top;\n",
       "    }\n",
       "\n",
       "    .dataframe thead th {\n",
       "        text-align: right;\n",
       "    }\n",
       "</style>\n",
       "<table border=\"1\" class=\"dataframe\">\n",
       "  <thead>\n",
       "    <tr style=\"text-align: right;\">\n",
       "      <th></th>\n",
       "      <th>Symbol</th>\n",
       "      <th>GICS Sector</th>\n",
       "      <th>Market_Cap</th>\n",
       "    </tr>\n",
       "  </thead>\n",
       "  <tbody>\n",
       "    <tr>\n",
       "      <th>0</th>\n",
       "      <td>MMM</td>\n",
       "      <td>Industrials</td>\n",
       "      <td>1.146455e+11</td>\n",
       "    </tr>\n",
       "    <tr>\n",
       "      <th>1</th>\n",
       "      <td>ABT</td>\n",
       "      <td>Health Care</td>\n",
       "      <td>2.165854e+11</td>\n",
       "    </tr>\n",
       "    <tr>\n",
       "      <th>2</th>\n",
       "      <td>ABBV</td>\n",
       "      <td>Health Care</td>\n",
       "      <td>2.022537e+11</td>\n",
       "    </tr>\n",
       "    <tr>\n",
       "      <th>3</th>\n",
       "      <td>ABMD</td>\n",
       "      <td>Health Care</td>\n",
       "      <td>1.569610e+10</td>\n",
       "    </tr>\n",
       "    <tr>\n",
       "      <th>4</th>\n",
       "      <td>ACN</td>\n",
       "      <td>Information Technology</td>\n",
       "      <td>2.040843e+11</td>\n",
       "    </tr>\n",
       "  </tbody>\n",
       "</table>\n",
       "</div>"
      ]
     },
     "metadata": {},
     "execution_count": 3
    }
   ],
   "metadata": {}
  },
  {
   "cell_type": "code",
   "execution_count": 4,
   "source": [
    "stocks_df.to_sql('stock_industry_marketcap', engine, index=False, if_exists='replace')"
   ],
   "outputs": [
    {
     "output_type": "stream",
     "name": "stdout",
     "text": [
      "2021-08-09 20:33:29,788 INFO sqlalchemy.engine.Engine PRAGMA main.table_info(\"stock_industry_marketcap\")\n",
      "2021-08-09 20:33:29,788 INFO sqlalchemy.engine.Engine [raw sql] ()\n",
      "2021-08-09 20:33:29,791 INFO sqlalchemy.engine.Engine PRAGMA main.table_info(\"stock_industry_marketcap\")\n",
      "2021-08-09 20:33:29,792 INFO sqlalchemy.engine.Engine [raw sql] ()\n",
      "2021-08-09 20:33:29,794 INFO sqlalchemy.engine.Engine SELECT name FROM sqlite_master WHERE type='table' ORDER BY name\n",
      "2021-08-09 20:33:29,795 INFO sqlalchemy.engine.Engine [raw sql] ()\n",
      "2021-08-09 20:33:29,797 INFO sqlalchemy.engine.Engine PRAGMA main.table_xinfo(\"stock_industry_marketcap\")\n",
      "2021-08-09 20:33:29,797 INFO sqlalchemy.engine.Engine [raw sql] ()\n",
      "2021-08-09 20:33:29,799 INFO sqlalchemy.engine.Engine SELECT sql FROM  (SELECT * FROM sqlite_master UNION ALL   SELECT * FROM sqlite_temp_master) WHERE name = ? AND type = 'table'\n",
      "2021-08-09 20:33:29,799 INFO sqlalchemy.engine.Engine [raw sql] ('stock_industry_marketcap',)\n",
      "2021-08-09 20:33:29,800 INFO sqlalchemy.engine.Engine PRAGMA main.foreign_key_list(\"stock_industry_marketcap\")\n",
      "2021-08-09 20:33:29,801 INFO sqlalchemy.engine.Engine [raw sql] ()\n",
      "2021-08-09 20:33:29,801 INFO sqlalchemy.engine.Engine PRAGMA temp.foreign_key_list(\"stock_industry_marketcap\")\n",
      "2021-08-09 20:33:29,802 INFO sqlalchemy.engine.Engine [raw sql] ()\n",
      "2021-08-09 20:33:29,802 INFO sqlalchemy.engine.Engine SELECT sql FROM  (SELECT * FROM sqlite_master UNION ALL   SELECT * FROM sqlite_temp_master) WHERE name = ? AND type = 'table'\n",
      "2021-08-09 20:33:29,803 INFO sqlalchemy.engine.Engine [raw sql] ('stock_industry_marketcap',)\n",
      "2021-08-09 20:33:29,805 INFO sqlalchemy.engine.Engine PRAGMA main.index_list(\"stock_industry_marketcap\")\n",
      "2021-08-09 20:33:29,805 INFO sqlalchemy.engine.Engine [raw sql] ()\n",
      "2021-08-09 20:33:29,806 INFO sqlalchemy.engine.Engine PRAGMA temp.index_list(\"stock_industry_marketcap\")\n",
      "2021-08-09 20:33:29,807 INFO sqlalchemy.engine.Engine [raw sql] ()\n",
      "2021-08-09 20:33:29,807 INFO sqlalchemy.engine.Engine PRAGMA main.index_list(\"stock_industry_marketcap\")\n",
      "2021-08-09 20:33:29,808 INFO sqlalchemy.engine.Engine [raw sql] ()\n",
      "2021-08-09 20:33:29,809 INFO sqlalchemy.engine.Engine PRAGMA temp.index_list(\"stock_industry_marketcap\")\n",
      "2021-08-09 20:33:29,809 INFO sqlalchemy.engine.Engine [raw sql] ()\n",
      "2021-08-09 20:33:29,810 INFO sqlalchemy.engine.Engine SELECT sql FROM  (SELECT * FROM sqlite_master UNION ALL   SELECT * FROM sqlite_temp_master) WHERE name = ? AND type = 'table'\n",
      "2021-08-09 20:33:29,810 INFO sqlalchemy.engine.Engine [raw sql] ('stock_industry_marketcap',)\n",
      "2021-08-09 20:33:29,813 INFO sqlalchemy.engine.Engine BEGIN (implicit)\n",
      "2021-08-09 20:33:29,814 INFO sqlalchemy.engine.Engine \n",
      "DROP TABLE stock_industry_marketcap\n",
      "2021-08-09 20:33:29,814 INFO sqlalchemy.engine.Engine [no key 0.00053s] ()\n",
      "2021-08-09 20:33:29,820 INFO sqlalchemy.engine.Engine COMMIT\n",
      "2021-08-09 20:33:29,823 INFO sqlalchemy.engine.Engine BEGIN (implicit)\n",
      "2021-08-09 20:33:29,824 INFO sqlalchemy.engine.Engine \n",
      "CREATE TABLE stock_industry_marketcap (\n",
      "\t\"Symbol\" TEXT, \n",
      "\t\"GICS Sector\" TEXT, \n",
      "\t\"Market_Cap\" FLOAT\n",
      ")\n",
      "\n",
      "\n",
      "2021-08-09 20:33:29,824 INFO sqlalchemy.engine.Engine [no key 0.00067s] ()\n",
      "2021-08-09 20:33:29,830 INFO sqlalchemy.engine.Engine COMMIT\n",
      "2021-08-09 20:33:29,832 INFO sqlalchemy.engine.Engine BEGIN (implicit)\n",
      "2021-08-09 20:33:29,836 INFO sqlalchemy.engine.Engine INSERT INTO stock_industry_marketcap (\"Symbol\", \"GICS Sector\", \"Market_Cap\") VALUES (?, ?, ?)\n",
      "2021-08-09 20:33:29,837 INFO sqlalchemy.engine.Engine [generated in 0.00269s] (('MMM', 'Industrials', 114645549056.0), ('ABT', 'Health Care', 216585404416.0), ('ABBV', 'Health Care', 202253746176.0), ('ABMD', 'Health Care', 15696103424.0), ('ACN', 'Information Technology', 204084314112.0), ('ATVI', 'Communication Services', 64106471424.0), ('ADBE', 'Information Technology', 300789432320.0), ('AMD', 'Information Technology', 133560123392.0)  ... displaying 10 of 503 total bound parameter sets ...  ('ZION', 'Financials', 9008241664.0), ('ZTS', 'Health Care', 95845965824.0))\n",
      "2021-08-09 20:33:29,840 INFO sqlalchemy.engine.Engine COMMIT\n"
     ]
    }
   ],
   "metadata": {}
  },
  {
   "cell_type": "code",
   "execution_count": 5,
   "source": [
    "engine.table_names()"
   ],
   "outputs": [
    {
     "output_type": "stream",
     "name": "stdout",
     "text": [
      "2021-08-09 20:33:30,337 INFO sqlalchemy.engine.Engine SELECT name FROM sqlite_master WHERE type='table' ORDER BY name\n",
      "2021-08-09 20:33:30,338 INFO sqlalchemy.engine.Engine [raw sql] ()\n"
     ]
    },
    {
     "output_type": "stream",
     "name": "stderr",
     "text": [
      "C:\\Users\\bbish\\anaconda3\\envs\\dev\\lib\\site-packages\\ipykernel_launcher.py:1: SADeprecationWarning: The Engine.table_names() method is deprecated and will be removed in a future release.  Please refer to Inspector.get_table_names(). (deprecated since: 1.4)\n",
      "  \"\"\"Entry point for launching an IPython kernel.\n"
     ]
    },
    {
     "output_type": "execute_result",
     "data": {
      "text/plain": [
       "['stock_industry_marketcap']"
      ]
     },
     "metadata": {},
     "execution_count": 5
    }
   ],
   "metadata": {}
  },
  {
   "cell_type": "code",
   "execution_count": 6,
   "source": [
    "sql_stock_df = pd.read_sql_table('stock_industry_marketcap', con=engine)\r\n",
    "\r\n",
    "sql_stock_df.head()"
   ],
   "outputs": [
    {
     "output_type": "stream",
     "name": "stdout",
     "text": [
      "2021-08-09 20:33:30,408 INFO sqlalchemy.engine.Engine SELECT name FROM sqlite_master WHERE type='table' ORDER BY name\n",
      "2021-08-09 20:33:30,410 INFO sqlalchemy.engine.Engine [raw sql] ()\n",
      "2021-08-09 20:33:30,413 INFO sqlalchemy.engine.Engine SELECT name FROM sqlite_master WHERE type='view' ORDER BY name\n",
      "2021-08-09 20:33:30,414 INFO sqlalchemy.engine.Engine [raw sql] ()\n",
      "2021-08-09 20:33:30,415 INFO sqlalchemy.engine.Engine PRAGMA main.table_xinfo(\"stock_industry_marketcap\")\n",
      "2021-08-09 20:33:30,416 INFO sqlalchemy.engine.Engine [raw sql] ()\n",
      "2021-08-09 20:33:30,417 INFO sqlalchemy.engine.Engine SELECT sql FROM  (SELECT * FROM sqlite_master UNION ALL   SELECT * FROM sqlite_temp_master) WHERE name = ? AND type = 'table'\n",
      "2021-08-09 20:33:30,417 INFO sqlalchemy.engine.Engine [raw sql] ('stock_industry_marketcap',)\n",
      "2021-08-09 20:33:30,418 INFO sqlalchemy.engine.Engine PRAGMA main.foreign_key_list(\"stock_industry_marketcap\")\n",
      "2021-08-09 20:33:30,419 INFO sqlalchemy.engine.Engine [raw sql] ()\n",
      "2021-08-09 20:33:30,419 INFO sqlalchemy.engine.Engine PRAGMA temp.foreign_key_list(\"stock_industry_marketcap\")\n",
      "2021-08-09 20:33:30,419 INFO sqlalchemy.engine.Engine [raw sql] ()\n",
      "2021-08-09 20:33:30,420 INFO sqlalchemy.engine.Engine SELECT sql FROM  (SELECT * FROM sqlite_master UNION ALL   SELECT * FROM sqlite_temp_master) WHERE name = ? AND type = 'table'\n",
      "2021-08-09 20:33:30,420 INFO sqlalchemy.engine.Engine [raw sql] ('stock_industry_marketcap',)\n",
      "2021-08-09 20:33:30,421 INFO sqlalchemy.engine.Engine PRAGMA main.index_list(\"stock_industry_marketcap\")\n",
      "2021-08-09 20:33:30,421 INFO sqlalchemy.engine.Engine [raw sql] ()\n",
      "2021-08-09 20:33:30,422 INFO sqlalchemy.engine.Engine PRAGMA temp.index_list(\"stock_industry_marketcap\")\n",
      "2021-08-09 20:33:30,422 INFO sqlalchemy.engine.Engine [raw sql] ()\n",
      "2021-08-09 20:33:30,422 INFO sqlalchemy.engine.Engine PRAGMA main.index_list(\"stock_industry_marketcap\")\n",
      "2021-08-09 20:33:30,423 INFO sqlalchemy.engine.Engine [raw sql] ()\n",
      "2021-08-09 20:33:30,423 INFO sqlalchemy.engine.Engine PRAGMA temp.index_list(\"stock_industry_marketcap\")\n",
      "2021-08-09 20:33:30,423 INFO sqlalchemy.engine.Engine [raw sql] ()\n",
      "2021-08-09 20:33:30,424 INFO sqlalchemy.engine.Engine SELECT sql FROM  (SELECT * FROM sqlite_master UNION ALL   SELECT * FROM sqlite_temp_master) WHERE name = ? AND type = 'table'\n",
      "2021-08-09 20:33:30,424 INFO sqlalchemy.engine.Engine [raw sql] ('stock_industry_marketcap',)\n",
      "2021-08-09 20:33:30,428 INFO sqlalchemy.engine.Engine SELECT stock_industry_marketcap.\"Symbol\", stock_industry_marketcap.\"GICS Sector\", stock_industry_marketcap.\"Market_Cap\" \n",
      "FROM stock_industry_marketcap\n",
      "2021-08-09 20:33:30,430 INFO sqlalchemy.engine.Engine [generated in 0.00157s] ()\n"
     ]
    },
    {
     "output_type": "execute_result",
     "data": {
      "text/plain": [
       "  Symbol             GICS Sector    Market_Cap\n",
       "0    MMM             Industrials  1.146455e+11\n",
       "1    ABT             Health Care  2.165854e+11\n",
       "2   ABBV             Health Care  2.022537e+11\n",
       "3   ABMD             Health Care  1.569610e+10\n",
       "4    ACN  Information Technology  2.040843e+11"
      ],
      "text/html": [
       "<div>\n",
       "<style scoped>\n",
       "    .dataframe tbody tr th:only-of-type {\n",
       "        vertical-align: middle;\n",
       "    }\n",
       "\n",
       "    .dataframe tbody tr th {\n",
       "        vertical-align: top;\n",
       "    }\n",
       "\n",
       "    .dataframe thead th {\n",
       "        text-align: right;\n",
       "    }\n",
       "</style>\n",
       "<table border=\"1\" class=\"dataframe\">\n",
       "  <thead>\n",
       "    <tr style=\"text-align: right;\">\n",
       "      <th></th>\n",
       "      <th>Symbol</th>\n",
       "      <th>GICS Sector</th>\n",
       "      <th>Market_Cap</th>\n",
       "    </tr>\n",
       "  </thead>\n",
       "  <tbody>\n",
       "    <tr>\n",
       "      <th>0</th>\n",
       "      <td>MMM</td>\n",
       "      <td>Industrials</td>\n",
       "      <td>1.146455e+11</td>\n",
       "    </tr>\n",
       "    <tr>\n",
       "      <th>1</th>\n",
       "      <td>ABT</td>\n",
       "      <td>Health Care</td>\n",
       "      <td>2.165854e+11</td>\n",
       "    </tr>\n",
       "    <tr>\n",
       "      <th>2</th>\n",
       "      <td>ABBV</td>\n",
       "      <td>Health Care</td>\n",
       "      <td>2.022537e+11</td>\n",
       "    </tr>\n",
       "    <tr>\n",
       "      <th>3</th>\n",
       "      <td>ABMD</td>\n",
       "      <td>Health Care</td>\n",
       "      <td>1.569610e+10</td>\n",
       "    </tr>\n",
       "    <tr>\n",
       "      <th>4</th>\n",
       "      <td>ACN</td>\n",
       "      <td>Information Technology</td>\n",
       "      <td>2.040843e+11</td>\n",
       "    </tr>\n",
       "  </tbody>\n",
       "</table>\n",
       "</div>"
      ]
     },
     "metadata": {},
     "execution_count": 6
    }
   ],
   "metadata": {}
  },
  {
   "cell_type": "code",
   "execution_count": 7,
   "source": [
    "top5 = \"\"\"\r\n",
    "SELECT Symbol\r\n",
    "FROM stock_industry_marketcap\r\n",
    "WHERE `GICS Sector` = 'Industrials'\r\n",
    "ORDER BY Market_Cap DESC\r\n",
    "LIMIT 5\r\n",
    "\"\"\"\r\n",
    "# UNION all\r\n",
    "# SELECT * FROM stock_industry_marketcap WHERE GICS Sector = 'Utilities' ORDER BY Market_Cap LIMIT 5\r\n",
    "# UNION all\r\n",
    "# SELECT * FROM stock_industry_marketcap WHERE GICS Sector = 'Real Estate' ORDER BY Market_Cap LIMIT 5\r\n",
    "# UNION all\r\n",
    "# SELECT * FROM stock_industry_marketcap WHERE GICS Sector = 'Materials' ORDER BY Market_Cap LIMIT 5\r\n",
    "# UNION all\r\n",
    "# SELECT * FROM stock_industry_marketcap WHERE GICS Sector = 'Information Technology' ORDER BY Market_Cap LIMIT 5\r\n",
    "# UNION all\r\n",
    "# SELECT * FROM stock_industry_marketcap WHERE GICS Sector = 'Health Care' ORDER BY Market_Cap LIMIT 5\r\n",
    "# UNION all\r\n",
    "# SELECT * FROM stock_industry_marketcap WHERE GICS Sector = 'Financials' ORDER BY Market_Cap LIMIT 5\r\n",
    "# UNION all\r\n",
    "# SELECT * FROM stock_industry_marketcap WHERE GICS Sector = 'Energy' ORDER BY Market_Cap LIMIT 5\r\n",
    "# UNION all\r\n",
    "# SELECT * FROM stock_industry_marketcap WHERE GICS Sector = 'Consumer Staples' ORDER BY Market_Cap LIMIT 5\r\n",
    "# UNION all\r\n",
    "# SELECT * FROM stock_industry_marketcap WHERE GICS Sector = 'Consumer Discretionary' ORDER BY Market_Cap LIMIT 5\r\n",
    "# UNION all\r\n",
    "# SELECT * FROM stock_industry_marketcap WHERE GICS Sector = 'Communication Services' ORDER BY Market_Cap LIMIT 5\r\n",
    "# UNION all\r\n",
    "\r\n"
   ],
   "outputs": [],
   "metadata": {}
  },
  {
   "cell_type": "code",
   "execution_count": 13,
   "source": [
    "results = engine.execute(top5)\r\n"
   ],
   "outputs": [
    {
     "output_type": "stream",
     "name": "stdout",
     "text": [
      "2021-08-09 20:37:41,008 INFO sqlalchemy.engine.Engine \n",
      "SELECT Symbol\n",
      "FROM stock_industry_marketcap\n",
      "WHERE `GICS Sector` = 'Industrials'\n",
      "ORDER BY Market_Cap DESC\n",
      "LIMIT 5\n",
      "\n",
      "2021-08-09 20:37:41,009 INFO sqlalchemy.engine.Engine [raw sql] ()\n"
     ]
    }
   ],
   "metadata": {}
  },
  {
   "cell_type": "code",
   "execution_count": 14,
   "source": [
    "data = pd.DataFrame(data=results)\r\n",
    "data"
   ],
   "outputs": [
    {
     "output_type": "execute_result",
     "data": {
      "text/plain": [
       "     0\n",
       "0   GE\n",
       "1  UPS\n",
       "2  HON\n",
       "3  UNP\n",
       "4   BA"
      ],
      "text/html": [
       "<div>\n",
       "<style scoped>\n",
       "    .dataframe tbody tr th:only-of-type {\n",
       "        vertical-align: middle;\n",
       "    }\n",
       "\n",
       "    .dataframe tbody tr th {\n",
       "        vertical-align: top;\n",
       "    }\n",
       "\n",
       "    .dataframe thead th {\n",
       "        text-align: right;\n",
       "    }\n",
       "</style>\n",
       "<table border=\"1\" class=\"dataframe\">\n",
       "  <thead>\n",
       "    <tr style=\"text-align: right;\">\n",
       "      <th></th>\n",
       "      <th>0</th>\n",
       "    </tr>\n",
       "  </thead>\n",
       "  <tbody>\n",
       "    <tr>\n",
       "      <th>0</th>\n",
       "      <td>GE</td>\n",
       "    </tr>\n",
       "    <tr>\n",
       "      <th>1</th>\n",
       "      <td>UPS</td>\n",
       "    </tr>\n",
       "    <tr>\n",
       "      <th>2</th>\n",
       "      <td>HON</td>\n",
       "    </tr>\n",
       "    <tr>\n",
       "      <th>3</th>\n",
       "      <td>UNP</td>\n",
       "    </tr>\n",
       "    <tr>\n",
       "      <th>4</th>\n",
       "      <td>BA</td>\n",
       "    </tr>\n",
       "  </tbody>\n",
       "</table>\n",
       "</div>"
      ]
     },
     "metadata": {},
     "execution_count": 14
    }
   ],
   "metadata": {}
  },
  {
   "cell_type": "code",
   "execution_count": null,
   "source": [
    "# concat sectors_1 sectors_2 sectors_3 to 1 list "
   ],
   "outputs": [],
   "metadata": {}
  }
 ],
 "metadata": {
  "orig_nbformat": 4,
  "language_info": {
   "name": "python",
   "version": "3.7.10",
   "mimetype": "text/x-python",
   "codemirror_mode": {
    "name": "ipython",
    "version": 3
   },
   "pygments_lexer": "ipython3",
   "nbconvert_exporter": "python",
   "file_extension": ".py"
  },
  "kernelspec": {
   "name": "python3",
   "display_name": "Python 3.7.10 64-bit ('dev': conda)"
  },
  "interpreter": {
   "hash": "0bc772866a3affdc5803be489598f529b0192fa171585f2d09392617c9a5b224"
  }
 },
 "nbformat": 4,
 "nbformat_minor": 2
}