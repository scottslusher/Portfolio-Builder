{
 "cells": [
  {
   "cell_type": "code",
   "execution_count": 1,
   "source": [
    "import pandas as pd\r\n",
    "from pathlib import Path\r\n",
    "import sqlalchemy as sql"
   ],
   "outputs": [],
   "metadata": {}
  },
  {
   "cell_type": "code",
   "execution_count": 2,
   "source": [
    "# Create a database connection string that links an in-memory database\r\n",
    "database_connection_string = 'sqlite:///stock_industry_top5.db'\r\n",
    "\r\n",
    "# Database connection object\r\n",
    "engine = sql.create_engine(database_connection_string, echo=True)\r\n",
    "\r\n",
    "# Confirm the engine was created\r\n",
    "engine"
   ],
   "outputs": [
    {
     "output_type": "execute_result",
     "data": {
      "text/plain": [
       "Engine(sqlite:///stock_industry_top5.db)"
      ]
     },
     "metadata": {},
     "execution_count": 2
    }
   ],
   "metadata": {}
  },
  {
   "cell_type": "code",
   "execution_count": 3,
   "source": [
    "stocks_df = pd.read_csv(\r\n",
    "    Path('stock_industry_marketcap.csv')\r\n",
    ")\r\n",
    "\r\n",
    "stocks_df.head()"
   ],
   "outputs": [
    {
     "output_type": "execute_result",
     "data": {
      "text/plain": [
       "  Symbol             GICS Sector    Market_Cap\n",
       "0    MMM             Industrials  1.146455e+11\n",
       "1    ABT             Health Care  2.165854e+11\n",
       "2   ABBV             Health Care  2.022537e+11\n",
       "3   ABMD             Health Care  1.569610e+10\n",
       "4    ACN  Information Technology  2.040843e+11"
      ],
      "text/html": [
       "<div>\n",
       "<style scoped>\n",
       "    .dataframe tbody tr th:only-of-type {\n",
       "        vertical-align: middle;\n",
       "    }\n",
       "\n",
       "    .dataframe tbody tr th {\n",
       "        vertical-align: top;\n",
       "    }\n",
       "\n",
       "    .dataframe thead th {\n",
       "        text-align: right;\n",
       "    }\n",
       "</style>\n",
       "<table border=\"1\" class=\"dataframe\">\n",
       "  <thead>\n",
       "    <tr style=\"text-align: right;\">\n",
       "      <th></th>\n",
       "      <th>Symbol</th>\n",
       "      <th>GICS Sector</th>\n",
       "      <th>Market_Cap</th>\n",
       "    </tr>\n",
       "  </thead>\n",
       "  <tbody>\n",
       "    <tr>\n",
       "      <th>0</th>\n",
       "      <td>MMM</td>\n",
       "      <td>Industrials</td>\n",
       "      <td>1.146455e+11</td>\n",
       "    </tr>\n",
       "    <tr>\n",
       "      <th>1</th>\n",
       "      <td>ABT</td>\n",
       "      <td>Health Care</td>\n",
       "      <td>2.165854e+11</td>\n",
       "    </tr>\n",
       "    <tr>\n",
       "      <th>2</th>\n",
       "      <td>ABBV</td>\n",
       "      <td>Health Care</td>\n",
       "      <td>2.022537e+11</td>\n",
       "    </tr>\n",
       "    <tr>\n",
       "      <th>3</th>\n",
       "      <td>ABMD</td>\n",
       "      <td>Health Care</td>\n",
       "      <td>1.569610e+10</td>\n",
       "    </tr>\n",
       "    <tr>\n",
       "      <th>4</th>\n",
       "      <td>ACN</td>\n",
       "      <td>Information Technology</td>\n",
       "      <td>2.040843e+11</td>\n",
       "    </tr>\n",
       "  </tbody>\n",
       "</table>\n",
       "</div>"
      ]
     },
     "metadata": {},
     "execution_count": 3
    }
   ],
   "metadata": {}
  },
  {
   "cell_type": "code",
   "execution_count": 4,
   "source": [
    "stocks_df.to_sql('stock_industry_marketcap', engine, index=False, if_exists='replace')"
   ],
   "outputs": [
    {
     "output_type": "stream",
     "name": "stdout",
     "text": [
      "2021-08-08 21:36:15,411 INFO sqlalchemy.engine.base.Engine SELECT CAST('test plain returns' AS VARCHAR(60)) AS anon_1\n",
      "2021-08-08 21:36:15,416 INFO sqlalchemy.engine.base.Engine ()\n",
      "2021-08-08 21:36:15,417 INFO sqlalchemy.engine.base.Engine SELECT CAST('test unicode returns' AS VARCHAR(60)) AS anon_1\n",
      "2021-08-08 21:36:15,418 INFO sqlalchemy.engine.base.Engine ()\n",
      "2021-08-08 21:36:15,419 INFO sqlalchemy.engine.base.Engine PRAGMA main.table_info(\"stock_industry_marketcap\")\n",
      "2021-08-08 21:36:15,420 INFO sqlalchemy.engine.base.Engine ()\n",
      "2021-08-08 21:36:15,423 INFO sqlalchemy.engine.base.Engine PRAGMA main.table_info(\"stock_industry_marketcap\")\n",
      "2021-08-08 21:36:15,424 INFO sqlalchemy.engine.base.Engine ()\n",
      "2021-08-08 21:36:15,426 INFO sqlalchemy.engine.base.Engine SELECT name FROM sqlite_master WHERE type='table' ORDER BY name\n",
      "2021-08-08 21:36:15,426 INFO sqlalchemy.engine.base.Engine ()\n",
      "2021-08-08 21:36:15,428 INFO sqlalchemy.engine.base.Engine PRAGMA main.table_xinfo(\"stock_industry_marketcap\")\n",
      "2021-08-08 21:36:15,429 INFO sqlalchemy.engine.base.Engine ()\n",
      "2021-08-08 21:36:15,430 INFO sqlalchemy.engine.base.Engine SELECT sql FROM  (SELECT * FROM sqlite_master UNION ALL   SELECT * FROM sqlite_temp_master) WHERE name = ? AND type = 'table'\n",
      "2021-08-08 21:36:15,431 INFO sqlalchemy.engine.base.Engine ('stock_industry_marketcap',)\n",
      "2021-08-08 21:36:15,433 INFO sqlalchemy.engine.base.Engine PRAGMA main.foreign_key_list(\"stock_industry_marketcap\")\n",
      "2021-08-08 21:36:15,434 INFO sqlalchemy.engine.base.Engine ()\n",
      "2021-08-08 21:36:15,435 INFO sqlalchemy.engine.base.Engine PRAGMA temp.foreign_key_list(\"stock_industry_marketcap\")\n",
      "2021-08-08 21:36:15,436 INFO sqlalchemy.engine.base.Engine ()\n",
      "2021-08-08 21:36:15,437 INFO sqlalchemy.engine.base.Engine SELECT sql FROM  (SELECT * FROM sqlite_master UNION ALL   SELECT * FROM sqlite_temp_master) WHERE name = ? AND type = 'table'\n",
      "2021-08-08 21:36:15,437 INFO sqlalchemy.engine.base.Engine ('stock_industry_marketcap',)\n",
      "2021-08-08 21:36:15,440 INFO sqlalchemy.engine.base.Engine PRAGMA main.index_list(\"stock_industry_marketcap\")\n",
      "2021-08-08 21:36:15,440 INFO sqlalchemy.engine.base.Engine ()\n",
      "2021-08-08 21:36:15,442 INFO sqlalchemy.engine.base.Engine PRAGMA temp.index_list(\"stock_industry_marketcap\")\n",
      "2021-08-08 21:36:15,442 INFO sqlalchemy.engine.base.Engine ()\n",
      "2021-08-08 21:36:15,444 INFO sqlalchemy.engine.base.Engine PRAGMA main.index_list(\"stock_industry_marketcap\")\n",
      "2021-08-08 21:36:15,444 INFO sqlalchemy.engine.base.Engine ()\n",
      "2021-08-08 21:36:15,445 INFO sqlalchemy.engine.base.Engine PRAGMA temp.index_list(\"stock_industry_marketcap\")\n",
      "2021-08-08 21:36:15,446 INFO sqlalchemy.engine.base.Engine ()\n",
      "2021-08-08 21:36:15,446 INFO sqlalchemy.engine.base.Engine SELECT sql FROM  (SELECT * FROM sqlite_master UNION ALL   SELECT * FROM sqlite_temp_master) WHERE name = ? AND type = 'table'\n",
      "2021-08-08 21:36:15,446 INFO sqlalchemy.engine.base.Engine ('stock_industry_marketcap',)\n",
      "2021-08-08 21:36:15,450 INFO sqlalchemy.engine.base.Engine \n",
      "DROP TABLE stock_industry_marketcap\n",
      "2021-08-08 21:36:15,451 INFO sqlalchemy.engine.base.Engine ()\n",
      "2021-08-08 21:36:15,456 INFO sqlalchemy.engine.base.Engine COMMIT\n",
      "2021-08-08 21:36:15,459 INFO sqlalchemy.engine.base.Engine \n",
      "CREATE TABLE stock_industry_marketcap (\n",
      "\t\"Symbol\" TEXT, \n",
      "\t\"GICS Sector\" TEXT, \n",
      "\t\"Market_Cap\" FLOAT\n",
      ")\n",
      "\n",
      "\n",
      "2021-08-08 21:36:15,460 INFO sqlalchemy.engine.base.Engine ()\n",
      "2021-08-08 21:36:15,464 INFO sqlalchemy.engine.base.Engine COMMIT\n",
      "2021-08-08 21:36:15,467 INFO sqlalchemy.engine.base.Engine BEGIN (implicit)\n",
      "2021-08-08 21:36:15,471 INFO sqlalchemy.engine.base.Engine INSERT INTO stock_industry_marketcap (\"Symbol\", \"GICS Sector\", \"Market_Cap\") VALUES (?, ?, ?)\n",
      "2021-08-08 21:36:15,471 INFO sqlalchemy.engine.base.Engine (('MMM', 'Industrials', 114645549056.0), ('ABT', 'Health Care', 216585404416.0), ('ABBV', 'Health Care', 202253746176.0), ('ABMD', 'Health Care', 15696103424.0), ('ACN', 'Information Technology', 204084314112.0), ('ATVI', 'Communication Services', 64106471424.0), ('ADBE', 'Information Technology', 300789432320.0), ('AMD', 'Information Technology', 133560123392.0)  ... displaying 10 of 503 total bound parameter sets ...  ('ZION', 'Financials', 9008241664.0), ('ZTS', 'Health Care', 95845965824.0))\n",
      "2021-08-08 21:36:15,474 INFO sqlalchemy.engine.base.Engine COMMIT\n"
     ]
    }
   ],
   "metadata": {}
  },
  {
   "cell_type": "code",
   "execution_count": 5,
   "source": [
    "engine.table_names()"
   ],
   "outputs": [
    {
     "output_type": "stream",
     "name": "stdout",
     "text": [
      "2021-08-08 21:36:15,994 INFO sqlalchemy.engine.base.Engine SELECT name FROM sqlite_master WHERE type='table' ORDER BY name\n",
      "2021-08-08 21:36:15,995 INFO sqlalchemy.engine.base.Engine ()\n"
     ]
    },
    {
     "output_type": "execute_result",
     "data": {
      "text/plain": [
       "['stock_industry_marketcap']"
      ]
     },
     "metadata": {},
     "execution_count": 5
    }
   ],
   "metadata": {}
  },
  {
   "cell_type": "code",
   "execution_count": 6,
   "source": [
    "sql_stock_df = pd.read_sql_table('stock_industry_marketcap', con=engine)\r\n",
    "\r\n",
    "sql_stock_df.head()"
   ],
   "outputs": [
    {
     "output_type": "stream",
     "name": "stdout",
     "text": [
      "2021-08-08 21:36:16,057 INFO sqlalchemy.engine.base.Engine SELECT name FROM sqlite_master WHERE type='table' ORDER BY name\n",
      "2021-08-08 21:36:16,061 INFO sqlalchemy.engine.base.Engine ()\n",
      "2021-08-08 21:36:16,063 INFO sqlalchemy.engine.base.Engine SELECT name FROM sqlite_master WHERE type='view' ORDER BY name\n",
      "2021-08-08 21:36:16,064 INFO sqlalchemy.engine.base.Engine ()\n",
      "2021-08-08 21:36:16,065 INFO sqlalchemy.engine.base.Engine PRAGMA main.table_xinfo(\"stock_industry_marketcap\")\n",
      "2021-08-08 21:36:16,066 INFO sqlalchemy.engine.base.Engine ()\n",
      "2021-08-08 21:36:16,068 INFO sqlalchemy.engine.base.Engine SELECT sql FROM  (SELECT * FROM sqlite_master UNION ALL   SELECT * FROM sqlite_temp_master) WHERE name = ? AND type = 'table'\n",
      "2021-08-08 21:36:16,069 INFO sqlalchemy.engine.base.Engine ('stock_industry_marketcap',)\n",
      "2021-08-08 21:36:16,071 INFO sqlalchemy.engine.base.Engine PRAGMA main.foreign_key_list(\"stock_industry_marketcap\")\n",
      "2021-08-08 21:36:16,072 INFO sqlalchemy.engine.base.Engine ()\n",
      "2021-08-08 21:36:16,073 INFO sqlalchemy.engine.base.Engine PRAGMA temp.foreign_key_list(\"stock_industry_marketcap\")\n",
      "2021-08-08 21:36:16,073 INFO sqlalchemy.engine.base.Engine ()\n",
      "2021-08-08 21:36:16,074 INFO sqlalchemy.engine.base.Engine SELECT sql FROM  (SELECT * FROM sqlite_master UNION ALL   SELECT * FROM sqlite_temp_master) WHERE name = ? AND type = 'table'\n",
      "2021-08-08 21:36:16,075 INFO sqlalchemy.engine.base.Engine ('stock_industry_marketcap',)\n",
      "2021-08-08 21:36:16,077 INFO sqlalchemy.engine.base.Engine PRAGMA main.index_list(\"stock_industry_marketcap\")\n",
      "2021-08-08 21:36:16,079 INFO sqlalchemy.engine.base.Engine ()\n",
      "2021-08-08 21:36:16,081 INFO sqlalchemy.engine.base.Engine PRAGMA temp.index_list(\"stock_industry_marketcap\")\n",
      "2021-08-08 21:36:16,082 INFO sqlalchemy.engine.base.Engine ()\n",
      "2021-08-08 21:36:16,083 INFO sqlalchemy.engine.base.Engine PRAGMA main.index_list(\"stock_industry_marketcap\")\n",
      "2021-08-08 21:36:16,084 INFO sqlalchemy.engine.base.Engine ()\n",
      "2021-08-08 21:36:16,084 INFO sqlalchemy.engine.base.Engine PRAGMA temp.index_list(\"stock_industry_marketcap\")\n",
      "2021-08-08 21:36:16,085 INFO sqlalchemy.engine.base.Engine ()\n",
      "2021-08-08 21:36:16,086 INFO sqlalchemy.engine.base.Engine SELECT sql FROM  (SELECT * FROM sqlite_master UNION ALL   SELECT * FROM sqlite_temp_master) WHERE name = ? AND type = 'table'\n",
      "2021-08-08 21:36:16,087 INFO sqlalchemy.engine.base.Engine ('stock_industry_marketcap',)\n",
      "2021-08-08 21:36:16,091 INFO sqlalchemy.engine.base.OptionEngine SELECT stock_industry_marketcap.\"Symbol\", stock_industry_marketcap.\"GICS Sector\", stock_industry_marketcap.\"Market_Cap\" \n",
      "FROM stock_industry_marketcap\n",
      "2021-08-08 21:36:16,092 INFO sqlalchemy.engine.base.OptionEngine ()\n"
     ]
    },
    {
     "output_type": "execute_result",
     "data": {
      "text/plain": [
       "  Symbol             GICS Sector    Market_Cap\n",
       "0    MMM             Industrials  1.146455e+11\n",
       "1    ABT             Health Care  2.165854e+11\n",
       "2   ABBV             Health Care  2.022537e+11\n",
       "3   ABMD             Health Care  1.569610e+10\n",
       "4    ACN  Information Technology  2.040843e+11"
      ],
      "text/html": [
       "<div>\n",
       "<style scoped>\n",
       "    .dataframe tbody tr th:only-of-type {\n",
       "        vertical-align: middle;\n",
       "    }\n",
       "\n",
       "    .dataframe tbody tr th {\n",
       "        vertical-align: top;\n",
       "    }\n",
       "\n",
       "    .dataframe thead th {\n",
       "        text-align: right;\n",
       "    }\n",
       "</style>\n",
       "<table border=\"1\" class=\"dataframe\">\n",
       "  <thead>\n",
       "    <tr style=\"text-align: right;\">\n",
       "      <th></th>\n",
       "      <th>Symbol</th>\n",
       "      <th>GICS Sector</th>\n",
       "      <th>Market_Cap</th>\n",
       "    </tr>\n",
       "  </thead>\n",
       "  <tbody>\n",
       "    <tr>\n",
       "      <th>0</th>\n",
       "      <td>MMM</td>\n",
       "      <td>Industrials</td>\n",
       "      <td>1.146455e+11</td>\n",
       "    </tr>\n",
       "    <tr>\n",
       "      <th>1</th>\n",
       "      <td>ABT</td>\n",
       "      <td>Health Care</td>\n",
       "      <td>2.165854e+11</td>\n",
       "    </tr>\n",
       "    <tr>\n",
       "      <th>2</th>\n",
       "      <td>ABBV</td>\n",
       "      <td>Health Care</td>\n",
       "      <td>2.022537e+11</td>\n",
       "    </tr>\n",
       "    <tr>\n",
       "      <th>3</th>\n",
       "      <td>ABMD</td>\n",
       "      <td>Health Care</td>\n",
       "      <td>1.569610e+10</td>\n",
       "    </tr>\n",
       "    <tr>\n",
       "      <th>4</th>\n",
       "      <td>ACN</td>\n",
       "      <td>Information Technology</td>\n",
       "      <td>2.040843e+11</td>\n",
       "    </tr>\n",
       "  </tbody>\n",
       "</table>\n",
       "</div>"
      ]
     },
     "metadata": {},
     "execution_count": 6
    }
   ],
   "metadata": {}
  },
  {
   "cell_type": "code",
   "execution_count": 30,
   "source": [
    "top5 = \"\"\"\r\n",
    "SELECT Symbol, `GICS Sector`, Market_Cap\r\n",
    "FROM stock_industry_marketcap\r\n",
    "WHERE `GICS Sector` = 'Industrials'\r\n",
    "ORDER BY Market_Cap DESC\r\n",
    "LIMIT 5\r\n",
    "\"\"\"\r\n",
    "# UNION all\r\n",
    "# SELECT * FROM stock_industry_marketcap WHERE GICS Sector = 'Utilities' ORDER BY Market_Cap LIMIT 5\r\n",
    "# UNION all\r\n",
    "# SELECT * FROM stock_industry_marketcap WHERE GICS Sector = 'Real Estate' ORDER BY Market_Cap LIMIT 5\r\n",
    "# UNION all\r\n",
    "# SELECT * FROM stock_industry_marketcap WHERE GICS Sector = 'Materials' ORDER BY Market_Cap LIMIT 5\r\n",
    "# UNION all\r\n",
    "# SELECT * FROM stock_industry_marketcap WHERE GICS Sector = 'Information Technology' ORDER BY Market_Cap LIMIT 5\r\n",
    "# UNION all\r\n",
    "# SELECT * FROM stock_industry_marketcap WHERE GICS Sector = 'Health Care' ORDER BY Market_Cap LIMIT 5\r\n",
    "# UNION all\r\n",
    "# SELECT * FROM stock_industry_marketcap WHERE GICS Sector = 'Financials' ORDER BY Market_Cap LIMIT 5\r\n",
    "# UNION all\r\n",
    "# SELECT * FROM stock_industry_marketcap WHERE GICS Sector = 'Energy' ORDER BY Market_Cap LIMIT 5\r\n",
    "# UNION all\r\n",
    "# SELECT * FROM stock_industry_marketcap WHERE GICS Sector = 'Consumer Staples' ORDER BY Market_Cap LIMIT 5\r\n",
    "# UNION all\r\n",
    "# SELECT * FROM stock_industry_marketcap WHERE GICS Sector = 'Consumer Discretionary' ORDER BY Market_Cap LIMIT 5\r\n",
    "# UNION all\r\n",
    "# SELECT * FROM stock_industry_marketcap WHERE GICS Sector = 'Communication Services' ORDER BY Market_Cap LIMIT 5\r\n",
    "# UNION all\r\n",
    "\r\n"
   ],
   "outputs": [],
   "metadata": {}
  },
  {
   "cell_type": "code",
   "execution_count": 31,
   "source": [
    "results = engine.execute(top5)\r\n"
   ],
   "outputs": [
    {
     "output_type": "stream",
     "name": "stdout",
     "text": [
      "2021-08-08 22:26:04,717 INFO sqlalchemy.engine.base.Engine \n",
      "SELECT Symbol, `GICS Sector`, Market_Cap\n",
      "FROM stock_industry_marketcap\n",
      "WHERE `GICS Sector` = 'Industrials'\n",
      "ORDER BY Market_Cap DESC\n",
      "LIMIT 5\n",
      "\n",
      "2021-08-08 22:26:04,718 INFO sqlalchemy.engine.base.Engine ()\n"
     ]
    }
   ],
   "metadata": {}
  },
  {
   "cell_type": "code",
   "execution_count": 32,
   "source": [
    "list(results)"
   ],
   "outputs": [
    {
     "output_type": "execute_result",
     "data": {
      "text/plain": [
       "[('GE', 'Industrials', 917543452672.0),\n",
       " ('UPS', 'Industrials', 168798683136.0),\n",
       " ('HON', 'Industrials', 159525617664.0),\n",
       " ('UNP', 'Industrials', 146478809088.0),\n",
       " ('BA', 'Industrials', 135284097024.0)]"
      ]
     },
     "metadata": {},
     "execution_count": 32
    }
   ],
   "metadata": {}
  },
  {
   "cell_type": "code",
   "execution_count": null,
   "source": [],
   "outputs": [],
   "metadata": {}
  }
 ],
 "metadata": {
  "orig_nbformat": 4,
  "language_info": {
   "name": "python",
   "version": "3.7.9",
   "mimetype": "text/x-python",
   "codemirror_mode": {
    "name": "ipython",
    "version": 3
   },
   "pygments_lexer": "ipython3",
   "nbconvert_exporter": "python",
   "file_extension": ".py"
  },
  "kernelspec": {
   "name": "python3",
   "display_name": "Python 3.7.9 64-bit ('dev': conda)"
  },
  "interpreter": {
   "hash": "495ccf4d1983483e4ef5ecb604ad059e9e63ef3705f6ce6119008c8aa5b25d48"
  }
 },
 "nbformat": 4,
 "nbformat_minor": 2
}