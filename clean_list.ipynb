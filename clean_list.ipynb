{
 "cells": [
  {
   "cell_type": "code",
   "execution_count": 1,
   "source": [
    "import pandas as pd\r\n",
    "import sqlalchemy as sql\r\n",
    "import os\r\n",
    "import questionary\r\n",
    "import yfinance as yf\r\n",
    "from pathlib import Path\r\n",
    "import csv\r\n",
    "import fire\r\n",
    "import requests\r\n",
    "import numpy as np\r\n",
    "import matplotlib.pyplot as plt\r\n",
    "import scipy.optimize as optimization\r\n",
    "import datetime as dt\r\n",
    "from datetime import date"
   ],
   "outputs": [],
   "metadata": {}
  },
  {
   "cell_type": "code",
   "execution_count": 11,
   "source": [
    "list_1 = [('GE',), ('UPS',), ('HON',), ('UNP',), ('BA',)]"
   ],
   "outputs": [],
   "metadata": {}
  },
  {
   "cell_type": "code",
   "execution_count": 12,
   "source": [
    "list_1"
   ],
   "outputs": [
    {
     "output_type": "execute_result",
     "data": {
      "text/plain": [
       "[('GE',), ('UPS',), ('HON',), ('UNP',), ('BA',)]"
      ]
     },
     "metadata": {},
     "execution_count": 12
    }
   ],
   "metadata": {}
  },
  {
   "cell_type": "code",
   "execution_count": 13,
   "source": [
    "def clean_stock_list(list_1):\r\n",
    "    clean_stocks = []\r\n",
    "    for ch in [\"(\",\",)\"]:\r\n",
    "        if ch in list_1:\r\n",
    "            stocks = stocks.replace(ch,\"\")\r\n",
    "            clean_stocks.append(stocks)\r\n",
    "    return clean_stocks"
   ],
   "outputs": [],
   "metadata": {}
  },
  {
   "cell_type": "code",
   "execution_count": 14,
   "source": [
    "clean_stock_list(list_1)"
   ],
   "outputs": [
    {
     "output_type": "execute_result",
     "data": {
      "text/plain": [
       "[]"
      ]
     },
     "metadata": {},
     "execution_count": 14
    }
   ],
   "metadata": {}
  },
  {
   "cell_type": "code",
   "execution_count": null,
   "source": [],
   "outputs": [],
   "metadata": {}
  }
 ],
 "metadata": {
  "orig_nbformat": 4,
  "language_info": {
   "name": "python",
   "version": "3.7.10",
   "mimetype": "text/x-python",
   "codemirror_mode": {
    "name": "ipython",
    "version": 3
   },
   "pygments_lexer": "ipython3",
   "nbconvert_exporter": "python",
   "file_extension": ".py"
  },
  "kernelspec": {
   "name": "python3",
   "display_name": "Python 3.7.10 64-bit ('dev': conda)"
  },
  "interpreter": {
   "hash": "0bc772866a3affdc5803be489598f529b0192fa171585f2d09392617c9a5b224"
  }
 },
 "nbformat": 4,
 "nbformat_minor": 2
}