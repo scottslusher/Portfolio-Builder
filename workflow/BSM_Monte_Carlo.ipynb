{
 "cells": [
  {
   "cell_type": "code",
   "execution_count": 1,
   "source": [
    "import numpy as np"
   ],
   "outputs": [],
   "metadata": {}
  },
  {
   "cell_type": "code",
   "execution_count": 2,
   "source": [
    "class OptionPricing:\r\n",
    "\r\n",
    "    def __init__(self, S0, E, T, rf, sigma, iterations):\r\n",
    "        self.S0 = S0\r\n",
    "        self.E = E\r\n",
    "        self.T = T\r\n",
    "        self.rf = rf\r\n",
    "        self.sigma = sigma\r\n",
    "        self.iterations = iterations\r\n",
    "\r\n",
    "\r\n",
    "    def call_option_simulation(self):\r\n",
    "        # we have 2 columns: first with 0s the second column will store the payoff\r\n",
    "        # we need th efirst column of 0s: payoff function is max(0,S-E) for call option\r\n",
    "        option_data = np.zeros([self.iterations, 2])\r\n",
    "\r\n",
    "        # deminsions: 1 dimensional array with as many items as the iterations\r\n",
    "        rand = np.random.normal(0, 1, [1, self.iterations])\r\n",
    "\r\n",
    "        # equation for the S(t) stock price at T\r\n",
    "        stock_price = self.S0 * np.exp(self.T * (self.rf - 0.5 * self.sigma **2) + self.sigma * np.sqrt(self.T) * rand)\r\n",
    "\r\n",
    "        # we need S-E because we have to calculate the max(S-E,0)\r\n",
    "        option_data[:,1] = stock_price - self.E\r\n",
    "\r\n",
    "        # average for the Monte-Carlo simulation\r\n",
    "        # max() returns the max(0, S-E) according to the formula\r\n",
    "        # THIS IS THE AVERAGE VALUE\r\n",
    "        average = np.sum(np.amax(option_data, axis=1)) / float(self.iterations)\r\n",
    "\r\n",
    "        # have to use the exp(-rT) discount factor\r\n",
    "        return np.exp(-1.0 * self.rf * self.T) * average\r\n",
    "\r\n",
    "\r\n",
    "    def put_option_simulation(self):\r\n",
    "        # we have 2 columns: first with 0s the second column will store the payoff\r\n",
    "        # we need th efirst column of 0s: payoff function is max(0,S-E) for call option\r\n",
    "        option_data = np.zeros([self.iterations, 2])\r\n",
    "\r\n",
    "        # deminsions: 1 dimensional array with as many items as the iterations\r\n",
    "        rand = np.random.normal(0, 1, [1, self.iterations])\r\n",
    "\r\n",
    "        # equation for the S(t) stock price at T\r\n",
    "        stock_price = self.S0 * np.exp(self.T * (self.rf - 0.5 * self.sigma **2) + self.sigma * np.sqrt(self.T) * rand)\r\n",
    "\r\n",
    "        # we need S-E because we have to calculate the max(S-E,0)\r\n",
    "        option_data[:,1] = self.E - stock_price\r\n",
    "\r\n",
    "        # average for the Monte-Carlo simulation\r\n",
    "        # max() returns the max(0, S-E) according to the formula\r\n",
    "        # THIS IS THE AVERAGE VALUE\r\n",
    "        average = np.sum(np.amax(option_data, axis=1)) / float(self.iterations)\r\n",
    "\r\n",
    "        # have to use the exp(-rT) discount factor\r\n",
    "        return np.exp(-1.0 * self.rf * self.T) * average\r\n"
   ],
   "outputs": [],
   "metadata": {}
  },
  {
   "cell_type": "code",
   "execution_count": 3,
   "source": [
    "if __name__ == '__main__':\r\n",
    "    model = OptionPricing(100, 100, 1, 0.05, 0.2, 10000)\r\n",
    "    # model.call_option_simulation()\r\n",
    "    print('Value of the call option is $%.2f' % model.call_option_simulation())\r\n",
    "    print('Value of the put option is $%.2f' % model.put_option_simulation())"
   ],
   "outputs": [
    {
     "output_type": "stream",
     "name": "stdout",
     "text": [
      "Value of the call option is $10.34\n",
      "Value of the put option is $5.52\n"
     ]
    }
   ],
   "metadata": {}
  },
  {
   "cell_type": "code",
   "execution_count": null,
   "source": [],
   "outputs": [],
   "metadata": {}
  }
 ],
 "metadata": {
  "orig_nbformat": 4,
  "language_info": {
   "name": "python",
   "version": "3.7.10",
   "mimetype": "text/x-python",
   "codemirror_mode": {
    "name": "ipython",
    "version": 3
   },
   "pygments_lexer": "ipython3",
   "nbconvert_exporter": "python",
   "file_extension": ".py"
  },
  "kernelspec": {
   "name": "python3",
   "display_name": "Python 3.7.10 64-bit ('dev': conda)"
  },
  "interpreter": {
   "hash": "0bc772866a3affdc5803be489598f529b0192fa171585f2d09392617c9a5b224"
  }
 },
 "nbformat": 4,
 "nbformat_minor": 2
}