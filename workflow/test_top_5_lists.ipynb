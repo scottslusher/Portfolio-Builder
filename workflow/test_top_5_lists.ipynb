{
 "cells": [
  {
   "cell_type": "code",
   "execution_count": 2,
   "source": [
    "import pandas as pd\r\n",
    "from pathlib import Path\r\n",
    "import csv"
   ],
   "outputs": [],
   "metadata": {}
  },
  {
   "cell_type": "code",
   "execution_count": 3,
   "source": [
    "def sp500_list(sp500_w_marketcap):\r\n",
    "    sp500_w_marketcap = pd.read_csv(\r\n",
    "        Path(\"../Resources/stock_industry_marketcap.csv\")\r\n",
    "        )\r\n",
    "    return sp500_list\r\n",
    "\r\n",
    "    "
   ],
   "outputs": [],
   "metadata": {}
  },
  {
   "cell_type": "code",
   "execution_count": 4,
   "source": [
    "# TEST - not working\r\n",
    "def filter_sp500_list():\r\n",
    "    industrials_list = []\r\n",
    "    health_care_list = []\r\n",
    "    information_technology_list = []\r\n",
    "    communication_services_list = []\r\n",
    "    consumer_discretionary_list = []\r\n",
    "    utilities_list = []\r\n",
    "    financials_list = []\r\n",
    "    materials_list = []\r\n",
    "    real_estate_list = []\r\n",
    "    consumer_staples_list = []\r\n",
    "    energy_list = []\r\n",
    "\r\n",
    "    sector = \"GICS Sector\"\r\n",
    "    for rows in sp500_list:\r\n",
    "        if rows == \"Industrials\":\r\n",
    "            industrials_list.append(industrials_list)\r\n",
    "        if sector == \"Health Care\":\r\n",
    "            health_care_list.append(health_care_list)\r\n",
    "    \r\n",
    "\r\n"
   ],
   "outputs": [],
   "metadata": {}
  },
  {
   "cell_type": "code",
   "execution_count": 5,
   "source": [
    "#test\r\n",
    "sector = \"GICS Sector\"\r\n",
    "industrials_list = []\r\n",
    "health_care_list = []\r\n",
    "for rows in sp500_list:\r\n",
    "    if rows == \"Industrials\":\r\n",
    "        industrials_list.append(industrials_list)\r\n",
    "    if sector == \"Health Care\":\r\n",
    "        health_care_list.append(health_care_list)\r\n",
    "industrials_list"
   ],
   "outputs": [
    {
     "output_type": "error",
     "ename": "TypeError",
     "evalue": "'function' object is not iterable",
     "traceback": [
      "\u001b[1;31m---------------------------------------------------------------------------\u001b[0m",
      "\u001b[1;31mTypeError\u001b[0m                                 Traceback (most recent call last)",
      "\u001b[1;32m<ipython-input-5-00186dbccc1b>\u001b[0m in \u001b[0;36m<module>\u001b[1;34m\u001b[0m\n\u001b[0;32m      3\u001b[0m \u001b[0mindustrials_list\u001b[0m \u001b[1;33m=\u001b[0m \u001b[1;33m[\u001b[0m\u001b[1;33m]\u001b[0m\u001b[1;33m\u001b[0m\u001b[1;33m\u001b[0m\u001b[0m\n\u001b[0;32m      4\u001b[0m \u001b[0mhealth_care_list\u001b[0m \u001b[1;33m=\u001b[0m \u001b[1;33m[\u001b[0m\u001b[1;33m]\u001b[0m\u001b[1;33m\u001b[0m\u001b[1;33m\u001b[0m\u001b[0m\n\u001b[1;32m----> 5\u001b[1;33m \u001b[1;32mfor\u001b[0m \u001b[0mrows\u001b[0m \u001b[1;32min\u001b[0m \u001b[0msp500_list\u001b[0m\u001b[1;33m:\u001b[0m\u001b[1;33m\u001b[0m\u001b[1;33m\u001b[0m\u001b[0m\n\u001b[0m\u001b[0;32m      6\u001b[0m     \u001b[1;32mif\u001b[0m \u001b[0mrows\u001b[0m \u001b[1;33m==\u001b[0m \u001b[1;34m\"Industrials\"\u001b[0m\u001b[1;33m:\u001b[0m\u001b[1;33m\u001b[0m\u001b[1;33m\u001b[0m\u001b[0m\n\u001b[0;32m      7\u001b[0m         \u001b[0mindustrials_list\u001b[0m\u001b[1;33m.\u001b[0m\u001b[0mappend\u001b[0m\u001b[1;33m(\u001b[0m\u001b[0mindustrials_list\u001b[0m\u001b[1;33m)\u001b[0m\u001b[1;33m\u001b[0m\u001b[1;33m\u001b[0m\u001b[0m\n",
      "\u001b[1;31mTypeError\u001b[0m: 'function' object is not iterable"
     ]
    }
   ],
   "metadata": {}
  },
  {
   "cell_type": "code",
   "execution_count": null,
   "source": [
    "sp500_w_marketcap = pd.read_csv(Path(\"../Resources/stock_industry_marketcap.csv\"))\r\n",
    "sp500_w_marketcap = sp500_w_marketcap.set_index(\"GICS Sector\")\r\n",
    "sp500_w_marketcap"
   ],
   "outputs": [
    {
     "output_type": "execute_result",
     "data": {
      "text/plain": [
       "                       Symbol    Market_Cap\n",
       "GICS Sector                                \n",
       "Industrials               MMM  1.144546e+11\n",
       "Health Care               ABT  2.166563e+11\n",
       "Health Care              ABBV  2.034378e+11\n",
       "Health Care              ABMD  1.581906e+10\n",
       "Information Technology    ACN  2.031204e+11\n",
       "...                       ...           ...\n",
       "Consumer Discretionary    YUM  3.981149e+10\n",
       "Information Technology   ZBRA  3.045970e+10\n",
       "Health Care               ZBH  3.130774e+10\n",
       "Financials               ZION  8.701906e+09\n",
       "Health Care               ZTS  9.677650e+10\n",
       "\n",
       "[503 rows x 2 columns]"
      ],
      "text/html": [
       "<div>\n",
       "<style scoped>\n",
       "    .dataframe tbody tr th:only-of-type {\n",
       "        vertical-align: middle;\n",
       "    }\n",
       "\n",
       "    .dataframe tbody tr th {\n",
       "        vertical-align: top;\n",
       "    }\n",
       "\n",
       "    .dataframe thead th {\n",
       "        text-align: right;\n",
       "    }\n",
       "</style>\n",
       "<table border=\"1\" class=\"dataframe\">\n",
       "  <thead>\n",
       "    <tr style=\"text-align: right;\">\n",
       "      <th></th>\n",
       "      <th>Symbol</th>\n",
       "      <th>Market_Cap</th>\n",
       "    </tr>\n",
       "    <tr>\n",
       "      <th>GICS Sector</th>\n",
       "      <th></th>\n",
       "      <th></th>\n",
       "    </tr>\n",
       "  </thead>\n",
       "  <tbody>\n",
       "    <tr>\n",
       "      <th>Industrials</th>\n",
       "      <td>MMM</td>\n",
       "      <td>1.144546e+11</td>\n",
       "    </tr>\n",
       "    <tr>\n",
       "      <th>Health Care</th>\n",
       "      <td>ABT</td>\n",
       "      <td>2.166563e+11</td>\n",
       "    </tr>\n",
       "    <tr>\n",
       "      <th>Health Care</th>\n",
       "      <td>ABBV</td>\n",
       "      <td>2.034378e+11</td>\n",
       "    </tr>\n",
       "    <tr>\n",
       "      <th>Health Care</th>\n",
       "      <td>ABMD</td>\n",
       "      <td>1.581906e+10</td>\n",
       "    </tr>\n",
       "    <tr>\n",
       "      <th>Information Technology</th>\n",
       "      <td>ACN</td>\n",
       "      <td>2.031204e+11</td>\n",
       "    </tr>\n",
       "    <tr>\n",
       "      <th>...</th>\n",
       "      <td>...</td>\n",
       "      <td>...</td>\n",
       "    </tr>\n",
       "    <tr>\n",
       "      <th>Consumer Discretionary</th>\n",
       "      <td>YUM</td>\n",
       "      <td>3.981149e+10</td>\n",
       "    </tr>\n",
       "    <tr>\n",
       "      <th>Information Technology</th>\n",
       "      <td>ZBRA</td>\n",
       "      <td>3.045970e+10</td>\n",
       "    </tr>\n",
       "    <tr>\n",
       "      <th>Health Care</th>\n",
       "      <td>ZBH</td>\n",
       "      <td>3.130774e+10</td>\n",
       "    </tr>\n",
       "    <tr>\n",
       "      <th>Financials</th>\n",
       "      <td>ZION</td>\n",
       "      <td>8.701906e+09</td>\n",
       "    </tr>\n",
       "    <tr>\n",
       "      <th>Health Care</th>\n",
       "      <td>ZTS</td>\n",
       "      <td>9.677650e+10</td>\n",
       "    </tr>\n",
       "  </tbody>\n",
       "</table>\n",
       "<p>503 rows × 2 columns</p>\n",
       "</div>"
      ]
     },
     "metadata": {},
     "execution_count": 45
    }
   ],
   "metadata": {}
  },
  {
   "cell_type": "code",
   "execution_count": null,
   "source": [
    "sp500_w_marketcap = pd.read_csv(Path(\"../Resources/stock_industry_marketcap.csv\"))\r\n",
    "sp500_w_marketcap = sp500_w_marketcap.set_index(\"GICS Sector\")\r\n",
    "health_care = sp500_w_marketcap.loc[\"Health Care\"]\r\n",
    "health_care_top_5 = health_care.set_index(\"Market_Cap\").sort_values(by=\"Market_Cap\", ascending=False).iloc[0:5]\r\n",
    "health_care_list = health_care_top_5.values.tolist()\r\n",
    "health_care_list"
   ],
   "outputs": [
    {
     "output_type": "execute_result",
     "data": {
      "text/plain": [
       "[['JNJ'], ['UNH'], ['LLY'], ['PFE'], ['DHR']]"
      ]
     },
     "metadata": {},
     "execution_count": 44
    }
   ],
   "metadata": {}
  },
  {
   "cell_type": "code",
   "execution_count": 6,
   "source": [
    "# TEST\r\n",
    "sector = \"GICS Sector\"\r\n",
    "industrials_list = []\r\n",
    "for rows in sp500_list:\r\n",
    "    if sector == \"Industrials\":\r\n",
    "        sp500_list.filter(items=\"Industrials\")\r\n",
    "\r\n"
   ],
   "outputs": [
    {
     "output_type": "error",
     "ename": "TypeError",
     "evalue": "'function' object is not iterable",
     "traceback": [
      "\u001b[1;31m---------------------------------------------------------------------------\u001b[0m",
      "\u001b[1;31mTypeError\u001b[0m                                 Traceback (most recent call last)",
      "\u001b[1;32m<ipython-input-6-a11ac83f9d27>\u001b[0m in \u001b[0;36m<module>\u001b[1;34m\u001b[0m\n\u001b[0;32m      2\u001b[0m \u001b[0msector\u001b[0m \u001b[1;33m=\u001b[0m \u001b[1;34m\"GICS Sector\"\u001b[0m\u001b[1;33m\u001b[0m\u001b[1;33m\u001b[0m\u001b[0m\n\u001b[0;32m      3\u001b[0m \u001b[0mindustrials_list\u001b[0m \u001b[1;33m=\u001b[0m \u001b[1;33m[\u001b[0m\u001b[1;33m]\u001b[0m\u001b[1;33m\u001b[0m\u001b[1;33m\u001b[0m\u001b[0m\n\u001b[1;32m----> 4\u001b[1;33m \u001b[1;32mfor\u001b[0m \u001b[0mrows\u001b[0m \u001b[1;32min\u001b[0m \u001b[0msp500_list\u001b[0m\u001b[1;33m:\u001b[0m\u001b[1;33m\u001b[0m\u001b[1;33m\u001b[0m\u001b[0m\n\u001b[0m\u001b[0;32m      5\u001b[0m     \u001b[1;32mif\u001b[0m \u001b[0msector\u001b[0m \u001b[1;33m==\u001b[0m \u001b[1;34m\"Industrials\"\u001b[0m\u001b[1;33m:\u001b[0m\u001b[1;33m\u001b[0m\u001b[1;33m\u001b[0m\u001b[0m\n\u001b[0;32m      6\u001b[0m         \u001b[0msp500_list\u001b[0m\u001b[1;33m.\u001b[0m\u001b[0mfilter\u001b[0m\u001b[1;33m(\u001b[0m\u001b[0mitems\u001b[0m\u001b[1;33m=\u001b[0m\u001b[1;34m\"Industrials\"\u001b[0m\u001b[1;33m)\u001b[0m\u001b[1;33m\u001b[0m\u001b[1;33m\u001b[0m\u001b[0m\n",
      "\u001b[1;31mTypeError\u001b[0m: 'function' object is not iterable"
     ]
    }
   ],
   "metadata": {}
  },
  {
   "cell_type": "code",
   "execution_count": 7,
   "source": [
    "#TEST\r\n",
    "def run():\r\n",
    "    \r\n",
    "    \"\"\"The main function for running the script\"\"\"\r\n",
    "    # Get a list of the sector names from the wiki html\r\n",
    "    # Be sure to drop duplicate values and capture only unique values.\r\n",
    "    # You will use this list of sector names for the user options in the program.\r\n",
    "    url = 'https://en.wikipedia.org/wiki/List_of_S%26P_500_companies'\r\n",
    "    sp500_html = pd.read_html(url)\r\n",
    "    sp500_html = sp500_html[0]\r\n",
    "    sp500_df = pd.DataFrame(sp500_html)\r\n",
    "    sp500_all_sectors_df = pd.DataFrame(\r\n",
    "        columns=['GICS Sector', 'Symbol'],\r\n",
    "        data=sp500_df)\r\n",
    "    sectors_1 = sp500_all_sectors_df['GICS Sector'].drop_duplicates().to_list()\r\n",
    "    sectors_2 = sp500_all_sectors_df['GICS Sector'].drop_duplicates().to_list()\r\n",
    "    sectors_3 = sp500_all_sectors_df['GICS Sector'].drop_duplicates().to_list()\r\n",
    "    sectors_1 = sectors_1\r\n",
    "    sectors_2 = sectors_2\r\n",
    "    sectors_3 = sectors_3\r\n",
    "    # Create a variable named running and set it to True\r\n",
    "    running = True\r\n",
    "    # While running is `True` call the `sector_interest` function.\r\n",
    "    while running:\r\n",
    "        continue_running = sector_interest(sectors_1, sectors_2, sectors_3, url, sp500_html, sp500_df, sp500_all_sectors_df)\r\n",
    "        if continue_running == 'y':\r\n",
    "            running = True\r\n",
    "        else:\r\n",
    "            running = False\r\n",
    "\r\n",
    "    \r\n",
    "\r\n",
    "# The __main__ loop of the application.\r\n",
    "# It is the entry point for the program.\r\n",
    "if __name__ == \"__main__\":\r\n",
    "    run()\r\n"
   ],
   "outputs": [
    {
     "output_type": "error",
     "ename": "NameError",
     "evalue": "name 'sector_interest' is not defined",
     "traceback": [
      "\u001b[1;31m---------------------------------------------------------------------------\u001b[0m",
      "\u001b[1;31mNameError\u001b[0m                                 Traceback (most recent call last)",
      "\u001b[1;32m<ipython-input-7-fef75a335d83>\u001b[0m in \u001b[0;36m<module>\u001b[1;34m\u001b[0m\n\u001b[0;32m     34\u001b[0m \u001b[1;31m# It is the entry point for the program.\u001b[0m\u001b[1;33m\u001b[0m\u001b[1;33m\u001b[0m\u001b[1;33m\u001b[0m\u001b[0m\n\u001b[0;32m     35\u001b[0m \u001b[1;32mif\u001b[0m \u001b[0m__name__\u001b[0m \u001b[1;33m==\u001b[0m \u001b[1;34m\"__main__\"\u001b[0m\u001b[1;33m:\u001b[0m\u001b[1;33m\u001b[0m\u001b[1;33m\u001b[0m\u001b[0m\n\u001b[1;32m---> 36\u001b[1;33m     \u001b[0mrun\u001b[0m\u001b[1;33m(\u001b[0m\u001b[1;33m)\u001b[0m\u001b[1;33m\u001b[0m\u001b[1;33m\u001b[0m\u001b[0m\n\u001b[0m",
      "\u001b[1;32m<ipython-input-7-fef75a335d83>\u001b[0m in \u001b[0;36mrun\u001b[1;34m()\u001b[0m\n\u001b[0;32m     23\u001b[0m     \u001b[1;31m# While running is `True` call the `sector_interest` function.\u001b[0m\u001b[1;33m\u001b[0m\u001b[1;33m\u001b[0m\u001b[1;33m\u001b[0m\u001b[0m\n\u001b[0;32m     24\u001b[0m     \u001b[1;32mwhile\u001b[0m \u001b[0mrunning\u001b[0m\u001b[1;33m:\u001b[0m\u001b[1;33m\u001b[0m\u001b[1;33m\u001b[0m\u001b[0m\n\u001b[1;32m---> 25\u001b[1;33m         \u001b[0mcontinue_running\u001b[0m \u001b[1;33m=\u001b[0m \u001b[0msector_interest\u001b[0m\u001b[1;33m(\u001b[0m\u001b[0msectors_1\u001b[0m\u001b[1;33m,\u001b[0m \u001b[0msectors_2\u001b[0m\u001b[1;33m,\u001b[0m \u001b[0msectors_3\u001b[0m\u001b[1;33m,\u001b[0m \u001b[0murl\u001b[0m\u001b[1;33m,\u001b[0m \u001b[0msp500_html\u001b[0m\u001b[1;33m,\u001b[0m \u001b[0msp500_df\u001b[0m\u001b[1;33m,\u001b[0m \u001b[0msp500_all_sectors_df\u001b[0m\u001b[1;33m)\u001b[0m\u001b[1;33m\u001b[0m\u001b[1;33m\u001b[0m\u001b[0m\n\u001b[0m\u001b[0;32m     26\u001b[0m         \u001b[1;32mif\u001b[0m \u001b[0mcontinue_running\u001b[0m \u001b[1;33m==\u001b[0m \u001b[1;34m'y'\u001b[0m\u001b[1;33m:\u001b[0m\u001b[1;33m\u001b[0m\u001b[1;33m\u001b[0m\u001b[0m\n\u001b[0;32m     27\u001b[0m             \u001b[0mrunning\u001b[0m \u001b[1;33m=\u001b[0m \u001b[1;32mTrue\u001b[0m\u001b[1;33m\u001b[0m\u001b[1;33m\u001b[0m\u001b[0m\n",
      "\u001b[1;31mNameError\u001b[0m: name 'sector_interest' is not defined"
     ]
    }
   ],
   "metadata": {}
  },
  {
   "cell_type": "markdown",
   "source": [
    "# Sector Lists\r\n",
    "\r\n",
    "['Industrials', 'Health Care', 'Information Technology', 'Communication Services', 'Consumer Discretionary', 'Utilities', 'Financials', 'Materials', 'Real Estate', 'Consumer Staples', 'Energy']"
   ],
   "metadata": {}
  },
  {
   "cell_type": "code",
   "execution_count": null,
   "source": [
    "# industrials_list\r\n",
    "sp500_w_marketcap = pd.read_csv(Path(\"../Resources/stock_industry_marketcap.csv\"))\r\n",
    "sp500_w_marketcap = sp500_w_marketcap.set_index(\"GICS Sector\")\r\n",
    "industrials = sp500_w_marketcap.loc[\"Industrials\"]\r\n",
    "industrials_top_5 = industrials.set_index(\"Market_Cap\").sort_values(by=\"Market_Cap\", ascending=False).iloc[0:5]\r\n",
    "industrials_list = industrials_top_5.values.tolist()\r\n",
    "industrials_list"
   ],
   "outputs": [
    {
     "output_type": "execute_result",
     "data": {
      "text/plain": [
       "[['GE'], ['UPS'], ['HON'], ['UNP'], ['BA']]"
      ]
     },
     "metadata": {},
     "execution_count": 36
    }
   ],
   "metadata": {}
  },
  {
   "cell_type": "code",
   "execution_count": 9,
   "source": [
    "# health_care_list\r\n",
    "sp500_w_marketcap = pd.read_csv(Path(\"../Resources/stock_industry_marketcap.csv\"))\r\n",
    "sp500_w_marketcap = sp500_w_marketcap.set_index(\"GICS Sector\")\r\n",
    "health_care = sp500_w_marketcap.loc[\"Health Care\"]\r\n",
    "health_care_top_5 = health_care.set_index(\"Market_Cap\").sort_values(by=\"Market_Cap\", ascending=False).iloc[0:5]\r\n",
    "health_care_list = health_care_top_5.values.tolist()\r\n",
    "health_care_list"
   ],
   "outputs": [
    {
     "output_type": "execute_result",
     "data": {
      "text/plain": [
       "[['JNJ'], ['UNH'], ['LLY'], ['PFE'], ['DHR']]"
      ]
     },
     "metadata": {},
     "execution_count": 9
    }
   ],
   "metadata": {}
  },
  {
   "cell_type": "code",
   "execution_count": 10,
   "source": [
    "# information_technology_list\r\n",
    "sp500_w_marketcap = pd.read_csv(Path(\"../Resources/stock_industry_marketcap.csv\"))\r\n",
    "sp500_w_marketcap = sp500_w_marketcap.set_index(\"GICS Sector\")\r\n",
    "information_technology = sp500_w_marketcap.loc[\"Information Technology\"]\r\n",
    "information_technology_top_5 = information_technology.set_index(\"Market_Cap\").sort_values(by=\"Market_Cap\", ascending=False).iloc[0:5]\r\n",
    "information_technology_list = information_technology_top_5.values.tolist()\r\n",
    "information_technology_list"
   ],
   "outputs": [
    {
     "output_type": "execute_result",
     "data": {
      "text/plain": [
       "[['AAPL'], ['MSFT'], ['V'], ['MA'], ['PYPL']]"
      ]
     },
     "metadata": {},
     "execution_count": 10
    }
   ],
   "metadata": {}
  },
  {
   "cell_type": "code",
   "execution_count": 11,
   "source": [
    "# communication_services_list\r\n",
    "sp500_w_marketcap = pd.read_csv(Path(\"../Resources/stock_industry_marketcap.csv\"))\r\n",
    "sp500_w_marketcap = sp500_w_marketcap.set_index(\"GICS Sector\")\r\n",
    "communication_services = sp500_w_marketcap.loc[\"Communication Services\"]\r\n",
    "communication_services_top_5 = communication_services.set_index(\"Market_Cap\").sort_values(by=\"Market_Cap\", ascending=False).iloc[0:5]\r\n",
    "communication_services_list = communication_services_top_5.values.tolist()\r\n",
    "communication_services_list"
   ],
   "outputs": [
    {
     "output_type": "execute_result",
     "data": {
      "text/plain": [
       "[['GOOGL'], ['GOOG'], ['FB'], ['DIS'], ['CMCSA']]"
      ]
     },
     "metadata": {},
     "execution_count": 11
    }
   ],
   "metadata": {}
  },
  {
   "cell_type": "code",
   "execution_count": 13,
   "source": [
    "# consumer_discretionary_list\r\n",
    "sp500_w_marketcap = pd.read_csv(Path(\"../Resources/stock_industry_marketcap.csv\"))\r\n",
    "sp500_w_marketcap = sp500_w_marketcap.set_index(\"GICS Sector\")\r\n",
    "consumer_discretionary = sp500_w_marketcap.loc[\"Consumer Discretionary\"]\r\n",
    "consumer_discretionary_top_5 = consumer_discretionary.set_index(\"Market_Cap\").sort_values(by=\"Market_Cap\", ascending=False).iloc[0:5]\r\n",
    "consumer_discretionary_list = consumer_discretionary_top_5.values.tolist()\r\n",
    "consumer_discretionary_list"
   ],
   "outputs": [
    {
     "output_type": "execute_result",
     "data": {
      "text/plain": [
       "[['AMZN'], ['TSLA'], ['HD'], ['NKE'], ['MCD']]"
      ]
     },
     "metadata": {},
     "execution_count": 13
    }
   ],
   "metadata": {}
  },
  {
   "cell_type": "code",
   "execution_count": 14,
   "source": [
    "# consumer_discretionary_list\r\n",
    "sp500_w_marketcap = pd.read_csv(Path(\"../Resources/stock_industry_marketcap.csv\"))\r\n",
    "sp500_w_marketcap = sp500_w_marketcap.set_index(\"GICS Sector\")\r\n",
    "consumer_discretionary = sp500_w_marketcap.loc[\"Consumer Discretionary\"]\r\n",
    "consumer_discretionary_top_5 = consumer_discretionary.set_index(\"Market_Cap\").sort_values(by=\"Market_Cap\", ascending=False).iloc[0:5]\r\n",
    "consumer_discretionary_list = consumer_discretionary_top_5.values.tolist()\r\n",
    "consumer_discretionary_list"
   ],
   "outputs": [
    {
     "output_type": "execute_result",
     "data": {
      "text/plain": [
       "[['AMZN'], ['TSLA'], ['HD'], ['NKE'], ['MCD']]"
      ]
     },
     "metadata": {},
     "execution_count": 14
    }
   ],
   "metadata": {}
  },
  {
   "cell_type": "code",
   "execution_count": 15,
   "source": [
    "# utilities_list\r\n",
    "sp500_w_marketcap = pd.read_csv(Path(\"../Resources/stock_industry_marketcap.csv\"))\r\n",
    "sp500_w_marketcap = sp500_w_marketcap.set_index(\"GICS Sector\")\r\n",
    "utilities = sp500_w_marketcap.loc[\"Utilities\"]\r\n",
    "utilities_top_5 = utilities.set_index(\"Market_Cap\").sort_values(by=\"Market_Cap\", ascending=False).iloc[0:5]\r\n",
    "utilities_list = utilities_top_5.values.tolist()\r\n",
    "utilities_list"
   ],
   "outputs": [
    {
     "output_type": "execute_result",
     "data": {
      "text/plain": [
       "[['NEE'], ['DUK'], ['SO'], ['D'], ['EXC']]"
      ]
     },
     "metadata": {},
     "execution_count": 15
    }
   ],
   "metadata": {}
  },
  {
   "cell_type": "code",
   "execution_count": 16,
   "source": [
    "# financials_list\r\n",
    "sp500_w_marketcap = pd.read_csv(Path(\"../Resources/stock_industry_marketcap.csv\"))\r\n",
    "sp500_w_marketcap = sp500_w_marketcap.set_index(\"GICS Sector\")\r\n",
    "financials = sp500_w_marketcap.loc[\"Financials\"]\r\n",
    "financials_top_5 = financials.set_index(\"Market_Cap\").sort_values(by=\"Market_Cap\", ascending=False).iloc[0:5]\r\n",
    "finanicals_list = financials_top_5.values.tolist()\r\n",
    "finanicals_list"
   ],
   "outputs": [
    {
     "output_type": "execute_result",
     "data": {
      "text/plain": [
       "[['JPM'], ['BAC'], ['WFC'], ['MS'], ['C']]"
      ]
     },
     "metadata": {},
     "execution_count": 16
    }
   ],
   "metadata": {}
  },
  {
   "cell_type": "code",
   "execution_count": 18,
   "source": [
    "# materials_list\r\n",
    "sp500_w_marketcap = pd.read_csv(Path(\"../Resources/stock_industry_marketcap.csv\"))\r\n",
    "sp500_w_marketcap = sp500_w_marketcap.set_index(\"GICS Sector\")\r\n",
    "materials = sp500_w_marketcap.loc[\"Materials\"]\r\n",
    "materials_top_5 = materials.set_index(\"Market_Cap\").sort_values(by=\"Market_Cap\", ascending=False).iloc[0:5]\r\n",
    "materials_list = materials_top_5.values.tolist()\r\n",
    "materials_list"
   ],
   "outputs": [
    {
     "output_type": "execute_result",
     "data": {
      "text/plain": [
       "[['LIN'], ['SHW'], ['APD'], ['ECL'], ['FCX']]"
      ]
     },
     "metadata": {},
     "execution_count": 18
    }
   ],
   "metadata": {}
  },
  {
   "cell_type": "code",
   "execution_count": 19,
   "source": [
    "# consumer_staples_list\r\n",
    "sp500_w_marketcap = pd.read_csv(Path(\"../Resources/stock_industry_marketcap.csv\"))\r\n",
    "sp500_w_marketcap = sp500_w_marketcap.set_index(\"GICS Sector\")\r\n",
    "consumer_staples = sp500_w_marketcap.loc[\"Consumer Staples\"]\r\n",
    "consumer_staples_top_5 = consumer_staples.set_index(\"Market_Cap\").sort_values(by=\"Market_Cap\", ascending=False).iloc[0:5]\r\n",
    "consumer_staples_list = consumer_staples_top_5.values.tolist()\r\n",
    "consumer_staples_list"
   ],
   "outputs": [
    {
     "output_type": "execute_result",
     "data": {
      "text/plain": [
       "[['WMT'], ['PG'], ['KO'], ['PEP'], ['COST']]"
      ]
     },
     "metadata": {},
     "execution_count": 19
    }
   ],
   "metadata": {}
  },
  {
   "cell_type": "code",
   "execution_count": 20,
   "source": [
    "# real_estate_list\r\n",
    "sp500_w_marketcap = pd.read_csv(Path(\"../Resources/stock_industry_marketcap.csv\"))\r\n",
    "sp500_w_marketcap = sp500_w_marketcap.set_index(\"GICS Sector\")\r\n",
    "real_estate = sp500_w_marketcap.loc[\"Real Estate\"]\r\n",
    "real_estate_top_5 = real_estate.set_index(\"Market_Cap\").sort_values(by=\"Market_Cap\", ascending=False).iloc[0:5]\r\n",
    "real_estate_list = real_estate_top_5.values.tolist()\r\n",
    "real_estate_list"
   ],
   "outputs": [
    {
     "output_type": "execute_result",
     "data": {
      "text/plain": [
       "[['AMT'], ['PLD'], ['CCI'], ['EQIX'], ['PSA']]"
      ]
     },
     "metadata": {},
     "execution_count": 20
    }
   ],
   "metadata": {}
  },
  {
   "cell_type": "code",
   "execution_count": 21,
   "source": [
    "# energy_list\r\n",
    "sp500_w_marketcap = pd.read_csv(Path(\"../Resources/stock_industry_marketcap.csv\"))\r\n",
    "sp500_w_marketcap = sp500_w_marketcap.set_index(\"GICS Sector\")\r\n",
    "energy = sp500_w_marketcap.loc[\"Energy\"]\r\n",
    "energy_top_5 = energy.set_index(\"Market_Cap\").sort_values(by=\"Market_Cap\", ascending=False).iloc[0:5]\r\n",
    "energy_list = energy_top_5.values.tolist()\r\n",
    "energy_list"
   ],
   "outputs": [
    {
     "output_type": "execute_result",
     "data": {
      "text/plain": [
       "[['XOM'], ['CVX'], ['COP'], ['EOG'], ['SLB']]"
      ]
     },
     "metadata": {},
     "execution_count": 21
    }
   ],
   "metadata": {}
  },
  {
   "cell_type": "code",
   "execution_count": null,
   "source": [],
   "outputs": [],
   "metadata": {}
  }
 ],
 "metadata": {
  "orig_nbformat": 4,
  "language_info": {
   "name": "python",
   "version": "3.7.10",
   "mimetype": "text/x-python",
   "codemirror_mode": {
    "name": "ipython",
    "version": 3
   },
   "pygments_lexer": "ipython3",
   "nbconvert_exporter": "python",
   "file_extension": ".py"
  },
  "kernelspec": {
   "name": "python3",
   "display_name": "Python 3.7.10 64-bit ('dev': conda)"
  },
  "interpreter": {
   "hash": "0bc772866a3affdc5803be489598f529b0192fa171585f2d09392617c9a5b224"
  }
 },
 "nbformat": 4,
 "nbformat_minor": 2
}