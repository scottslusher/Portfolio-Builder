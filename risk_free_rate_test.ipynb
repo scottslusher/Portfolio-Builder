{
 "cells": [
  {
   "cell_type": "code",
   "execution_count": 13,
   "source": [
    "import numpy as np\r\n",
    "import pandas as pd\r\n",
    "import requests\r\n",
    "import json\r\n",
    "from datetime import date\r\n",
    "from dotenv import load_dotenv\r\n",
    "import os\r\n",
    "\r\n",
    "today = date.today()"
   ],
   "outputs": [],
   "metadata": {}
  },
  {
   "cell_type": "code",
   "execution_count": 16,
   "source": [
    "quandl_api_key = os.getenv(\"QUANDL_API_KEY\")"
   ],
   "outputs": [],
   "metadata": {}
  },
  {
   "cell_type": "code",
   "execution_count": 17,
   "source": [
    "type(quandl_api_key)"
   ],
   "outputs": [
    {
     "output_type": "execute_result",
     "data": {
      "text/plain": [
       "NoneType"
      ]
     },
     "metadata": {},
     "execution_count": 17
    }
   ],
   "metadata": {}
  },
  {
   "cell_type": "code",
   "execution_count": null,
   "source": [],
   "outputs": [],
   "metadata": {}
  }
 ],
 "metadata": {
  "orig_nbformat": 4,
  "language_info": {
   "name": "python",
   "version": "3.7.10",
   "mimetype": "text/x-python",
   "codemirror_mode": {
    "name": "ipython",
    "version": 3
   },
   "pygments_lexer": "ipython3",
   "nbconvert_exporter": "python",
   "file_extension": ".py"
  },
  "kernelspec": {
   "name": "python3",
   "display_name": "Python 3.7.10 64-bit ('dev': conda)"
  },
  "interpreter": {
   "hash": "0bc772866a3affdc5803be489598f529b0192fa171585f2d09392617c9a5b224"
  }
 },
 "nbformat": 4,
 "nbformat_minor": 2
}