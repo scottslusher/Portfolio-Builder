{
 "cells": [
  {
   "cell_type": "code",
   "execution_count": 20,
   "source": [
    "import pandas as pd\r\n",
    "import sqlalchemy as sql\r\n",
    "import os\r\n",
    "import questionary\r\n",
    "import yfinance as yf\r\n",
    "from pathlib import Path\r\n",
    "import csv\r\n",
    "import fire\r\n",
    "import requests\r\n",
    "import numpy as np\r\n",
    "import matplotlib.pyplot as plt\r\n",
    "import scipy.optimize as optimization\r\n",
    "import datetime as dt\r\n",
    "from datetime import date"
   ],
   "outputs": [],
   "metadata": {}
  },
  {
   "cell_type": "code",
   "execution_count": 21,
   "source": [
    "def sectors():\r\n",
    "    csvpath = Path(\"../resources/stock_industry_marketcap.csv\")\r\n",
    "    sp500_csv = pd.read_csv(csvpath)\r\n",
    "    sector = \"GICS Sector\"\r\n",
    "    sp500_sectors = sp500_csv[sector].drop_duplicates().to_list()\r\n",
    "    sectors_1 = sp500_sectors #POSSIBLE ACTION: dropping the sector that\r\n",
    "    sectors_2 = sp500_sectors\r\n",
    "    sectors_3 = sp500_sectors \r\n",
    "    return sectors_1, sectors_2, sectors_3"
   ],
   "outputs": [],
   "metadata": {}
  },
  {
   "cell_type": "code",
   "execution_count": 33,
   "source": [
    "def stocks(sp500_csv):\r\n",
    "# csvpath = Path(\"../resources/stock_industry_marketcap.csv\")\r\n",
    "# sp500_csv = pd.read_csv(csvpath)\r\n",
    "    sp500_stocks_sorted = sp500_csv.sort_values(\"Market_Cap\", ascending=False)\r\n",
    "    return sp500_stocks_sorted"
   ],
   "outputs": [],
   "metadata": {}
  },
  {
   "cell_type": "code",
   "execution_count": 38,
   "source": [
    "sp500_stocks_sorted = sp500_csv.set_index(\"GICS Sector\").sort_values(\"Market_Cap\", ascending=False)"
   ],
   "outputs": [],
   "metadata": {}
  },
  {
   "cell_type": "code",
   "execution_count": 42,
   "source": [
    "sp500_stocks_sorted"
   ],
   "outputs": [
    {
     "output_type": "execute_result",
     "data": {
      "text/plain": [
       "                       Symbol    Market_Cap\n",
       "GICS Sector                                \n",
       "Information Technology   AAPL  2.415723e+12\n",
       "Information Technology   MSFT  2.180088e+12\n",
       "Communication Services   GOOG  1.818394e+12\n",
       "Communication Services  GOOGL  1.818394e+12\n",
       "Consumer Discretionary   AMZN  1.694015e+12\n",
       "...                       ...           ...\n",
       "Consumer Discretionary    LEG  6.419166e+09\n",
       "Financials                UNM  5.438938e+09\n",
       "Energy                    NOV  5.254149e+09\n",
       "Consumer Discretionary   BBWI           NaN\n",
       "Health Care               OGN           NaN\n",
       "\n",
       "[503 rows x 2 columns]"
      ],
      "text/html": [
       "<div>\n",
       "<style scoped>\n",
       "    .dataframe tbody tr th:only-of-type {\n",
       "        vertical-align: middle;\n",
       "    }\n",
       "\n",
       "    .dataframe tbody tr th {\n",
       "        vertical-align: top;\n",
       "    }\n",
       "\n",
       "    .dataframe thead th {\n",
       "        text-align: right;\n",
       "    }\n",
       "</style>\n",
       "<table border=\"1\" class=\"dataframe\">\n",
       "  <thead>\n",
       "    <tr style=\"text-align: right;\">\n",
       "      <th></th>\n",
       "      <th>Symbol</th>\n",
       "      <th>Market_Cap</th>\n",
       "    </tr>\n",
       "    <tr>\n",
       "      <th>GICS Sector</th>\n",
       "      <th></th>\n",
       "      <th></th>\n",
       "    </tr>\n",
       "  </thead>\n",
       "  <tbody>\n",
       "    <tr>\n",
       "      <th>Information Technology</th>\n",
       "      <td>AAPL</td>\n",
       "      <td>2.415723e+12</td>\n",
       "    </tr>\n",
       "    <tr>\n",
       "      <th>Information Technology</th>\n",
       "      <td>MSFT</td>\n",
       "      <td>2.180088e+12</td>\n",
       "    </tr>\n",
       "    <tr>\n",
       "      <th>Communication Services</th>\n",
       "      <td>GOOG</td>\n",
       "      <td>1.818394e+12</td>\n",
       "    </tr>\n",
       "    <tr>\n",
       "      <th>Communication Services</th>\n",
       "      <td>GOOGL</td>\n",
       "      <td>1.818394e+12</td>\n",
       "    </tr>\n",
       "    <tr>\n",
       "      <th>Consumer Discretionary</th>\n",
       "      <td>AMZN</td>\n",
       "      <td>1.694015e+12</td>\n",
       "    </tr>\n",
       "    <tr>\n",
       "      <th>...</th>\n",
       "      <td>...</td>\n",
       "      <td>...</td>\n",
       "    </tr>\n",
       "    <tr>\n",
       "      <th>Consumer Discretionary</th>\n",
       "      <td>LEG</td>\n",
       "      <td>6.419166e+09</td>\n",
       "    </tr>\n",
       "    <tr>\n",
       "      <th>Financials</th>\n",
       "      <td>UNM</td>\n",
       "      <td>5.438938e+09</td>\n",
       "    </tr>\n",
       "    <tr>\n",
       "      <th>Energy</th>\n",
       "      <td>NOV</td>\n",
       "      <td>5.254149e+09</td>\n",
       "    </tr>\n",
       "    <tr>\n",
       "      <th>Consumer Discretionary</th>\n",
       "      <td>BBWI</td>\n",
       "      <td>NaN</td>\n",
       "    </tr>\n",
       "    <tr>\n",
       "      <th>Health Care</th>\n",
       "      <td>OGN</td>\n",
       "      <td>NaN</td>\n",
       "    </tr>\n",
       "  </tbody>\n",
       "</table>\n",
       "<p>503 rows × 2 columns</p>\n",
       "</div>"
      ]
     },
     "metadata": {},
     "execution_count": 42
    }
   ],
   "metadata": {}
  },
  {
   "cell_type": "code",
   "execution_count": 64,
   "source": [
    "# sector = \"GICS Sector\"\r\n",
    "# industrials = sp500_stocks_sorted.groupby(by=(sector[\"Industrials\"]\r\n",
    "# industrials\r\n",
    "\r\n",
    "        # industrials = \"Industrials\"\r\n",
    "        # health_care = \"Health Care\"\r\n",
    "        # information_technology = \"Information Technology\"\r\n",
    "        # communication_services = \"Communication Services\"\r\n",
    "        # consumer_discretionary = \"Consumer Discretionary\"\r\n",
    "        # utilities = \"Utilities\"\r\n",
    "        # financials = \"Financials\"\r\n",
    "        # materials = \"Materials\"\r\n",
    "        # real_estate = \"Real Estate\"\r\n",
    "        # consumer_staples = \"Consumer Staples\"\r\n",
    "        # energy = \"Energy\"\r\n",
    "\r\n",
    "industrials = sp500_stocks_sorted.loc[\"Industrials\"].sort_values(by=\"Market_Cap\", ascending=False).iloc[0:5]\r\n",
    "list(industrials[\"Symbol\"])"
   ],
   "outputs": [
    {
     "output_type": "execute_result",
     "data": {
      "text/plain": [
       "['GE', 'UPS', 'HON', 'UNP', 'BA']"
      ]
     },
     "metadata": {},
     "execution_count": 64
    }
   ],
   "metadata": {}
  },
  {
   "cell_type": "code",
   "execution_count": 65,
   "source": [
    "# def stocks_in_chosen_sector():\r\n",
    "#['Industrials', 'Health Care', 'Information Technology', 'Communication Services', \r\n",
    "# 'Consumer Discretionary', 'Utilities', 'Financials', 'Materials', 'Real Estate', 'Consumer Staples', 'Energy']\r\n",
    "stocks_in_chosen_sector = []\r\n",
    "with open(sp500_stocks_sorted, newline='') as csvfile:\r\n",
    "    rows = csv.reader(csvfile)\r\n",
    "    header = next(rows)\r\n",
    "    for row in rows:\r\n",
    "        # defines each sector with top 5 stocks by marketcap    \r\n",
    "        industrials = sp500_stocks_sorted.loc[\"Industrials\"].sort_values(by=\"Market_Cap\", ascending=False).iloc[0:5]\r\n",
    "        health_care = sp500_stocks_sorted.loc[\"Health Care\"].sort_values(by=\"Market_Cap\", ascending=False).iloc[0:5]\r\n",
    "        information_technology = sp500_stocks_sorted.loc[\"Information Technology\"].sort_values(by=\"Market_Cap\", ascending=False).iloc[0:5]\r\n",
    "        communication_services = sp500_stocks_sorted.loc[\"Communication Services\"].sort_values(by=\"Market_Cap\", ascending=False).iloc[0:5]\r\n",
    "        consumer_discretionary = sp500_stocks_sorted.loc[\"Consumer Discretionary\"].sort_values(by=\"Market_Cap\", ascending=False).iloc[0:5]\r\n",
    "        utilities = sp500_stocks_sorted.loc[\"Utilities\"].sort_values(by=\"Market_Cap\", ascending=False).iloc[0:5]\r\n",
    "        financials = sp500_stocks_sorted.loc[\"Financials\"].sort_values(by=\"Market_Cap\", ascending=False).iloc[0:5]\r\n",
    "        materials = sp500_stocks_sorted.loc[\"Materials\"].sort_values(by=\"Market_Cap\", ascending=False).iloc[0:5]\r\n",
    "        real_estate = sp500_stocks_sorted.loc[\"Real Estate\"].sort_values(by=\"Market_Cap\", ascending=False).iloc[0:5]\r\n",
    "        consumer_staples = sp500_stocks_sorted.loc[\"Consumer Staples\"].sort_values(by=\"Market_Cap\", ascending=False).iloc[0:5]\r\n",
    "        energy = sp500_stocks_sorted.loc[\"Energy\"].sort_values(by=\"Market_Cap\", ascending=False).iloc[0:5]\r\n",
    "        if industrials == sectors_1, sectors_2, sectors_3\r\n",
    "        symbol = float(row[1])\r\n",
    "        stocks = {\r\n",
    "            \"Symbol\": symbol\r\n",
    "        }\r\n",
    "        stocks_in_chosen_sector.append(stocks)\r\n",
    "\r\n",
    "\r\n",
    "        \r\n",
    "\r\n",
    "\r\n",
    "\r\n",
    "            "
   ],
   "outputs": [
    {
     "output_type": "error",
     "ename": "TypeError",
     "evalue": "expected str, bytes or os.PathLike object, not DataFrame",
     "traceback": [
      "\u001b[1;31m---------------------------------------------------------------------------\u001b[0m",
      "\u001b[1;31mTypeError\u001b[0m                                 Traceback (most recent call last)",
      "\u001b[1;32m<ipython-input-65-940f1bd62f5d>\u001b[0m in \u001b[0;36m<module>\u001b[1;34m\u001b[0m\n\u001b[0;32m      3\u001b[0m \u001b[1;31m# 'Consumer Discretionary', 'Utilities', 'Financials', 'Materials', 'Real Estate', 'Consumer Staples', 'Energy']\u001b[0m\u001b[1;33m\u001b[0m\u001b[1;33m\u001b[0m\u001b[1;33m\u001b[0m\u001b[0m\n\u001b[0;32m      4\u001b[0m \u001b[0mstocks_in_chosen_sector\u001b[0m \u001b[1;33m=\u001b[0m \u001b[1;33m[\u001b[0m\u001b[1;33m]\u001b[0m\u001b[1;33m\u001b[0m\u001b[1;33m\u001b[0m\u001b[0m\n\u001b[1;32m----> 5\u001b[1;33m \u001b[1;32mwith\u001b[0m \u001b[0mopen\u001b[0m\u001b[1;33m(\u001b[0m\u001b[0msp500_stocks_sorted\u001b[0m\u001b[1;33m,\u001b[0m \u001b[0mnewline\u001b[0m\u001b[1;33m=\u001b[0m\u001b[1;34m''\u001b[0m\u001b[1;33m)\u001b[0m \u001b[1;32mas\u001b[0m \u001b[0mcsvfile\u001b[0m\u001b[1;33m:\u001b[0m\u001b[1;33m\u001b[0m\u001b[1;33m\u001b[0m\u001b[0m\n\u001b[0m\u001b[0;32m      6\u001b[0m     \u001b[0mrows\u001b[0m \u001b[1;33m=\u001b[0m \u001b[0mcsv\u001b[0m\u001b[1;33m.\u001b[0m\u001b[0mreader\u001b[0m\u001b[1;33m(\u001b[0m\u001b[0mcsvfile\u001b[0m\u001b[1;33m)\u001b[0m\u001b[1;33m\u001b[0m\u001b[1;33m\u001b[0m\u001b[0m\n\u001b[0;32m      7\u001b[0m     \u001b[0mheader\u001b[0m \u001b[1;33m=\u001b[0m \u001b[0mnext\u001b[0m\u001b[1;33m(\u001b[0m\u001b[0mrows\u001b[0m\u001b[1;33m)\u001b[0m\u001b[1;33m\u001b[0m\u001b[1;33m\u001b[0m\u001b[0m\n",
      "\u001b[1;31mTypeError\u001b[0m: expected str, bytes or os.PathLike object, not DataFrame"
     ]
    }
   ],
   "metadata": {}
  },
  {
   "cell_type": "code",
   "execution_count": 118,
   "source": [
    "# TESTING PHASE FOR-LOOP TO ADD SYMBOLS INTO SECTORS_1\r\n",
    "def stocks_in_sector(sectors_1, sectors_2, sectors_3, stocks):\r\n",
    "    csvpath = Path(\"./resources/stock_industry_marketcap.csv\")\r\n",
    "    stocks = []\r\n",
    "    with open(csvpath, newline='') as csvfile:\r\n",
    "        rows = csv.reader(csvfile)\r\n",
    "        header = next(rows)\r\n",
    "        for row in rows:\r\n",
    "            gics_sector = float(rows[1])\r\n",
    "            symbol = float(rows[0])\r\n",
    "            marketcap = int(rows[2]).set_index(\"Market_Cap\").sort_values(by=\"Market_Cap\", ascending=False).iloc[0:5]\r\n",
    "            stocks = {\r\n",
    "                # \"GICS Sector\": gics_sector,\r\n",
    "                \"Symbol\":symbol,\r\n",
    "                \"Market_Cap\":marketcap\r\n",
    "            }\r\n",
    "            if gics_sector == sectors_1:\r\n",
    "                symbol.append(stocks)\r\n",
    "            if gics_sector == sectors_2:\r\n",
    "                symbol.append(stocks)\r\n",
    "            if gics_sector == sectors_3:\r\n",
    "                symbol.append(stocks)\r\n",
    "            return stocks\r\n",
    "stocks"
   ],
   "outputs": [
    {
     "output_type": "error",
     "ename": "NameError",
     "evalue": "name 'stocks' is not defined",
     "traceback": [
      "\u001b[1;31m---------------------------------------------------------------------------\u001b[0m",
      "\u001b[1;31mNameError\u001b[0m                                 Traceback (most recent call last)",
      "\u001b[1;32m<ipython-input-118-bef50bb0c789>\u001b[0m in \u001b[0;36m<module>\u001b[1;34m\u001b[0m\n\u001b[0;32m     22\u001b[0m                 \u001b[0msymbol\u001b[0m\u001b[1;33m.\u001b[0m\u001b[0mappend\u001b[0m\u001b[1;33m(\u001b[0m\u001b[0mstocks\u001b[0m\u001b[1;33m)\u001b[0m\u001b[1;33m\u001b[0m\u001b[1;33m\u001b[0m\u001b[0m\n\u001b[0;32m     23\u001b[0m             \u001b[1;32mreturn\u001b[0m \u001b[0mstocks\u001b[0m\u001b[1;33m\u001b[0m\u001b[1;33m\u001b[0m\u001b[0m\n\u001b[1;32m---> 24\u001b[1;33m \u001b[0mstocks\u001b[0m\u001b[1;33m\u001b[0m\u001b[1;33m\u001b[0m\u001b[0m\n\u001b[0m",
      "\u001b[1;31mNameError\u001b[0m: name 'stocks' is not defined"
     ]
    }
   ],
   "metadata": {}
  },
  {
   "cell_type": "code",
   "execution_count": 97,
   "source": [
    "# def sectors():\r\n",
    "chosen_sectors = []\r\n",
    "csvpath = Path(\"../resources/stock_industry_marketcap.csv\")\r\n",
    "sectors = pd.read_csv(csvpath)\r\n",
    "sectors"
   ],
   "outputs": [
    {
     "output_type": "execute_result",
     "data": {
      "text/plain": [
       "    Symbol             GICS Sector    Market_Cap\n",
       "0      MMM             Industrials  1.146455e+11\n",
       "1      ABT             Health Care  2.165854e+11\n",
       "2     ABBV             Health Care  2.022537e+11\n",
       "3     ABMD             Health Care  1.569610e+10\n",
       "4      ACN  Information Technology  2.040843e+11\n",
       "..     ...                     ...           ...\n",
       "498    YUM  Consumer Discretionary  3.992767e+10\n",
       "499   ZBRA  Information Technology  3.008780e+10\n",
       "500    ZBH             Health Care  3.106382e+10\n",
       "501   ZION              Financials  9.008242e+09\n",
       "502    ZTS             Health Care  9.584597e+10\n",
       "\n",
       "[503 rows x 3 columns]"
      ],
      "text/html": [
       "<div>\n",
       "<style scoped>\n",
       "    .dataframe tbody tr th:only-of-type {\n",
       "        vertical-align: middle;\n",
       "    }\n",
       "\n",
       "    .dataframe tbody tr th {\n",
       "        vertical-align: top;\n",
       "    }\n",
       "\n",
       "    .dataframe thead th {\n",
       "        text-align: right;\n",
       "    }\n",
       "</style>\n",
       "<table border=\"1\" class=\"dataframe\">\n",
       "  <thead>\n",
       "    <tr style=\"text-align: right;\">\n",
       "      <th></th>\n",
       "      <th>Symbol</th>\n",
       "      <th>GICS Sector</th>\n",
       "      <th>Market_Cap</th>\n",
       "    </tr>\n",
       "  </thead>\n",
       "  <tbody>\n",
       "    <tr>\n",
       "      <th>0</th>\n",
       "      <td>MMM</td>\n",
       "      <td>Industrials</td>\n",
       "      <td>1.146455e+11</td>\n",
       "    </tr>\n",
       "    <tr>\n",
       "      <th>1</th>\n",
       "      <td>ABT</td>\n",
       "      <td>Health Care</td>\n",
       "      <td>2.165854e+11</td>\n",
       "    </tr>\n",
       "    <tr>\n",
       "      <th>2</th>\n",
       "      <td>ABBV</td>\n",
       "      <td>Health Care</td>\n",
       "      <td>2.022537e+11</td>\n",
       "    </tr>\n",
       "    <tr>\n",
       "      <th>3</th>\n",
       "      <td>ABMD</td>\n",
       "      <td>Health Care</td>\n",
       "      <td>1.569610e+10</td>\n",
       "    </tr>\n",
       "    <tr>\n",
       "      <th>4</th>\n",
       "      <td>ACN</td>\n",
       "      <td>Information Technology</td>\n",
       "      <td>2.040843e+11</td>\n",
       "    </tr>\n",
       "    <tr>\n",
       "      <th>...</th>\n",
       "      <td>...</td>\n",
       "      <td>...</td>\n",
       "      <td>...</td>\n",
       "    </tr>\n",
       "    <tr>\n",
       "      <th>498</th>\n",
       "      <td>YUM</td>\n",
       "      <td>Consumer Discretionary</td>\n",
       "      <td>3.992767e+10</td>\n",
       "    </tr>\n",
       "    <tr>\n",
       "      <th>499</th>\n",
       "      <td>ZBRA</td>\n",
       "      <td>Information Technology</td>\n",
       "      <td>3.008780e+10</td>\n",
       "    </tr>\n",
       "    <tr>\n",
       "      <th>500</th>\n",
       "      <td>ZBH</td>\n",
       "      <td>Health Care</td>\n",
       "      <td>3.106382e+10</td>\n",
       "    </tr>\n",
       "    <tr>\n",
       "      <th>501</th>\n",
       "      <td>ZION</td>\n",
       "      <td>Financials</td>\n",
       "      <td>9.008242e+09</td>\n",
       "    </tr>\n",
       "    <tr>\n",
       "      <th>502</th>\n",
       "      <td>ZTS</td>\n",
       "      <td>Health Care</td>\n",
       "      <td>9.584597e+10</td>\n",
       "    </tr>\n",
       "  </tbody>\n",
       "</table>\n",
       "<p>503 rows × 3 columns</p>\n",
       "</div>"
      ]
     },
     "metadata": {},
     "execution_count": 97
    }
   ],
   "metadata": {}
  },
  {
   "cell_type": "code",
   "execution_count": 34,
   "source": [
    "def sector_rolling_1_year_return():\r\n",
    "    \r\n"
   ],
   "outputs": [
    {
     "output_type": "error",
     "ename": "SyntaxError",
     "evalue": "unexpected EOF while parsing (<ipython-input-34-6556fd035e82>, line 3)",
     "traceback": [
      "\u001b[1;36m  File \u001b[1;32m\"<ipython-input-34-6556fd035e82>\"\u001b[1;36m, line \u001b[1;32m3\u001b[0m\n\u001b[1;33m    \u001b[0m\n\u001b[1;37m    ^\u001b[0m\n\u001b[1;31mSyntaxError\u001b[0m\u001b[1;31m:\u001b[0m unexpected EOF while parsing\n"
     ]
    }
   ],
   "metadata": {}
  },
  {
   "cell_type": "code",
   "execution_count": null,
   "source": [],
   "outputs": [],
   "metadata": {}
  }
 ],
 "metadata": {
  "orig_nbformat": 4,
  "language_info": {
   "name": "python"
  }
 },
 "nbformat": 4,
 "nbformat_minor": 2
}