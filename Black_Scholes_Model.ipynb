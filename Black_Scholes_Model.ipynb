{
 "cells": [
  {
   "cell_type": "code",
   "execution_count": 66,
   "source": [
    "from scipy import stats\r\n",
    "from numpy import log, exp, sqrt"
   ],
   "outputs": [],
   "metadata": {}
  },
  {
   "cell_type": "code",
   "execution_count": 69,
   "source": [
    "# stock_price = current stock price\r\n",
    "# strike_price = strike price\r\n",
    "# TTM = time to maturity in days\r\n",
    "# risk_free_rate = risk free rate, (***need to peg this to an API**)\r\n",
    "# st_dev = standard deviation of underlying stock, (***need to peg this to an API**)\r\n",
    "def call_option_price(stock_price, strike_price, TTM, risk_free_rate, st_dev):\r\n",
    "    # first we have to calculate d1 and d2 parameters\r\n",
    "    call_d1 = (log(stock_price/strike_price) + (risk_free_rate + (st_dev*st_dev)/2.0) * TTM) / (st_dev*sqrt(TTM))\r\n",
    "\r\n",
    "    call_d2 = call_d1 - st_dev*sqrt(TTM)\r\n",
    "\r\n",
    "    print(f\"The d1 and d2 parameters for call option pricing is: {call_d1:.2f}, {call_d2:.2f}\")\r\n",
    "    # use the N(x) to calculate the price of the option\r\n",
    "    return stock_price * stats.norm.cdf(call_d1) - strike_price * exp(-risk_free_rate*TTM) * stats.norm.cdf(call_d2)\r\n",
    "\r\n",
    "\r\n",
    "# stock_price = current stock price\r\n",
    "# strike_price = strike price\r\n",
    "# time = time to maturity in days\r\n",
    "# risk_free_rate = risk free rate, (***need to peg this to an API**)\r\n",
    "# st_dev = standard deviation of underlying stock, (***need to peg this to an API**)\r\n",
    "def put_option_price(stock_price, strike_price, TTM, risk_free_rate, st_dev):\r\n",
    "    # first we have to calculate d1 and d2 parameters\r\n",
    "    put_d1 = (log(stock_price / strike_price) + (risk_free_rate + (st_dev * st_dev) / 2.0) * TTM) / (st_dev*sqrt(TTM))\r\n",
    "\r\n",
    "    put_d2 = put_d1 - st_dev*sqrt(TTM)\r\n",
    "\r\n",
    "    print(f\"The -d1 and -d2 parameters for put option pricing is: {-put_d1:.2f}, {-put_d2:.2f}\")\r\n",
    "    # use the N(x) to calculate the price of the option\r\n",
    "    return -stock_price * stats.norm.cdf(-put_d1) + strike_price * exp(-risk_free_rate*TTM) * stats.norm.cdf(-put_d2)"
   ],
   "outputs": [],
   "metadata": {}
  },
  {
   "cell_type": "code",
   "execution_count": 70,
   "source": [
    "if __name__ == '__main__':\r\n",
    "    # current stock price (t=0 or current date)\r\n",
    "    stock_price = 100\r\n",
    "    # strike price\r\n",
    "    strike_price = 100\r\n",
    "    # days left til expiration of option\r\n",
    "    TTM = 1\r\n",
    "    # risk-free rate\r\n",
    "    risk_free_rate = 0.05\r\n",
    "    # volatility of the underlying stock \r\n",
    "    st_dev = 0.2\r\n",
    "\r\n",
    "    print(f\"Call option price according to Black-Scholes model is: ${call_option_price(stock_price, strike_price, TTM, risk_free_rate, st_dev):.2f}\")\r\n",
    "    print(f\"Put option price according to Black-Scholes model: ${put_option_price(stock_price, strike_price, TTM, risk_free_rate, st_dev):.2f}\")"
   ],
   "outputs": [
    {
     "output_type": "stream",
     "name": "stdout",
     "text": [
      "The d1 and d2 parameters for call option pricing is: 0.35, 0.15\n",
      "Call option price according to Black-Scholes model is: $10.45\n",
      "The -d1 and -d2 parameters for put option pricing is: -0.35, -0.15\n",
      "Put option price according to Black-Scholes model: $5.57\n"
     ]
    }
   ],
   "metadata": {}
  },
  {
   "cell_type": "code",
   "execution_count": null,
   "source": [],
   "outputs": [],
   "metadata": {}
  }
 ],
 "metadata": {
  "orig_nbformat": 4,
  "language_info": {
   "name": "python",
   "version": "3.7.10",
   "mimetype": "text/x-python",
   "codemirror_mode": {
    "name": "ipython",
    "version": 3
   },
   "pygments_lexer": "ipython3",
   "nbconvert_exporter": "python",
   "file_extension": ".py"
  },
  "kernelspec": {
   "name": "python3",
   "display_name": "Python 3.7.10 64-bit ('dev': conda)"
  },
  "interpreter": {
   "hash": "0bc772866a3affdc5803be489598f529b0192fa171585f2d09392617c9a5b224"
  }
 },
 "nbformat": 4,
 "nbformat_minor": 2
}