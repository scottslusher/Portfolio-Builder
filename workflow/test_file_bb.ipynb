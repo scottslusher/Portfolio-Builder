{
 "cells": [
  {
   "cell_type": "code",
   "execution_count": 1,
   "source": [
    "import pandas as pd\r\n",
    "import sqlalchemy as sql\r\n",
    "import os\r\n",
    "import questionary\r\n",
    "import yfinance as yf\r\n",
    "from pathlib import Path\r\n",
    "import csv\r\n",
    "import fire\r\n",
    "import requests\r\n",
    "import numpy as np\r\n",
    "import matplotlib.pyplot as plt\r\n",
    "import scipy.optimize as optimization\r\n",
    "import datetime as dt\r\n",
    "from datetime import date"
   ],
   "outputs": [],
   "metadata": {}
  },
  {
   "cell_type": "code",
   "execution_count": 2,
   "source": [
    "def sectors(): #CHANGE URL TO PULLING FROM CSV\r\n",
    "    url = 'https://en.wikipedia.org/wiki/List_of_S%26P_500_companies'\r\n",
    "    sp500_html = pd.read_html(url)\r\n",
    "    sp500_html = sp500_html[0]\r\n",
    "    sp500_df = pd.DataFrame(sp500_html)\r\n",
    "    sp500_all_sectors_df = pd.DataFrame(\r\n",
    "        columns=['GICS Sector', 'Symbol'],\r\n",
    "        data=sp500_df)\r\n",
    "    sectors_1 = sp500_all_sectors_df['GICS Sector'].drop_duplicates().to_list() #POSSIBLE ACTION: dropping the sector that\r\n",
    "    sectors_2 = sp500_all_sectors_df['GICS Sector'].drop_duplicates().to_list() # was chosen in the previous function.\r\n",
    "    sectors_3 = sp500_all_sectors_df['GICS Sector'].drop_duplicates().to_list() \r\n",
    "    return sectors_1, sectors_2, sectors_3"
   ],
   "outputs": [],
   "metadata": {}
  },
  {
   "cell_type": "code",
   "execution_count": 3,
   "source": [
    "def run():\r\n",
    "    sectors_1, sectors_2, sectors_3 = sectors()"
   ],
   "outputs": [],
   "metadata": {}
  },
  {
   "cell_type": "code",
   "execution_count": null,
   "source": [
    "if __name__ == \"__main__\":\r\n",
    "    run()"
   ],
   "outputs": [],
   "metadata": {}
  }
 ],
 "metadata": {
  "orig_nbformat": 4,
  "language_info": {
   "name": "python",
   "version": "3.7.10",
   "mimetype": "text/x-python",
   "codemirror_mode": {
    "name": "ipython",
    "version": 3
   },
   "pygments_lexer": "ipython3",
   "nbconvert_exporter": "python",
   "file_extension": ".py"
  },
  "kernelspec": {
   "name": "python3",
   "display_name": "Python 3.7.10 64-bit ('dev': conda)"
  },
  "interpreter": {
   "hash": "0bc772866a3affdc5803be489598f529b0192fa171585f2d09392617c9a5b224"
  }
 },
 "nbformat": 4,
 "nbformat_minor": 2
}