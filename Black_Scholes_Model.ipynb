{
 "cells": [
  {
   "cell_type": "code",
   "execution_count": 1,
   "source": [
    "from scipy import stats\r\n",
    "from numpy import log, exp, sqrt"
   ],
   "outputs": [
    {
     "output_type": "stream",
     "name": "stderr",
     "text": [
      "C:\\Users\\sslusher\\Anaconda3\\envs\\dev\\lib\\importlib\\_bootstrap.py:219: RuntimeWarning: numpy.ufunc size changed, may indicate binary incompatibility. Expected 192 from C header, got 216 from PyObject\n",
      "  return f(*args, **kwds)\n",
      "C:\\Users\\sslusher\\Anaconda3\\envs\\dev\\lib\\importlib\\_bootstrap.py:219: RuntimeWarning: numpy.ufunc size changed, may indicate binary incompatibility. Expected 192 from C header, got 216 from PyObject\n",
      "  return f(*args, **kwds)\n",
      "C:\\Users\\sslusher\\Anaconda3\\envs\\dev\\lib\\importlib\\_bootstrap.py:219: RuntimeWarning: numpy.ufunc size changed, may indicate binary incompatibility. Expected 192 from C header, got 216 from PyObject\n",
      "  return f(*args, **kwds)\n"
     ]
    }
   ],
   "metadata": {}
  },
  {
   "cell_type": "code",
   "execution_count": 7,
   "source": [
    "# S - stock price\r\n",
    "# E - strike price\r\n",
    "# T - expire rate\r\n",
    "# rf - risk free rate\r\n",
    "# sigma - standard deviation of underlying stock\r\n",
    "def call_option_price(S, E, T, rf, sigma):\r\n",
    "    # first we have to calculate d1 and d2 parameters\r\n",
    "    d1 = (log(S/E) + (rf + sigma*sigma/2.0) * T) / (sigma*sqrt(T))\r\n",
    "\r\n",
    "    d2 = d1 - sigma*sqrt(T)\r\n",
    "\r\n",
    "    print(\"The d1 and d2 parameters: %s, %s\" % (d1,d2))\r\n",
    "    # use the N(x) to calculate the price of the option\r\n",
    "    return S * stats.norm.cdf(d1) - E * exp(-rf*T) * stats.norm.cdf(d2)\r\n",
    "\r\n",
    "\r\n",
    "# S - stock price\r\n",
    "# E - strike price\r\n",
    "# T - expire rate\r\n",
    "# rf - risk free rate\r\n",
    "# sigma - standard deviation of underlying stock\r\n",
    "def put_option_price(S, E, T, rf, sigma):\r\n",
    "    # first we have to calculate d1 and d2 parameters\r\n",
    "    d1 = (log(S / E) + (rf + sigma * sigma / 2.0) * T) / (sigma*sqrt(T))\r\n",
    "\r\n",
    "    d2 = d1 - sigma*sqrt(T)\r\n",
    "\r\n",
    "    print(\"The d1 and d2 parameters: %s, %s\" % (d1,d2))\r\n",
    "    # use the N(x) to calculate the price of the option\r\n",
    "    return -S * stats.norm.cdf(-d1) + E * exp(-rf*T) * stats.norm.cdf(-d2)"
   ],
   "outputs": [],
   "metadata": {}
  },
  {
   "cell_type": "code",
   "execution_count": 8,
   "source": [
    "if __name__ == '__main__':\r\n",
    "    # underlying stock price at t=0\r\n",
    "    S0 = 100\r\n",
    "    # strike price\r\n",
    "    E = 100\r\n",
    "    # expirty 1 year = 365 days\r\n",
    "    T = 1\r\n",
    "    # risk-free rate\r\n",
    "    rf = 0.05\r\n",
    "    # volatility of the underlying stock \r\n",
    "    sigma = 0.2\r\n",
    "\r\n",
    "    print(\"Call option price according to Black-Scholes model: \", call_option_price(S0, E, T, rf, sigma))\r\n",
    "    print(\"Put option price according to Black-Scholes model: \", put_option_price(S0, E, T, rf, sigma))"
   ],
   "outputs": [
    {
     "output_type": "stream",
     "name": "stdout",
     "text": [
      "The d1 and d2 parameters: 0.35000000000000003, 0.15000000000000002\n",
      "Call option price according to Black-Scholes model:  10.450583572185565\n",
      "The d1 and d2 parameters: 0.35000000000000003, 0.15000000000000002\n",
      "Put option price according to Black-Scholes model:  5.573526022256971\n"
     ]
    }
   ],
   "metadata": {}
  },
  {
   "cell_type": "code",
   "execution_count": null,
   "source": [],
   "outputs": [],
   "metadata": {}
  }
 ],
 "metadata": {
  "orig_nbformat": 4,
  "language_info": {
   "name": "python",
   "version": "3.7.9",
   "mimetype": "text/x-python",
   "codemirror_mode": {
    "name": "ipython",
    "version": 3
   },
   "pygments_lexer": "ipython3",
   "nbconvert_exporter": "python",
   "file_extension": ".py"
  },
  "kernelspec": {
   "name": "python3",
   "display_name": "Python 3.7.9 64-bit ('dev': conda)"
  },
  "interpreter": {
   "hash": "495ccf4d1983483e4ef5ecb604ad059e9e63ef3705f6ce6119008c8aa5b25d48"
  }
 },
 "nbformat": 4,
 "nbformat_minor": 2
}