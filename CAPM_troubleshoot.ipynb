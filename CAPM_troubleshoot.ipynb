{
 "cells": [
  {
   "cell_type": "code",
   "execution_count": null,
   "source": [
    "import numpy as np\r\n",
    "import pandas as pd\r\n",
    "import yfinance as yf\r\n",
    "import matplotlib.pyplot as plt\r\n",
    "from datetime import date\r\n",
    "import questionary"
   ],
   "outputs": [],
   "metadata": {}
  },
  {
   "cell_type": "code",
   "execution_count": null,
   "source": [
    "stocks = ['AAPL', 'AMZN', 'FB', 'TSLA', '^GSPC']\r\n",
    "\r\n",
    "start_date = '2010-01-01'\r\n",
    "\r\n",
    "end_date = '2017-01-01'\r\n",
    "\r\n",
    "data = {}\r\n",
    "\r\n",
    "for stock in stocks:\r\n",
    "    ticker = yf.download(stock, start_date, end_date)\r\n",
    "    # Adjusted Closing Price takes into account factors such as dividends, stock splits, etc.\r\n",
    "    # Adjusted Closing Price is a more accurate reflection of the stock's value\r\n",
    "    data[stock] = ticker['Adj Close']\r\n",
    "\r\n",
    "pd.DataFrame(data)"
   ],
   "outputs": [],
   "metadata": {}
  },
  {
   "cell_type": "code",
   "execution_count": null,
   "source": [
    "stocks_data = pd.DataFrame(data)\r\n",
    "\r\n",
    "stocks_data = stocks_data.fillna(stocks_data.rolling(6, min_periods=1).mean())\r\n",
    "stocks_data = stocks_data.dropna()\r\n",
    "\r\n",
    "stocks_data = stocks_data.resample('M').last()\r\n",
    "stocks_data"
   ],
   "outputs": [],
   "metadata": {}
  },
  {
   "cell_type": "code",
   "execution_count": null,
   "source": [
    "sp500 = stocks_data.iloc[:,-1]\r\n",
    "sp500 = pd.DataFrame(sp500)"
   ],
   "outputs": [],
   "metadata": {}
  },
  {
   "cell_type": "code",
   "execution_count": null,
   "source": [
    "sp500.head()"
   ],
   "outputs": [],
   "metadata": {}
  },
  {
   "cell_type": "code",
   "execution_count": null,
   "source": [
    "sp500['market_adjclose'] = np.log(sp500 / sp500.shift(1))\r\n",
    "sp500 = sp500[1:]\r\n",
    "sp500.head()"
   ],
   "outputs": [],
   "metadata": {}
  },
  {
   "cell_type": "code",
   "execution_count": null,
   "source": [
    "stocks = stocks_data.iloc[:,:-1]\r\n",
    "stocks = np.log(stocks / stocks.shift(1))\r\n",
    "stocks = stocks.dropna()\r\n",
    "stocks = pd.DataFrame(stocks)\r\n",
    "\r\n",
    "stocks.head()"
   ],
   "outputs": [],
   "metadata": {}
  },
  {
   "cell_type": "code",
   "execution_count": null,
   "source": [
    "weights = [0.25, 0.3, 0.1, 0.4]\r\n",
    "weighted_stocks = stocks.mul(weights)\r\n",
    "weighted_stocks.head()\r\n"
   ],
   "outputs": [],
   "metadata": {}
  },
  {
   "cell_type": "code",
   "execution_count": null,
   "source": [
    "# we have to have a sector return value to compare against the market return\r\n",
    "# so we sum up all the stocks in the sector per day to figure out the daily_return compared to the market\r\n",
    "weighted_stocks['sector_return'] = weighted_stocks.sum(axis=1)\r\n",
    "weighted_stocks.head()"
   ],
   "outputs": [],
   "metadata": {}
  },
  {
   "cell_type": "code",
   "execution_count": null,
   "source": [],
   "outputs": [],
   "metadata": {}
  },
  {
   "cell_type": "code",
   "execution_count": null,
   "source": [
    "weights = [0.25, 0.3, 0.1, 0.4]\r\n",
    "print(weights)"
   ],
   "outputs": [],
   "metadata": {}
  },
  {
   "cell_type": "code",
   "execution_count": null,
   "source": [
    "data = pd.DataFrame({'stock_weighted_returns':weighted_stocks['sector_return'], 'market_returns':sp500['market_adjclose']})\r\n",
    "data.head()"
   ],
   "outputs": [],
   "metadata": {}
  },
  {
   "cell_type": "code",
   "execution_count": null,
   "source": [],
   "outputs": [],
   "metadata": {}
  },
  {
   "cell_type": "code",
   "execution_count": null,
   "source": [
    "    def initialize(self):\r\n",
    "            stocks_data = self.download_data()\r\n",
    "            # we use monthly returns ('M') instead of daily returns\r\n",
    "            stocks_data = stocks_data.resample('M').last()\r\n",
    "\r\n",
    "            # create a pandas dataframe to store stock information for analysis\r\n",
    "            self.data = pd.DataFrame({'stock_adjclose':stocks_data[self.stocks[0]], 'market_adjclose':stocks_data[self.stocks[-1]]})\r\n",
    "\r\n",
    "            # add 2 columns for the s_returns and m_returns\r\n",
    "            # logarithmic monthly returns\r\n",
    "            self.data[['stock_returns', 'market_returns']] = np.log(self.data[['stock_adjclose', 'market_adjclose']] / self.data[['stock_adjclose', 'market_adjclose']].shift(1))\r\n",
    "\r\n",
    "            # remove NaN values\r\n",
    "            self.data =  self.data[1:]\r\n",
    "\r\n",
    "            print(self.data)"
   ],
   "outputs": [],
   "metadata": {}
  }
 ],
 "metadata": {
  "orig_nbformat": 4,
  "language_info": {
   "name": "python",
   "version": "3.7.10",
   "mimetype": "text/x-python",
   "codemirror_mode": {
    "name": "ipython",
    "version": 3
   },
   "pygments_lexer": "ipython3",
   "nbconvert_exporter": "python",
   "file_extension": ".py"
  },
  "kernelspec": {
   "name": "python3",
   "display_name": "Python 3.7.10 64-bit ('dev': conda)"
  },
  "interpreter": {
   "hash": "0bc772866a3affdc5803be489598f529b0192fa171585f2d09392617c9a5b224"
  }
 },
 "nbformat": 4,
 "nbformat_minor": 2
}