{
 "cells": [
  {
   "cell_type": "code",
   "execution_count": 1,
   "source": [
    "import pandas as pd\r\n",
    "from pathlib import Path\r\n",
    "import sqlalchemy as sql"
   ],
   "outputs": [],
   "metadata": {}
  },
  {
   "cell_type": "code",
   "execution_count": 2,
   "source": [
    "# Create a database connection string that links an in-memory database\r\n",
    "database_connection_string = 'sqlite:///stock_industry_top5.db'\r\n",
    "\r\n",
    "# Database connection object\r\n",
    "engine = sql.create_engine(database_connection_string)\r\n",
    "\r\n",
    "# Confirm the engine was created\r\n",
    "engine"
   ],
   "outputs": [
    {
     "output_type": "execute_result",
     "data": {
      "text/plain": [
       "Engine(sqlite:///stock_industry_top5.db)"
      ]
     },
     "metadata": {},
     "execution_count": 2
    }
   ],
   "metadata": {}
  },
  {
   "cell_type": "code",
   "execution_count": 3,
   "source": [
    "stocks_df = pd.read_csv(\r\n",
    "    Path('stock_industry_marketcap.csv')\r\n",
    ")\r\n",
    "\r\n",
    "stocks_df.head()"
   ],
   "outputs": [
    {
     "output_type": "execute_result",
     "data": {
      "text/plain": [
       "  Symbol             GICS Sector    Market_Cap\n",
       "0    MMM             Industrials  1.146455e+11\n",
       "1    ABT             Health Care  2.165854e+11\n",
       "2   ABBV             Health Care  2.022537e+11\n",
       "3   ABMD             Health Care  1.569610e+10\n",
       "4    ACN  Information Technology  2.040843e+11"
      ],
      "text/html": [
       "<div>\n",
       "<style scoped>\n",
       "    .dataframe tbody tr th:only-of-type {\n",
       "        vertical-align: middle;\n",
       "    }\n",
       "\n",
       "    .dataframe tbody tr th {\n",
       "        vertical-align: top;\n",
       "    }\n",
       "\n",
       "    .dataframe thead th {\n",
       "        text-align: right;\n",
       "    }\n",
       "</style>\n",
       "<table border=\"1\" class=\"dataframe\">\n",
       "  <thead>\n",
       "    <tr style=\"text-align: right;\">\n",
       "      <th></th>\n",
       "      <th>Symbol</th>\n",
       "      <th>GICS Sector</th>\n",
       "      <th>Market_Cap</th>\n",
       "    </tr>\n",
       "  </thead>\n",
       "  <tbody>\n",
       "    <tr>\n",
       "      <th>0</th>\n",
       "      <td>MMM</td>\n",
       "      <td>Industrials</td>\n",
       "      <td>1.146455e+11</td>\n",
       "    </tr>\n",
       "    <tr>\n",
       "      <th>1</th>\n",
       "      <td>ABT</td>\n",
       "      <td>Health Care</td>\n",
       "      <td>2.165854e+11</td>\n",
       "    </tr>\n",
       "    <tr>\n",
       "      <th>2</th>\n",
       "      <td>ABBV</td>\n",
       "      <td>Health Care</td>\n",
       "      <td>2.022537e+11</td>\n",
       "    </tr>\n",
       "    <tr>\n",
       "      <th>3</th>\n",
       "      <td>ABMD</td>\n",
       "      <td>Health Care</td>\n",
       "      <td>1.569610e+10</td>\n",
       "    </tr>\n",
       "    <tr>\n",
       "      <th>4</th>\n",
       "      <td>ACN</td>\n",
       "      <td>Information Technology</td>\n",
       "      <td>2.040843e+11</td>\n",
       "    </tr>\n",
       "  </tbody>\n",
       "</table>\n",
       "</div>"
      ]
     },
     "metadata": {},
     "execution_count": 3
    }
   ],
   "metadata": {}
  },
  {
   "cell_type": "code",
   "execution_count": 4,
   "source": [
    "stocks_df.to_sql('stock_industry_marketcap', engine, index=False, if_exists='replace')"
   ],
   "outputs": [],
   "metadata": {}
  },
  {
   "cell_type": "code",
   "execution_count": 5,
   "source": [
    "engine.table_names()"
   ],
   "outputs": [
    {
     "output_type": "execute_result",
     "data": {
      "text/plain": [
       "['stock_industry_marketcap']"
      ]
     },
     "metadata": {},
     "execution_count": 5
    }
   ],
   "metadata": {}
  },
  {
   "cell_type": "code",
   "execution_count": 6,
   "source": [
    "sql_stock_df = pd.read_sql_table('stock_industry_marketcap', con=engine)\r\n",
    "\r\n",
    "sql_stock_df.head()"
   ],
   "outputs": [
    {
     "output_type": "execute_result",
     "data": {
      "text/plain": [
       "  Symbol             GICS Sector    Market_Cap\n",
       "0    MMM             Industrials  1.146455e+11\n",
       "1    ABT             Health Care  2.165854e+11\n",
       "2   ABBV             Health Care  2.022537e+11\n",
       "3   ABMD             Health Care  1.569610e+10\n",
       "4    ACN  Information Technology  2.040843e+11"
      ],
      "text/html": [
       "<div>\n",
       "<style scoped>\n",
       "    .dataframe tbody tr th:only-of-type {\n",
       "        vertical-align: middle;\n",
       "    }\n",
       "\n",
       "    .dataframe tbody tr th {\n",
       "        vertical-align: top;\n",
       "    }\n",
       "\n",
       "    .dataframe thead th {\n",
       "        text-align: right;\n",
       "    }\n",
       "</style>\n",
       "<table border=\"1\" class=\"dataframe\">\n",
       "  <thead>\n",
       "    <tr style=\"text-align: right;\">\n",
       "      <th></th>\n",
       "      <th>Symbol</th>\n",
       "      <th>GICS Sector</th>\n",
       "      <th>Market_Cap</th>\n",
       "    </tr>\n",
       "  </thead>\n",
       "  <tbody>\n",
       "    <tr>\n",
       "      <th>0</th>\n",
       "      <td>MMM</td>\n",
       "      <td>Industrials</td>\n",
       "      <td>1.146455e+11</td>\n",
       "    </tr>\n",
       "    <tr>\n",
       "      <th>1</th>\n",
       "      <td>ABT</td>\n",
       "      <td>Health Care</td>\n",
       "      <td>2.165854e+11</td>\n",
       "    </tr>\n",
       "    <tr>\n",
       "      <th>2</th>\n",
       "      <td>ABBV</td>\n",
       "      <td>Health Care</td>\n",
       "      <td>2.022537e+11</td>\n",
       "    </tr>\n",
       "    <tr>\n",
       "      <th>3</th>\n",
       "      <td>ABMD</td>\n",
       "      <td>Health Care</td>\n",
       "      <td>1.569610e+10</td>\n",
       "    </tr>\n",
       "    <tr>\n",
       "      <th>4</th>\n",
       "      <td>ACN</td>\n",
       "      <td>Information Technology</td>\n",
       "      <td>2.040843e+11</td>\n",
       "    </tr>\n",
       "  </tbody>\n",
       "</table>\n",
       "</div>"
      ]
     },
     "metadata": {},
     "execution_count": 6
    }
   ],
   "metadata": {}
  },
  {
   "cell_type": "code",
   "execution_count": 7,
   "source": [
    "top5 = \"\"\"\r\n",
    "SELECT Symbol\r\n",
    "FROM stock_industry_marketcap\r\n",
    "WHERE `GICS Sector` = 'Industrials'\r\n",
    "ORDER BY Market_Cap DESC\r\n",
    "LIMIT 5\r\n",
    "\"\"\"\r\n",
    "# UNION all\r\n",
    "# SELECT * FROM stock_industry_marketcap WHERE GICS Sector = 'Utilities' ORDER BY Market_Cap LIMIT 5\r\n",
    "# UNION all\r\n",
    "# SELECT * FROM stock_industry_marketcap WHERE GICS Sector = 'Real Estate' ORDER BY Market_Cap LIMIT 5\r\n",
    "# UNION all\r\n",
    "# SELECT * FROM stock_industry_marketcap WHERE GICS Sector = 'Materials' ORDER BY Market_Cap LIMIT 5\r\n",
    "# UNION all\r\n",
    "# SELECT * FROM stock_industry_marketcap WHERE GICS Sector = 'Information Technology' ORDER BY Market_Cap LIMIT 5\r\n",
    "# UNION all\r\n",
    "# SELECT * FROM stock_industry_marketcap WHERE GICS Sector = 'Health Care' ORDER BY Market_Cap LIMIT 5\r\n",
    "# UNION all\r\n",
    "# SELECT * FROM stock_industry_marketcap WHERE GICS Sector = 'Financials' ORDER BY Market_Cap LIMIT 5\r\n",
    "# UNION all\r\n",
    "# SELECT * FROM stock_industry_marketcap WHERE GICS Sector = 'Energy' ORDER BY Market_Cap LIMIT 5\r\n",
    "# UNION all\r\n",
    "# SELECT * FROM stock_industry_marketcap WHERE GICS Sector = 'Consumer Staples' ORDER BY Market_Cap LIMIT 5\r\n",
    "# UNION all\r\n",
    "# SELECT * FROM stock_industry_marketcap WHERE GICS Sector = 'Consumer Discretionary' ORDER BY Market_Cap LIMIT 5\r\n",
    "# UNION all\r\n",
    "# SELECT * FROM stock_industry_marketcap WHERE GICS Sector = 'Communication Services' ORDER BY Market_Cap LIMIT 5\r\n",
    "# UNION all\r\n",
    "\r\n"
   ],
   "outputs": [],
   "metadata": {}
  },
  {
   "cell_type": "code",
   "execution_count": 8,
   "source": [
    "results = engine.execute(top5)\r\n"
   ],
   "outputs": [],
   "metadata": {}
  },
  {
   "cell_type": "code",
   "execution_count": 9,
   "source": [
    "data = pd.DataFrame(data=results)\r\n",
    "data"
   ],
   "outputs": [
    {
     "output_type": "execute_result",
     "data": {
      "text/plain": [
       "     0\n",
       "0   GE\n",
       "1  UPS\n",
       "2  HON\n",
       "3  UNP\n",
       "4   BA"
      ],
      "text/html": [
       "<div>\n",
       "<style scoped>\n",
       "    .dataframe tbody tr th:only-of-type {\n",
       "        vertical-align: middle;\n",
       "    }\n",
       "\n",
       "    .dataframe tbody tr th {\n",
       "        vertical-align: top;\n",
       "    }\n",
       "\n",
       "    .dataframe thead th {\n",
       "        text-align: right;\n",
       "    }\n",
       "</style>\n",
       "<table border=\"1\" class=\"dataframe\">\n",
       "  <thead>\n",
       "    <tr style=\"text-align: right;\">\n",
       "      <th></th>\n",
       "      <th>0</th>\n",
       "    </tr>\n",
       "  </thead>\n",
       "  <tbody>\n",
       "    <tr>\n",
       "      <th>0</th>\n",
       "      <td>GE</td>\n",
       "    </tr>\n",
       "    <tr>\n",
       "      <th>1</th>\n",
       "      <td>UPS</td>\n",
       "    </tr>\n",
       "    <tr>\n",
       "      <th>2</th>\n",
       "      <td>HON</td>\n",
       "    </tr>\n",
       "    <tr>\n",
       "      <th>3</th>\n",
       "      <td>UNP</td>\n",
       "    </tr>\n",
       "    <tr>\n",
       "      <th>4</th>\n",
       "      <td>BA</td>\n",
       "    </tr>\n",
       "  </tbody>\n",
       "</table>\n",
       "</div>"
      ]
     },
     "metadata": {},
     "execution_count": 9
    }
   ],
   "metadata": {}
  },
  {
   "cell_type": "code",
   "execution_count": 10,
   "source": [
    "ls1 = ['Industrials', 'Utilities', 'Materials']"
   ],
   "outputs": [],
   "metadata": {}
  },
  {
   "cell_type": "code",
   "execution_count": 11,
   "source": [
    "l1 = ls1[0]\r\n",
    "l1"
   ],
   "outputs": [
    {
     "output_type": "execute_result",
     "data": {
      "text/plain": [
       "'Industrials'"
      ]
     },
     "metadata": {},
     "execution_count": 11
    }
   ],
   "metadata": {}
  },
  {
   "cell_type": "code",
   "execution_count": 16,
   "source": [
    "def generate_tickers(ls1):\r\n",
    "    l1 = ls1[0]\r\n",
    "    top5_1 = f\"\"\"\r\n",
    "    SELECT Symbol\r\n",
    "    FROM stock_industry_marketcap\r\n",
    "    WHERE `GICS Sector` = '{l1}'\r\n",
    "    ORDER BY Market_Cap DESC\r\n",
    "    LIMIT 5\r\n",
    "    \"\"\"\r\n",
    "    results_1 = engine.execute(top5_1)\r\n",
    "    data_1 = pd.DataFrame(results_1)\r\n",
    "\r\n",
    "    l2 = ls1[1]\r\n",
    "    top5_2 = f\"\"\"\r\n",
    "    SELECT Symbol\r\n",
    "    FROM stock_industry_marketcap\r\n",
    "    WHERE `GICS Sector` = '{l2}'\r\n",
    "    ORDER BY Market_Cap DESC\r\n",
    "    LIMIT 5\r\n",
    "    \"\"\"\r\n",
    "    results_2 = engine.execute(top5_2)\r\n",
    "    data_2 = pd.DataFrame(results_2)\r\n",
    "\r\n",
    "    l3 = ls1[2]\r\n",
    "    top5_3 = f\"\"\"\r\n",
    "    SELECT Symbol\r\n",
    "    FROM stock_industry_marketcap\r\n",
    "    WHERE `GICS Sector` = '{l3}'\r\n",
    "    ORDER BY Market_Cap DESC\r\n",
    "    LIMIT 5\r\n",
    "    \"\"\"\r\n",
    "    results_3 = engine.execute(top5_3)\r\n",
    "    data_3 = pd.DataFrame(results_3)\r\n",
    "\r\n",
    "    clean_symbols = pd.concat([data_1, data_2, data_3], axis=\"rows\", join=\"inner\")\r\n",
    "    symbols = clean_symbols[0].tolist()\r\n",
    "    return print(symbols)\r\n",
    "    \r\n",
    "    \r\n",
    "\r\n",
    "generate_tickers(ls1)\r\n",
    "\r\n"
   ],
   "outputs": [
    {
     "output_type": "stream",
     "name": "stdout",
     "text": [
      "['GE', 'UPS', 'HON', 'UNP', 'BA', 'NEE', 'DUK', 'SO', 'D', 'EXC', 'LIN', 'SHW', 'APD', 'ECL', 'FCX']\n"
     ]
    }
   ],
   "metadata": {}
  },
  {
   "cell_type": "code",
   "execution_count": null,
   "source": [],
   "outputs": [],
   "metadata": {}
  }
 ],
 "metadata": {
  "orig_nbformat": 4,
  "language_info": {
   "name": "python",
   "version": "3.7.10",
   "mimetype": "text/x-python",
   "codemirror_mode": {
    "name": "ipython",
    "version": 3
   },
   "pygments_lexer": "ipython3",
   "nbconvert_exporter": "python",
   "file_extension": ".py"
  },
  "kernelspec": {
   "name": "python3",
   "display_name": "Python 3.7.10 64-bit ('dev': conda)"
  },
  "interpreter": {
   "hash": "0bc772866a3affdc5803be489598f529b0192fa171585f2d09392617c9a5b224"
  }
 },
 "nbformat": 4,
 "nbformat_minor": 2
}