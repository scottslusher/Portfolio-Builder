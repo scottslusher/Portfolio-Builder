{
 "cells": [
  {
   "cell_type": "code",
   "execution_count": 2,
   "source": [
    "import pandas as pd\r\n",
    "import sqlalchemy as sql\r\n",
    "import os\r\n",
    "import questionary\r\n",
    "import yfinance as yf\r\n",
    "from pathlib import Path\r\n",
    "import csv\r\n",
    "import fire\r\n",
    "import requests\r\n",
    "import numpy as np\r\n",
    "import matplotlib.pyplot as plt\r\n",
    "import scipy.optimize as optimization\r\n",
    "import datetime as dt\r\n",
    "from datetime import date"
   ],
   "outputs": [],
   "metadata": {}
  },
  {
   "cell_type": "code",
   "execution_count": null,
   "source": [
    "# correct label of GICS Sector to GICS_Sector\r\n"
   ],
   "outputs": [],
   "metadata": {}
  },
  {
   "cell_type": "code",
   "execution_count": 3,
   "source": [
    "def sectors():\r\n",
    "    csvpath = Path(\"../resources/stock_industry_marketcap.csv\")\r\n",
    "    sp500_csv = pd.read_csv(csvpath)\r\n",
    "    sector = \"GICS Sector\"\r\n",
    "    sp500_sectors = sp500_csv[sector].drop_duplicates().to_list()\r\n",
    "    sectors_1 = sp500_sectors #POSSIBLE ACTION: dropping the sector that\r\n",
    "    sectors_2 = sp500_sectors\r\n",
    "    sectors_3 = sp500_sectors \r\n",
    "    return print(sectors_1, sectors_2, sectors_3)"
   ],
   "outputs": [],
   "metadata": {}
  },
  {
   "cell_type": "code",
   "execution_count": 4,
   "source": [
    "# Create a database connection string that links an in-memory database\r\n",
    "database_connection_string = 'sqlite:///stock_industry_top5.db'\r\n",
    "\r\n",
    "# Database connection object\r\n",
    "engine = sql.create_engine(database_connection_string)\r\n",
    "\r\n",
    "# Confirm the engine was created\r\n",
    "engine"
   ],
   "outputs": [
    {
     "output_type": "execute_result",
     "data": {
      "text/plain": [
       "Engine(sqlite:///stock_industry_top5.db)"
      ]
     },
     "metadata": {},
     "execution_count": 4
    }
   ],
   "metadata": {}
  },
  {
   "cell_type": "code",
   "execution_count": 5,
   "source": [
    "stocks_df = pd.read_csv(\r\n",
    "    Path('../resources/stock_industry_marketcap.csv')\r\n",
    ").sort_values(\"Market_Cap\", ascending=False)\r\n",
    "stocks_df"
   ],
   "outputs": [
    {
     "output_type": "execute_result",
     "data": {
      "text/plain": [
       "    Symbol             GICS Sector    Market_Cap\n",
       "44    AAPL  Information Technology  2.415723e+12\n",
       "313   MSFT  Information Technology  2.180088e+12\n",
       "22    GOOG  Communication Services  1.818394e+12\n",
       "21   GOOGL  Communication Services  1.818394e+12\n",
       "24    AMZN  Consumer Discretionary  1.694015e+12\n",
       "..     ...                     ...           ...\n",
       "280    LEG  Consumer Discretionary  6.419166e+09\n",
       "463    UNM              Financials  5.438938e+09\n",
       "342    NOV                  Energy  5.254149e+09\n",
       "274   BBWI  Consumer Discretionary           NaN\n",
       "354    OGN             Health Care           NaN\n",
       "\n",
       "[503 rows x 3 columns]"
      ],
      "text/html": [
       "<div>\n",
       "<style scoped>\n",
       "    .dataframe tbody tr th:only-of-type {\n",
       "        vertical-align: middle;\n",
       "    }\n",
       "\n",
       "    .dataframe tbody tr th {\n",
       "        vertical-align: top;\n",
       "    }\n",
       "\n",
       "    .dataframe thead th {\n",
       "        text-align: right;\n",
       "    }\n",
       "</style>\n",
       "<table border=\"1\" class=\"dataframe\">\n",
       "  <thead>\n",
       "    <tr style=\"text-align: right;\">\n",
       "      <th></th>\n",
       "      <th>Symbol</th>\n",
       "      <th>GICS Sector</th>\n",
       "      <th>Market_Cap</th>\n",
       "    </tr>\n",
       "  </thead>\n",
       "  <tbody>\n",
       "    <tr>\n",
       "      <th>44</th>\n",
       "      <td>AAPL</td>\n",
       "      <td>Information Technology</td>\n",
       "      <td>2.415723e+12</td>\n",
       "    </tr>\n",
       "    <tr>\n",
       "      <th>313</th>\n",
       "      <td>MSFT</td>\n",
       "      <td>Information Technology</td>\n",
       "      <td>2.180088e+12</td>\n",
       "    </tr>\n",
       "    <tr>\n",
       "      <th>22</th>\n",
       "      <td>GOOG</td>\n",
       "      <td>Communication Services</td>\n",
       "      <td>1.818394e+12</td>\n",
       "    </tr>\n",
       "    <tr>\n",
       "      <th>21</th>\n",
       "      <td>GOOGL</td>\n",
       "      <td>Communication Services</td>\n",
       "      <td>1.818394e+12</td>\n",
       "    </tr>\n",
       "    <tr>\n",
       "      <th>24</th>\n",
       "      <td>AMZN</td>\n",
       "      <td>Consumer Discretionary</td>\n",
       "      <td>1.694015e+12</td>\n",
       "    </tr>\n",
       "    <tr>\n",
       "      <th>...</th>\n",
       "      <td>...</td>\n",
       "      <td>...</td>\n",
       "      <td>...</td>\n",
       "    </tr>\n",
       "    <tr>\n",
       "      <th>280</th>\n",
       "      <td>LEG</td>\n",
       "      <td>Consumer Discretionary</td>\n",
       "      <td>6.419166e+09</td>\n",
       "    </tr>\n",
       "    <tr>\n",
       "      <th>463</th>\n",
       "      <td>UNM</td>\n",
       "      <td>Financials</td>\n",
       "      <td>5.438938e+09</td>\n",
       "    </tr>\n",
       "    <tr>\n",
       "      <th>342</th>\n",
       "      <td>NOV</td>\n",
       "      <td>Energy</td>\n",
       "      <td>5.254149e+09</td>\n",
       "    </tr>\n",
       "    <tr>\n",
       "      <th>274</th>\n",
       "      <td>BBWI</td>\n",
       "      <td>Consumer Discretionary</td>\n",
       "      <td>NaN</td>\n",
       "    </tr>\n",
       "    <tr>\n",
       "      <th>354</th>\n",
       "      <td>OGN</td>\n",
       "      <td>Health Care</td>\n",
       "      <td>NaN</td>\n",
       "    </tr>\n",
       "  </tbody>\n",
       "</table>\n",
       "<p>503 rows × 3 columns</p>\n",
       "</div>"
      ]
     },
     "metadata": {},
     "execution_count": 5
    }
   ],
   "metadata": {}
  },
  {
   "cell_type": "code",
   "execution_count": 6,
   "source": [
    "stocks_df.to_sql('stocks_by_marketcap', engine, index=False, if_exists='replace')\r\n"
   ],
   "outputs": [],
   "metadata": {}
  },
  {
   "cell_type": "code",
   "execution_count": 7,
   "source": [
    "engine.table_names()"
   ],
   "outputs": [
    {
     "output_type": "stream",
     "name": "stderr",
     "text": [
      "C:\\Users\\bbish\\anaconda3\\envs\\dev\\lib\\site-packages\\ipykernel_launcher.py:1: SADeprecationWarning: The Engine.table_names() method is deprecated and will be removed in a future release.  Please refer to Inspector.get_table_names(). (deprecated since: 1.4)\n",
      "  \"\"\"Entry point for launching an IPython kernel.\n"
     ]
    },
    {
     "output_type": "execute_result",
     "data": {
      "text/plain": [
       "['stocks_by_marketcap']"
      ]
     },
     "metadata": {},
     "execution_count": 7
    }
   ],
   "metadata": {}
  },
  {
   "cell_type": "code",
   "execution_count": null,
   "source": [
    "EXEC sp_rename 'Sales.SalesTerritory.TerritoryID', 'TerrID', 'COLUMN';"
   ],
   "outputs": [],
   "metadata": {}
  },
  {
   "cell_type": "code",
   "execution_count": 9,
   "source": [
    "sql_stock_df = pd.read_sql_table(\"stocks_by_marketcap\", engine)\r\n",
    "top5_sectors_1 = \"\"\"\r\n",
    "    SELECT Symbol\r\n",
    "    FROM stocks_by_marketcap\r\n",
    "    WHERE 'GICS Sector' = 'Industrials'\r\n",
    "    ORDER BY Market_Cap DESC\r\n",
    "    LIMIT 5\r\n",
    "    \"\"\"\r\n",
    "results = engine.execute(top5_sectors_1)\r\n",
    "list(results)"
   ],
   "outputs": [
    {
     "output_type": "error",
     "ename": "OperationalError",
     "evalue": "(sqlite3.OperationalError) near \"Sector\": syntax error\n[SQL: \n    SELECT Symbol\n    FROM stocks_by_marketcap\n    WHERE GICS Sector = 'Industrials'\n    ORDER BY Market_Cap DESC\n    LIMIT 5\n    ]\n(Background on this error at: http://sqlalche.me/e/14/e3q8)",
     "traceback": [
      "\u001b[1;31m---------------------------------------------------------------------------\u001b[0m",
      "\u001b[1;31mOperationalError\u001b[0m                          Traceback (most recent call last)",
      "\u001b[1;32m~\\anaconda3\\envs\\dev\\lib\\site-packages\\sqlalchemy\\engine\\base.py\u001b[0m in \u001b[0;36m_execute_context\u001b[1;34m(self, dialect, constructor, statement, parameters, execution_options, *args, **kw)\u001b[0m\n\u001b[0;32m   1705\u001b[0m                     self.dialect.do_execute(\n\u001b[1;32m-> 1706\u001b[1;33m                         \u001b[0mcursor\u001b[0m\u001b[1;33m,\u001b[0m \u001b[0mstatement\u001b[0m\u001b[1;33m,\u001b[0m \u001b[0mparameters\u001b[0m\u001b[1;33m,\u001b[0m \u001b[0mcontext\u001b[0m\u001b[1;33m\u001b[0m\u001b[1;33m\u001b[0m\u001b[0m\n\u001b[0m\u001b[0;32m   1707\u001b[0m                     )\n",
      "\u001b[1;32m~\\anaconda3\\envs\\dev\\lib\\site-packages\\sqlalchemy\\engine\\default.py\u001b[0m in \u001b[0;36mdo_execute\u001b[1;34m(self, cursor, statement, parameters, context)\u001b[0m\n\u001b[0;32m    691\u001b[0m     \u001b[1;32mdef\u001b[0m \u001b[0mdo_execute\u001b[0m\u001b[1;33m(\u001b[0m\u001b[0mself\u001b[0m\u001b[1;33m,\u001b[0m \u001b[0mcursor\u001b[0m\u001b[1;33m,\u001b[0m \u001b[0mstatement\u001b[0m\u001b[1;33m,\u001b[0m \u001b[0mparameters\u001b[0m\u001b[1;33m,\u001b[0m \u001b[0mcontext\u001b[0m\u001b[1;33m=\u001b[0m\u001b[1;32mNone\u001b[0m\u001b[1;33m)\u001b[0m\u001b[1;33m:\u001b[0m\u001b[1;33m\u001b[0m\u001b[1;33m\u001b[0m\u001b[0m\n\u001b[1;32m--> 692\u001b[1;33m         \u001b[0mcursor\u001b[0m\u001b[1;33m.\u001b[0m\u001b[0mexecute\u001b[0m\u001b[1;33m(\u001b[0m\u001b[0mstatement\u001b[0m\u001b[1;33m,\u001b[0m \u001b[0mparameters\u001b[0m\u001b[1;33m)\u001b[0m\u001b[1;33m\u001b[0m\u001b[1;33m\u001b[0m\u001b[0m\n\u001b[0m\u001b[0;32m    693\u001b[0m \u001b[1;33m\u001b[0m\u001b[0m\n",
      "\u001b[1;31mOperationalError\u001b[0m: near \"Sector\": syntax error",
      "\nThe above exception was the direct cause of the following exception:\n",
      "\u001b[1;31mOperationalError\u001b[0m                          Traceback (most recent call last)",
      "\u001b[1;32m<ipython-input-9-7d1c78d6d8ed>\u001b[0m in \u001b[0;36m<module>\u001b[1;34m\u001b[0m\n\u001b[0;32m      7\u001b[0m     \u001b[0mLIMIT\u001b[0m \u001b[1;36m5\u001b[0m\u001b[1;33m\u001b[0m\u001b[1;33m\u001b[0m\u001b[0m\n\u001b[0;32m      8\u001b[0m     \"\"\"\n\u001b[1;32m----> 9\u001b[1;33m \u001b[0mresults\u001b[0m \u001b[1;33m=\u001b[0m \u001b[0mengine\u001b[0m\u001b[1;33m.\u001b[0m\u001b[0mexecute\u001b[0m\u001b[1;33m(\u001b[0m\u001b[0mtop5_sectors_1\u001b[0m\u001b[1;33m)\u001b[0m\u001b[1;33m\u001b[0m\u001b[1;33m\u001b[0m\u001b[0m\n\u001b[0m\u001b[0;32m     10\u001b[0m \u001b[0mlist\u001b[0m\u001b[1;33m(\u001b[0m\u001b[0mresults\u001b[0m\u001b[1;33m)\u001b[0m\u001b[1;33m\u001b[0m\u001b[1;33m\u001b[0m\u001b[0m\n",
      "\u001b[1;32m<string>\u001b[0m in \u001b[0;36mexecute\u001b[1;34m(self, statement, *multiparams, **params)\u001b[0m\n",
      "\u001b[1;32m~\\anaconda3\\envs\\dev\\lib\\site-packages\\sqlalchemy\\util\\deprecations.py\u001b[0m in \u001b[0;36mwarned\u001b[1;34m(fn, *args, **kwargs)\u001b[0m\n\u001b[0;32m    388\u001b[0m         \u001b[1;32mif\u001b[0m \u001b[1;32mnot\u001b[0m \u001b[0mskip_warning\u001b[0m\u001b[1;33m:\u001b[0m\u001b[1;33m\u001b[0m\u001b[1;33m\u001b[0m\u001b[0m\n\u001b[0;32m    389\u001b[0m             \u001b[0m_warn_with_version\u001b[0m\u001b[1;33m(\u001b[0m\u001b[0mmessage\u001b[0m\u001b[1;33m,\u001b[0m \u001b[0mversion\u001b[0m\u001b[1;33m,\u001b[0m \u001b[0mwtype\u001b[0m\u001b[1;33m,\u001b[0m \u001b[0mstacklevel\u001b[0m\u001b[1;33m=\u001b[0m\u001b[1;36m3\u001b[0m\u001b[1;33m)\u001b[0m\u001b[1;33m\u001b[0m\u001b[1;33m\u001b[0m\u001b[0m\n\u001b[1;32m--> 390\u001b[1;33m         \u001b[1;32mreturn\u001b[0m \u001b[0mfn\u001b[0m\u001b[1;33m(\u001b[0m\u001b[1;33m*\u001b[0m\u001b[0margs\u001b[0m\u001b[1;33m,\u001b[0m \u001b[1;33m**\u001b[0m\u001b[0mkwargs\u001b[0m\u001b[1;33m)\u001b[0m\u001b[1;33m\u001b[0m\u001b[1;33m\u001b[0m\u001b[0m\n\u001b[0m\u001b[0;32m    391\u001b[0m \u001b[1;33m\u001b[0m\u001b[0m\n\u001b[0;32m    392\u001b[0m     \u001b[0mdoc\u001b[0m \u001b[1;33m=\u001b[0m \u001b[0mfunc\u001b[0m\u001b[1;33m.\u001b[0m\u001b[0m__doc__\u001b[0m \u001b[1;32mis\u001b[0m \u001b[1;32mnot\u001b[0m \u001b[1;32mNone\u001b[0m \u001b[1;32mand\u001b[0m \u001b[0mfunc\u001b[0m\u001b[1;33m.\u001b[0m\u001b[0m__doc__\u001b[0m \u001b[1;32mor\u001b[0m \u001b[1;34m\"\"\u001b[0m\u001b[1;33m\u001b[0m\u001b[1;33m\u001b[0m\u001b[0m\n",
      "\u001b[1;32m~\\anaconda3\\envs\\dev\\lib\\site-packages\\sqlalchemy\\engine\\base.py\u001b[0m in \u001b[0;36mexecute\u001b[1;34m(self, statement, *multiparams, **params)\u001b[0m\n\u001b[0;32m   3035\u001b[0m         \"\"\"\n\u001b[0;32m   3036\u001b[0m         \u001b[0mconnection\u001b[0m \u001b[1;33m=\u001b[0m \u001b[0mself\u001b[0m\u001b[1;33m.\u001b[0m\u001b[0mconnect\u001b[0m\u001b[1;33m(\u001b[0m\u001b[0mclose_with_result\u001b[0m\u001b[1;33m=\u001b[0m\u001b[1;32mTrue\u001b[0m\u001b[1;33m)\u001b[0m\u001b[1;33m\u001b[0m\u001b[1;33m\u001b[0m\u001b[0m\n\u001b[1;32m-> 3037\u001b[1;33m         \u001b[1;32mreturn\u001b[0m \u001b[0mconnection\u001b[0m\u001b[1;33m.\u001b[0m\u001b[0mexecute\u001b[0m\u001b[1;33m(\u001b[0m\u001b[0mstatement\u001b[0m\u001b[1;33m,\u001b[0m \u001b[1;33m*\u001b[0m\u001b[0mmultiparams\u001b[0m\u001b[1;33m,\u001b[0m \u001b[1;33m**\u001b[0m\u001b[0mparams\u001b[0m\u001b[1;33m)\u001b[0m\u001b[1;33m\u001b[0m\u001b[1;33m\u001b[0m\u001b[0m\n\u001b[0m\u001b[0;32m   3038\u001b[0m \u001b[1;33m\u001b[0m\u001b[0m\n\u001b[0;32m   3039\u001b[0m     @util.deprecated_20(\n",
      "\u001b[1;32m~\\anaconda3\\envs\\dev\\lib\\site-packages\\sqlalchemy\\engine\\base.py\u001b[0m in \u001b[0;36mexecute\u001b[1;34m(self, statement, *multiparams, **params)\u001b[0m\n\u001b[0;32m   1188\u001b[0m                 \u001b[0mparams\u001b[0m\u001b[1;33m,\u001b[0m\u001b[1;33m\u001b[0m\u001b[1;33m\u001b[0m\u001b[0m\n\u001b[0;32m   1189\u001b[0m                 \u001b[0m_EMPTY_EXECUTION_OPTS\u001b[0m\u001b[1;33m,\u001b[0m\u001b[1;33m\u001b[0m\u001b[1;33m\u001b[0m\u001b[0m\n\u001b[1;32m-> 1190\u001b[1;33m                 \u001b[0mfuture\u001b[0m\u001b[1;33m=\u001b[0m\u001b[1;32mFalse\u001b[0m\u001b[1;33m,\u001b[0m\u001b[1;33m\u001b[0m\u001b[1;33m\u001b[0m\u001b[0m\n\u001b[0m\u001b[0;32m   1191\u001b[0m             )\n\u001b[0;32m   1192\u001b[0m \u001b[1;33m\u001b[0m\u001b[0m\n",
      "\u001b[1;32m~\\anaconda3\\envs\\dev\\lib\\site-packages\\sqlalchemy\\engine\\base.py\u001b[0m in \u001b[0;36m_exec_driver_sql\u001b[1;34m(self, statement, multiparams, params, execution_options, future)\u001b[0m\n\u001b[0;32m   1489\u001b[0m             \u001b[0mexecution_options\u001b[0m\u001b[1;33m,\u001b[0m\u001b[1;33m\u001b[0m\u001b[1;33m\u001b[0m\u001b[0m\n\u001b[0;32m   1490\u001b[0m             \u001b[0mstatement\u001b[0m\u001b[1;33m,\u001b[0m\u001b[1;33m\u001b[0m\u001b[1;33m\u001b[0m\u001b[0m\n\u001b[1;32m-> 1491\u001b[1;33m             \u001b[0mdistilled_parameters\u001b[0m\u001b[1;33m,\u001b[0m\u001b[1;33m\u001b[0m\u001b[1;33m\u001b[0m\u001b[0m\n\u001b[0m\u001b[0;32m   1492\u001b[0m         )\n\u001b[0;32m   1493\u001b[0m \u001b[1;33m\u001b[0m\u001b[0m\n",
      "\u001b[1;32m~\\anaconda3\\envs\\dev\\lib\\site-packages\\sqlalchemy\\engine\\base.py\u001b[0m in \u001b[0;36m_execute_context\u001b[1;34m(self, dialect, constructor, statement, parameters, execution_options, *args, **kw)\u001b[0m\n\u001b[0;32m   1747\u001b[0m         \u001b[1;32mexcept\u001b[0m \u001b[0mBaseException\u001b[0m \u001b[1;32mas\u001b[0m \u001b[0me\u001b[0m\u001b[1;33m:\u001b[0m\u001b[1;33m\u001b[0m\u001b[1;33m\u001b[0m\u001b[0m\n\u001b[0;32m   1748\u001b[0m             self._handle_dbapi_exception(\n\u001b[1;32m-> 1749\u001b[1;33m                 \u001b[0me\u001b[0m\u001b[1;33m,\u001b[0m \u001b[0mstatement\u001b[0m\u001b[1;33m,\u001b[0m \u001b[0mparameters\u001b[0m\u001b[1;33m,\u001b[0m \u001b[0mcursor\u001b[0m\u001b[1;33m,\u001b[0m \u001b[0mcontext\u001b[0m\u001b[1;33m\u001b[0m\u001b[1;33m\u001b[0m\u001b[0m\n\u001b[0m\u001b[0;32m   1750\u001b[0m             )\n\u001b[0;32m   1751\u001b[0m \u001b[1;33m\u001b[0m\u001b[0m\n",
      "\u001b[1;32m~\\anaconda3\\envs\\dev\\lib\\site-packages\\sqlalchemy\\engine\\base.py\u001b[0m in \u001b[0;36m_handle_dbapi_exception\u001b[1;34m(self, e, statement, parameters, cursor, context)\u001b[0m\n\u001b[0;32m   1928\u001b[0m             \u001b[1;32melif\u001b[0m \u001b[0mshould_wrap\u001b[0m\u001b[1;33m:\u001b[0m\u001b[1;33m\u001b[0m\u001b[1;33m\u001b[0m\u001b[0m\n\u001b[0;32m   1929\u001b[0m                 util.raise_(\n\u001b[1;32m-> 1930\u001b[1;33m                     \u001b[0msqlalchemy_exception\u001b[0m\u001b[1;33m,\u001b[0m \u001b[0mwith_traceback\u001b[0m\u001b[1;33m=\u001b[0m\u001b[0mexc_info\u001b[0m\u001b[1;33m[\u001b[0m\u001b[1;36m2\u001b[0m\u001b[1;33m]\u001b[0m\u001b[1;33m,\u001b[0m \u001b[0mfrom_\u001b[0m\u001b[1;33m=\u001b[0m\u001b[0me\u001b[0m\u001b[1;33m\u001b[0m\u001b[1;33m\u001b[0m\u001b[0m\n\u001b[0m\u001b[0;32m   1931\u001b[0m                 )\n\u001b[0;32m   1932\u001b[0m             \u001b[1;32melse\u001b[0m\u001b[1;33m:\u001b[0m\u001b[1;33m\u001b[0m\u001b[1;33m\u001b[0m\u001b[0m\n",
      "\u001b[1;32m~\\anaconda3\\envs\\dev\\lib\\site-packages\\sqlalchemy\\util\\compat.py\u001b[0m in \u001b[0;36mraise_\u001b[1;34m(***failed resolving arguments***)\u001b[0m\n\u001b[0;32m    209\u001b[0m \u001b[1;33m\u001b[0m\u001b[0m\n\u001b[0;32m    210\u001b[0m         \u001b[1;32mtry\u001b[0m\u001b[1;33m:\u001b[0m\u001b[1;33m\u001b[0m\u001b[1;33m\u001b[0m\u001b[0m\n\u001b[1;32m--> 211\u001b[1;33m             \u001b[1;32mraise\u001b[0m \u001b[0mexception\u001b[0m\u001b[1;33m\u001b[0m\u001b[1;33m\u001b[0m\u001b[0m\n\u001b[0m\u001b[0;32m    212\u001b[0m         \u001b[1;32mfinally\u001b[0m\u001b[1;33m:\u001b[0m\u001b[1;33m\u001b[0m\u001b[1;33m\u001b[0m\u001b[0m\n\u001b[0;32m    213\u001b[0m             \u001b[1;31m# credit to\u001b[0m\u001b[1;33m\u001b[0m\u001b[1;33m\u001b[0m\u001b[1;33m\u001b[0m\u001b[0m\n",
      "\u001b[1;32m~\\anaconda3\\envs\\dev\\lib\\site-packages\\sqlalchemy\\engine\\base.py\u001b[0m in \u001b[0;36m_execute_context\u001b[1;34m(self, dialect, constructor, statement, parameters, execution_options, *args, **kw)\u001b[0m\n\u001b[0;32m   1704\u001b[0m                 \u001b[1;32mif\u001b[0m \u001b[1;32mnot\u001b[0m \u001b[0mevt_handled\u001b[0m\u001b[1;33m:\u001b[0m\u001b[1;33m\u001b[0m\u001b[1;33m\u001b[0m\u001b[0m\n\u001b[0;32m   1705\u001b[0m                     self.dialect.do_execute(\n\u001b[1;32m-> 1706\u001b[1;33m                         \u001b[0mcursor\u001b[0m\u001b[1;33m,\u001b[0m \u001b[0mstatement\u001b[0m\u001b[1;33m,\u001b[0m \u001b[0mparameters\u001b[0m\u001b[1;33m,\u001b[0m \u001b[0mcontext\u001b[0m\u001b[1;33m\u001b[0m\u001b[1;33m\u001b[0m\u001b[0m\n\u001b[0m\u001b[0;32m   1707\u001b[0m                     )\n\u001b[0;32m   1708\u001b[0m \u001b[1;33m\u001b[0m\u001b[0m\n",
      "\u001b[1;32m~\\anaconda3\\envs\\dev\\lib\\site-packages\\sqlalchemy\\engine\\default.py\u001b[0m in \u001b[0;36mdo_execute\u001b[1;34m(self, cursor, statement, parameters, context)\u001b[0m\n\u001b[0;32m    690\u001b[0m \u001b[1;33m\u001b[0m\u001b[0m\n\u001b[0;32m    691\u001b[0m     \u001b[1;32mdef\u001b[0m \u001b[0mdo_execute\u001b[0m\u001b[1;33m(\u001b[0m\u001b[0mself\u001b[0m\u001b[1;33m,\u001b[0m \u001b[0mcursor\u001b[0m\u001b[1;33m,\u001b[0m \u001b[0mstatement\u001b[0m\u001b[1;33m,\u001b[0m \u001b[0mparameters\u001b[0m\u001b[1;33m,\u001b[0m \u001b[0mcontext\u001b[0m\u001b[1;33m=\u001b[0m\u001b[1;32mNone\u001b[0m\u001b[1;33m)\u001b[0m\u001b[1;33m:\u001b[0m\u001b[1;33m\u001b[0m\u001b[1;33m\u001b[0m\u001b[0m\n\u001b[1;32m--> 692\u001b[1;33m         \u001b[0mcursor\u001b[0m\u001b[1;33m.\u001b[0m\u001b[0mexecute\u001b[0m\u001b[1;33m(\u001b[0m\u001b[0mstatement\u001b[0m\u001b[1;33m,\u001b[0m \u001b[0mparameters\u001b[0m\u001b[1;33m)\u001b[0m\u001b[1;33m\u001b[0m\u001b[1;33m\u001b[0m\u001b[0m\n\u001b[0m\u001b[0;32m    693\u001b[0m \u001b[1;33m\u001b[0m\u001b[0m\n\u001b[0;32m    694\u001b[0m     \u001b[1;32mdef\u001b[0m \u001b[0mdo_execute_no_params\u001b[0m\u001b[1;33m(\u001b[0m\u001b[0mself\u001b[0m\u001b[1;33m,\u001b[0m \u001b[0mcursor\u001b[0m\u001b[1;33m,\u001b[0m \u001b[0mstatement\u001b[0m\u001b[1;33m,\u001b[0m \u001b[0mcontext\u001b[0m\u001b[1;33m=\u001b[0m\u001b[1;32mNone\u001b[0m\u001b[1;33m)\u001b[0m\u001b[1;33m:\u001b[0m\u001b[1;33m\u001b[0m\u001b[1;33m\u001b[0m\u001b[0m\n",
      "\u001b[1;31mOperationalError\u001b[0m: (sqlite3.OperationalError) near \"Sector\": syntax error\n[SQL: \n    SELECT Symbol\n    FROM stocks_by_marketcap\n    WHERE GICS Sector = 'Industrials'\n    ORDER BY Market_Cap DESC\n    LIMIT 5\n    ]\n(Background on this error at: http://sqlalche.me/e/14/e3q8)"
     ]
    }
   ],
   "metadata": {}
  },
  {
   "cell_type": "code",
   "execution_count": 8,
   "source": [
    "# database_connection_string = 'sqlite:///../stock_industry_top5.db'\r\n",
    "# engine = sql.create_engine(database_connection_string)    \r\n",
    "sql_stock_df = pd.read_sql_table(\"stocks_by_marketcap\", engine)\r\n",
    "top5_sectors_1 = \"\"\"\r\n",
    "    SELECT Symbol\r\n",
    "    FROM stocks_by_marketcap\r\n",
    "    WHERE `GICS Sector` = 'Industrials'\r\n",
    "    ORDER BY Market_Cap DESC\r\n",
    "    LIMIT 5\r\n",
    "    \"\"\"\r\n",
    "results = engine.execute(top5_sectors_1)\r\n",
    "list(results)"
   ],
   "outputs": [
    {
     "output_type": "execute_result",
     "data": {
      "text/plain": [
       "[('GE',), ('UPS',), ('HON',), ('UNP',), ('BA',)]"
      ]
     },
     "metadata": {},
     "execution_count": 8
    }
   ],
   "metadata": {}
  },
  {
   "cell_type": "code",
   "execution_count": 8,
   "source": [
    "if __name__ == '__main__':\r\n",
    "    sectors_1, sectors_2, sectors_3 = sectors()\r\n",
    "\r\n",
    "    "
   ],
   "outputs": [
    {
     "output_type": "stream",
     "name": "stdout",
     "text": [
      "['Industrials', 'Health Care', 'Information Technology', 'Communication Services', 'Consumer Discretionary', 'Utilities', 'Financials', 'Materials', 'Real Estate', 'Consumer Staples', 'Energy'] ['Industrials', 'Health Care', 'Information Technology', 'Communication Services', 'Consumer Discretionary', 'Utilities', 'Financials', 'Materials', 'Real Estate', 'Consumer Staples', 'Energy'] ['Industrials', 'Health Care', 'Information Technology', 'Communication Services', 'Consumer Discretionary', 'Utilities', 'Financials', 'Materials', 'Real Estate', 'Consumer Staples', 'Energy']\n"
     ]
    },
    {
     "output_type": "error",
     "ename": "TypeError",
     "evalue": "cannot unpack non-iterable NoneType object",
     "traceback": [
      "\u001b[1;31m---------------------------------------------------------------------------\u001b[0m",
      "\u001b[1;31mTypeError\u001b[0m                                 Traceback (most recent call last)",
      "\u001b[1;32m<ipython-input-8-2765e53c548e>\u001b[0m in \u001b[0;36m<module>\u001b[1;34m\u001b[0m\n\u001b[0;32m      1\u001b[0m \u001b[1;32mif\u001b[0m \u001b[0m__name__\u001b[0m \u001b[1;33m==\u001b[0m \u001b[1;34m'__main__'\u001b[0m\u001b[1;33m:\u001b[0m\u001b[1;33m\u001b[0m\u001b[1;33m\u001b[0m\u001b[0m\n\u001b[1;32m----> 2\u001b[1;33m     \u001b[0msectors_1\u001b[0m\u001b[1;33m,\u001b[0m \u001b[0msectors_2\u001b[0m\u001b[1;33m,\u001b[0m \u001b[0msectors_3\u001b[0m \u001b[1;33m=\u001b[0m \u001b[0msectors\u001b[0m\u001b[1;33m(\u001b[0m\u001b[1;33m)\u001b[0m\u001b[1;33m\u001b[0m\u001b[1;33m\u001b[0m\u001b[0m\n\u001b[0m\u001b[0;32m      3\u001b[0m \u001b[1;33m\u001b[0m\u001b[0m\n\u001b[0;32m      4\u001b[0m \u001b[1;33m\u001b[0m\u001b[0m\n",
      "\u001b[1;31mTypeError\u001b[0m: cannot unpack non-iterable NoneType object"
     ]
    }
   ],
   "metadata": {}
  },
  {
   "cell_type": "code",
   "execution_count": 7,
   "source": [
    "def stocks(sp500_csv):\r\n",
    "    csvpath = Path(\"../resources/stock_industry_marketcap.csv\")\r\n",
    "    sp500_csv = pd.read_csv(csvpath)\r\n",
    "    sp500_stocks_sorted = sp500_csv.sort_values(\"Market_Cap\", ascending=False)\r\n",
    "    return sp500_stocks_sorted"
   ],
   "outputs": [],
   "metadata": {}
  },
  {
   "cell_type": "code",
   "execution_count": 10,
   "source": [
    "csvpath = Path(\"../resources/stock_industry_marketcap.csv\")\r\n",
    "sp500_csv = pd.read_csv(csvpath)\r\n",
    "sp500_stocks_sorted = sp500_csv.set_index(\"GICS Sector\").sort_values(\"Market_Cap\", ascending=False)"
   ],
   "outputs": [],
   "metadata": {}
  },
  {
   "cell_type": "code",
   "execution_count": 11,
   "source": [
    "sp500_stocks_sorted"
   ],
   "outputs": [
    {
     "output_type": "execute_result",
     "data": {
      "text/plain": [
       "                       Symbol    Market_Cap\n",
       "GICS Sector                                \n",
       "Information Technology   AAPL  2.415723e+12\n",
       "Information Technology   MSFT  2.180088e+12\n",
       "Communication Services   GOOG  1.818394e+12\n",
       "Communication Services  GOOGL  1.818394e+12\n",
       "Consumer Discretionary   AMZN  1.694015e+12\n",
       "...                       ...           ...\n",
       "Consumer Discretionary    LEG  6.419166e+09\n",
       "Financials                UNM  5.438938e+09\n",
       "Energy                    NOV  5.254149e+09\n",
       "Consumer Discretionary   BBWI           NaN\n",
       "Health Care               OGN           NaN\n",
       "\n",
       "[503 rows x 2 columns]"
      ],
      "text/html": [
       "<div>\n",
       "<style scoped>\n",
       "    .dataframe tbody tr th:only-of-type {\n",
       "        vertical-align: middle;\n",
       "    }\n",
       "\n",
       "    .dataframe tbody tr th {\n",
       "        vertical-align: top;\n",
       "    }\n",
       "\n",
       "    .dataframe thead th {\n",
       "        text-align: right;\n",
       "    }\n",
       "</style>\n",
       "<table border=\"1\" class=\"dataframe\">\n",
       "  <thead>\n",
       "    <tr style=\"text-align: right;\">\n",
       "      <th></th>\n",
       "      <th>Symbol</th>\n",
       "      <th>Market_Cap</th>\n",
       "    </tr>\n",
       "    <tr>\n",
       "      <th>GICS Sector</th>\n",
       "      <th></th>\n",
       "      <th></th>\n",
       "    </tr>\n",
       "  </thead>\n",
       "  <tbody>\n",
       "    <tr>\n",
       "      <th>Information Technology</th>\n",
       "      <td>AAPL</td>\n",
       "      <td>2.415723e+12</td>\n",
       "    </tr>\n",
       "    <tr>\n",
       "      <th>Information Technology</th>\n",
       "      <td>MSFT</td>\n",
       "      <td>2.180088e+12</td>\n",
       "    </tr>\n",
       "    <tr>\n",
       "      <th>Communication Services</th>\n",
       "      <td>GOOG</td>\n",
       "      <td>1.818394e+12</td>\n",
       "    </tr>\n",
       "    <tr>\n",
       "      <th>Communication Services</th>\n",
       "      <td>GOOGL</td>\n",
       "      <td>1.818394e+12</td>\n",
       "    </tr>\n",
       "    <tr>\n",
       "      <th>Consumer Discretionary</th>\n",
       "      <td>AMZN</td>\n",
       "      <td>1.694015e+12</td>\n",
       "    </tr>\n",
       "    <tr>\n",
       "      <th>...</th>\n",
       "      <td>...</td>\n",
       "      <td>...</td>\n",
       "    </tr>\n",
       "    <tr>\n",
       "      <th>Consumer Discretionary</th>\n",
       "      <td>LEG</td>\n",
       "      <td>6.419166e+09</td>\n",
       "    </tr>\n",
       "    <tr>\n",
       "      <th>Financials</th>\n",
       "      <td>UNM</td>\n",
       "      <td>5.438938e+09</td>\n",
       "    </tr>\n",
       "    <tr>\n",
       "      <th>Energy</th>\n",
       "      <td>NOV</td>\n",
       "      <td>5.254149e+09</td>\n",
       "    </tr>\n",
       "    <tr>\n",
       "      <th>Consumer Discretionary</th>\n",
       "      <td>BBWI</td>\n",
       "      <td>NaN</td>\n",
       "    </tr>\n",
       "    <tr>\n",
       "      <th>Health Care</th>\n",
       "      <td>OGN</td>\n",
       "      <td>NaN</td>\n",
       "    </tr>\n",
       "  </tbody>\n",
       "</table>\n",
       "<p>503 rows × 2 columns</p>\n",
       "</div>"
      ]
     },
     "metadata": {},
     "execution_count": 11
    }
   ],
   "metadata": {}
  },
  {
   "cell_type": "code",
   "execution_count": 6,
   "source": [
    "# sector = \"GICS Sector\"\r\n",
    "# industrials = sp500_stocks_sorted.groupby(by=(sector[\"Industrials\"]\r\n",
    "# industrials\r\n",
    "\r\n",
    "        # industrials = \"Industrials\"\r\n",
    "        # health_care = \"Health Care\"\r\n",
    "        # information_technology = \"Information Technology\"\r\n",
    "        # communication_services = \"Communication Services\"\r\n",
    "        # consumer_discretionary = \"Consumer Discretionary\"\r\n",
    "        # utilities = \"Utilities\"\r\n",
    "        # financials = \"Financials\"\r\n",
    "        # materials = \"Materials\"\r\n",
    "        # real_estate = \"Real Estate\"\r\n",
    "        # consumer_staples = \"Consumer Staples\"\r\n",
    "        # energy = \"Energy\"\r\n",
    "\r\n",
    "industrials = sp500_stocks_sorted.loc[\"Industrials\"].sort_values(by=\"Market_Cap\", ascending=False).iloc[0:5]\r\n",
    "list(industrials[\"Symbol\"])"
   ],
   "outputs": [
    {
     "output_type": "execute_result",
     "data": {
      "text/plain": [
       "['GE', 'UPS', 'HON', 'UNP', 'BA']"
      ]
     },
     "metadata": {},
     "execution_count": 6
    }
   ],
   "metadata": {}
  },
  {
   "cell_type": "code",
   "execution_count": 8,
   "source": [
    "#### TESTING ######\r\n",
    "def chosen_sectors(sp500_stocks_sorted, sector_interest):\r\n",
    "    # Slices the lists into sector variables containing the top 5 stocks by marketcap\r\n",
    "\r\n",
    "    industrials = sp500_stocks_sorted.loc[\"Industrials\"].sort_values(by=\"Market_Cap\", ascending=False).iloc[0:5]\r\n",
    "    health_care = sp500_stocks_sorted.loc[\"Health Care\"].sort_values(by=\"Market_Cap\", ascending=False).iloc[0:5]\r\n",
    "    information_technology = sp500_stocks_sorted.loc[\"Information Technology\"].sort_values(by=\"Market_Cap\", ascending=False).iloc[0:5]\r\n",
    "    communication_services = sp500_stocks_sorted.loc[\"Communication Services\"].sort_values(by=\"Market_Cap\", ascending=False).iloc[0:5]\r\n",
    "    consumer_discretionary = sp500_stocks_sorted.loc[\"Consumer Discretionary\"].sort_values(by=\"Market_Cap\", ascending=False).iloc[0:5]\r\n",
    "    utilities = sp500_stocks_sorted.loc[\"Utilities\"].sort_values(by=\"Market_Cap\", ascending=False).iloc[0:5]\r\n",
    "    financials = sp500_stocks_sorted.loc[\"Financials\"].sort_values(by=\"Market_Cap\", ascending=False).iloc[0:5]\r\n",
    "    materials = sp500_stocks_sorted.loc[\"Materials\"].sort_values(by=\"Market_Cap\", ascending=False).iloc[0:5]\r\n",
    "    real_estate = sp500_stocks_sorted.loc[\"Real Estate\"].sort_values(by=\"Market_Cap\", ascending=False).iloc[0:5]\r\n",
    "    consumer_staples = sp500_stocks_sorted.loc[\"Consumer Staples\"].sort_values(by=\"Market_Cap\", ascending=False).iloc[0:5]\r\n",
    "    energy = sp500_stocks_sorted.loc[\"Energy\"].sort_values(by=\"Market_Cap\", ascending=False).iloc[0:5]\r\n",
    "    \r\n",
    "    rows = csv.reader(sp500_stocks_sorted)\r\n",
    "    header = next(rows)\r\n",
    "    for sector in sector_interest:\r\n",
    "        if sector == industrials:\r\n",
    "            return list(industrials[\"Symbol\"])\r\n",
    "        elif sector == health_care:\r\n",
    "            return list(health_care[\"Symbol\"])\r\n",
    "        elif sector == information_technology:\r\n",
    "            return list(information_technology[\"Symbol\"])\r\n",
    "        elif sector == communication_services:\r\n",
    "            return list(communication_services[\"Symbol\"])\r\n",
    "        elif sector == consumer_discretionary:\r\n",
    "            return list(consumer_discretionary[\"Symbol\"])\r\n",
    "        elif sector == utilities:\r\n",
    "            return list(utilities[\"Symbol\"])\r\n",
    "        elif sector == financials:\r\n",
    "            return list(financials[\"Symbol\"])\r\n",
    "        elif sector == materials:\r\n",
    "            return list(materials[\"Symbol\"])\r\n",
    "        elif sector == real_estate:\r\n",
    "            return list(real_estate[\"Symbol\"])\r\n",
    "        elif sector == consumer_staples:\r\n",
    "            return list(consumer_staples[\"Symbol\"])\r\n",
    "        elif sector == energy:\r\n",
    "            return list(energy[\"Symbol\"])\r\n",
    "        else:\r\n",
    "            return print(\"Unable to pick stocks.\")\r\n",
    "\r\n"
   ],
   "outputs": [],
   "metadata": {}
  },
  {
   "cell_type": "code",
   "execution_count": 65,
   "source": [
    "# def stocks_in_chosen_sector():\r\n",
    "#['Industrials', 'Health Care', 'Information Technology', 'Communication Services', \r\n",
    "# 'Consumer Discretionary', 'Utilities', 'Financials', 'Materials', 'Real Estate', 'Consumer Staples', 'Energy']\r\n",
    "stocks_in_chosen_sector = []\r\n",
    "with open(sp500_stocks_sorted, newline='') as csvfile:\r\n",
    "    rows = csv.reader(csvfile)\r\n",
    "    header = next(rows)\r\n",
    "    for row in rows:\r\n",
    "        # defines each sector with top 5 stocks by marketcap    \r\n",
    "        industrials = sp500_stocks_sorted.loc[\"Industrials\"].sort_values(by=\"Market_Cap\", ascending=False).iloc[0:5]\r\n",
    "        health_care = sp500_stocks_sorted.loc[\"Health Care\"].sort_values(by=\"Market_Cap\", ascending=False).iloc[0:5]\r\n",
    "        information_technology = sp500_stocks_sorted.loc[\"Information Technology\"].sort_values(by=\"Market_Cap\", ascending=False).iloc[0:5]\r\n",
    "        communication_services = sp500_stocks_sorted.loc[\"Communication Services\"].sort_values(by=\"Market_Cap\", ascending=False).iloc[0:5]\r\n",
    "        consumer_discretionary = sp500_stocks_sorted.loc[\"Consumer Discretionary\"].sort_values(by=\"Market_Cap\", ascending=False).iloc[0:5]\r\n",
    "        utilities = sp500_stocks_sorted.loc[\"Utilities\"].sort_values(by=\"Market_Cap\", ascending=False).iloc[0:5]\r\n",
    "        financials = sp500_stocks_sorted.loc[\"Financials\"].sort_values(by=\"Market_Cap\", ascending=False).iloc[0:5]\r\n",
    "        materials = sp500_stocks_sorted.loc[\"Materials\"].sort_values(by=\"Market_Cap\", ascending=False).iloc[0:5]\r\n",
    "        real_estate = sp500_stocks_sorted.loc[\"Real Estate\"].sort_values(by=\"Market_Cap\", ascending=False).iloc[0:5]\r\n",
    "        consumer_staples = sp500_stocks_sorted.loc[\"Consumer Staples\"].sort_values(by=\"Market_Cap\", ascending=False).iloc[0:5]\r\n",
    "        energy = sp500_stocks_sorted.loc[\"Energy\"].sort_values(by=\"Market_Cap\", ascending=False).iloc[0:5]\r\n",
    "        if industrials == sectors_1, sectors_2, sectors_3\r\n",
    "        symbol = float(row[1])\r\n",
    "        stocks = {\r\n",
    "            \"Symbol\": symbol\r\n",
    "        }\r\n",
    "        stocks_in_chosen_sector.append(stocks)\r\n",
    "\r\n",
    "\r\n",
    "        \r\n",
    "\r\n",
    "\r\n",
    "\r\n",
    "            "
   ],
   "outputs": [
    {
     "output_type": "error",
     "ename": "TypeError",
     "evalue": "expected str, bytes or os.PathLike object, not DataFrame",
     "traceback": [
      "\u001b[1;31m---------------------------------------------------------------------------\u001b[0m",
      "\u001b[1;31mTypeError\u001b[0m                                 Traceback (most recent call last)",
      "\u001b[1;32m<ipython-input-65-940f1bd62f5d>\u001b[0m in \u001b[0;36m<module>\u001b[1;34m\u001b[0m\n\u001b[0;32m      3\u001b[0m \u001b[1;31m# 'Consumer Discretionary', 'Utilities', 'Financials', 'Materials', 'Real Estate', 'Consumer Staples', 'Energy']\u001b[0m\u001b[1;33m\u001b[0m\u001b[1;33m\u001b[0m\u001b[1;33m\u001b[0m\u001b[0m\n\u001b[0;32m      4\u001b[0m \u001b[0mstocks_in_chosen_sector\u001b[0m \u001b[1;33m=\u001b[0m \u001b[1;33m[\u001b[0m\u001b[1;33m]\u001b[0m\u001b[1;33m\u001b[0m\u001b[1;33m\u001b[0m\u001b[0m\n\u001b[1;32m----> 5\u001b[1;33m \u001b[1;32mwith\u001b[0m \u001b[0mopen\u001b[0m\u001b[1;33m(\u001b[0m\u001b[0msp500_stocks_sorted\u001b[0m\u001b[1;33m,\u001b[0m \u001b[0mnewline\u001b[0m\u001b[1;33m=\u001b[0m\u001b[1;34m''\u001b[0m\u001b[1;33m)\u001b[0m \u001b[1;32mas\u001b[0m \u001b[0mcsvfile\u001b[0m\u001b[1;33m:\u001b[0m\u001b[1;33m\u001b[0m\u001b[1;33m\u001b[0m\u001b[0m\n\u001b[0m\u001b[0;32m      6\u001b[0m     \u001b[0mrows\u001b[0m \u001b[1;33m=\u001b[0m \u001b[0mcsv\u001b[0m\u001b[1;33m.\u001b[0m\u001b[0mreader\u001b[0m\u001b[1;33m(\u001b[0m\u001b[0mcsvfile\u001b[0m\u001b[1;33m)\u001b[0m\u001b[1;33m\u001b[0m\u001b[1;33m\u001b[0m\u001b[0m\n\u001b[0;32m      7\u001b[0m     \u001b[0mheader\u001b[0m \u001b[1;33m=\u001b[0m \u001b[0mnext\u001b[0m\u001b[1;33m(\u001b[0m\u001b[0mrows\u001b[0m\u001b[1;33m)\u001b[0m\u001b[1;33m\u001b[0m\u001b[1;33m\u001b[0m\u001b[0m\n",
      "\u001b[1;31mTypeError\u001b[0m: expected str, bytes or os.PathLike object, not DataFrame"
     ]
    }
   ],
   "metadata": {}
  },
  {
   "cell_type": "code",
   "execution_count": 118,
   "source": [
    "# TESTING PHASE FOR-LOOP TO ADD SYMBOLS INTO SECTORS_1\r\n",
    "def stocks_in_sector(sectors_1, sectors_2, sectors_3, stocks):\r\n",
    "    csvpath = Path(\"./resources/stock_industry_marketcap.csv\")\r\n",
    "    stocks = []\r\n",
    "    with open(csvpath, newline='') as csvfile:\r\n",
    "        rows = csv.reader(csvfile)\r\n",
    "        header = next(rows)\r\n",
    "        for row in rows:\r\n",
    "            gics_sector = float(rows[1])\r\n",
    "            symbol = float(rows[0])\r\n",
    "            marketcap = int(rows[2]).set_index(\"Market_Cap\").sort_values(by=\"Market_Cap\", ascending=False).iloc[0:5]\r\n",
    "            stocks = {\r\n",
    "                # \"GICS Sector\": gics_sector,\r\n",
    "                \"Symbol\":symbol,\r\n",
    "                \"Market_Cap\":marketcap\r\n",
    "            }\r\n",
    "            if gics_sector == sectors_1:\r\n",
    "                symbol.append(stocks)\r\n",
    "            if gics_sector == sectors_2:\r\n",
    "                symbol.append(stocks)\r\n",
    "            if gics_sector == sectors_3:\r\n",
    "                symbol.append(stocks)\r\n",
    "            return stocks\r\n",
    "stocks"
   ],
   "outputs": [
    {
     "output_type": "error",
     "ename": "NameError",
     "evalue": "name 'stocks' is not defined",
     "traceback": [
      "\u001b[1;31m---------------------------------------------------------------------------\u001b[0m",
      "\u001b[1;31mNameError\u001b[0m                                 Traceback (most recent call last)",
      "\u001b[1;32m<ipython-input-118-bef50bb0c789>\u001b[0m in \u001b[0;36m<module>\u001b[1;34m\u001b[0m\n\u001b[0;32m     22\u001b[0m                 \u001b[0msymbol\u001b[0m\u001b[1;33m.\u001b[0m\u001b[0mappend\u001b[0m\u001b[1;33m(\u001b[0m\u001b[0mstocks\u001b[0m\u001b[1;33m)\u001b[0m\u001b[1;33m\u001b[0m\u001b[1;33m\u001b[0m\u001b[0m\n\u001b[0;32m     23\u001b[0m             \u001b[1;32mreturn\u001b[0m \u001b[0mstocks\u001b[0m\u001b[1;33m\u001b[0m\u001b[1;33m\u001b[0m\u001b[0m\n\u001b[1;32m---> 24\u001b[1;33m \u001b[0mstocks\u001b[0m\u001b[1;33m\u001b[0m\u001b[1;33m\u001b[0m\u001b[0m\n\u001b[0m",
      "\u001b[1;31mNameError\u001b[0m: name 'stocks' is not defined"
     ]
    }
   ],
   "metadata": {}
  },
  {
   "cell_type": "code",
   "execution_count": 97,
   "source": [],
   "outputs": [
    {
     "output_type": "execute_result",
     "data": {
      "text/plain": [
       "    Symbol             GICS Sector    Market_Cap\n",
       "0      MMM             Industrials  1.146455e+11\n",
       "1      ABT             Health Care  2.165854e+11\n",
       "2     ABBV             Health Care  2.022537e+11\n",
       "3     ABMD             Health Care  1.569610e+10\n",
       "4      ACN  Information Technology  2.040843e+11\n",
       "..     ...                     ...           ...\n",
       "498    YUM  Consumer Discretionary  3.992767e+10\n",
       "499   ZBRA  Information Technology  3.008780e+10\n",
       "500    ZBH             Health Care  3.106382e+10\n",
       "501   ZION              Financials  9.008242e+09\n",
       "502    ZTS             Health Care  9.584597e+10\n",
       "\n",
       "[503 rows x 3 columns]"
      ],
      "text/html": [
       "<div>\n",
       "<style scoped>\n",
       "    .dataframe tbody tr th:only-of-type {\n",
       "        vertical-align: middle;\n",
       "    }\n",
       "\n",
       "    .dataframe tbody tr th {\n",
       "        vertical-align: top;\n",
       "    }\n",
       "\n",
       "    .dataframe thead th {\n",
       "        text-align: right;\n",
       "    }\n",
       "</style>\n",
       "<table border=\"1\" class=\"dataframe\">\n",
       "  <thead>\n",
       "    <tr style=\"text-align: right;\">\n",
       "      <th></th>\n",
       "      <th>Symbol</th>\n",
       "      <th>GICS Sector</th>\n",
       "      <th>Market_Cap</th>\n",
       "    </tr>\n",
       "  </thead>\n",
       "  <tbody>\n",
       "    <tr>\n",
       "      <th>0</th>\n",
       "      <td>MMM</td>\n",
       "      <td>Industrials</td>\n",
       "      <td>1.146455e+11</td>\n",
       "    </tr>\n",
       "    <tr>\n",
       "      <th>1</th>\n",
       "      <td>ABT</td>\n",
       "      <td>Health Care</td>\n",
       "      <td>2.165854e+11</td>\n",
       "    </tr>\n",
       "    <tr>\n",
       "      <th>2</th>\n",
       "      <td>ABBV</td>\n",
       "      <td>Health Care</td>\n",
       "      <td>2.022537e+11</td>\n",
       "    </tr>\n",
       "    <tr>\n",
       "      <th>3</th>\n",
       "      <td>ABMD</td>\n",
       "      <td>Health Care</td>\n",
       "      <td>1.569610e+10</td>\n",
       "    </tr>\n",
       "    <tr>\n",
       "      <th>4</th>\n",
       "      <td>ACN</td>\n",
       "      <td>Information Technology</td>\n",
       "      <td>2.040843e+11</td>\n",
       "    </tr>\n",
       "    <tr>\n",
       "      <th>...</th>\n",
       "      <td>...</td>\n",
       "      <td>...</td>\n",
       "      <td>...</td>\n",
       "    </tr>\n",
       "    <tr>\n",
       "      <th>498</th>\n",
       "      <td>YUM</td>\n",
       "      <td>Consumer Discretionary</td>\n",
       "      <td>3.992767e+10</td>\n",
       "    </tr>\n",
       "    <tr>\n",
       "      <th>499</th>\n",
       "      <td>ZBRA</td>\n",
       "      <td>Information Technology</td>\n",
       "      <td>3.008780e+10</td>\n",
       "    </tr>\n",
       "    <tr>\n",
       "      <th>500</th>\n",
       "      <td>ZBH</td>\n",
       "      <td>Health Care</td>\n",
       "      <td>3.106382e+10</td>\n",
       "    </tr>\n",
       "    <tr>\n",
       "      <th>501</th>\n",
       "      <td>ZION</td>\n",
       "      <td>Financials</td>\n",
       "      <td>9.008242e+09</td>\n",
       "    </tr>\n",
       "    <tr>\n",
       "      <th>502</th>\n",
       "      <td>ZTS</td>\n",
       "      <td>Health Care</td>\n",
       "      <td>9.584597e+10</td>\n",
       "    </tr>\n",
       "  </tbody>\n",
       "</table>\n",
       "<p>503 rows × 3 columns</p>\n",
       "</div>"
      ]
     },
     "metadata": {},
     "execution_count": 97
    }
   ],
   "metadata": {}
  },
  {
   "cell_type": "code",
   "execution_count": 34,
   "source": [],
   "outputs": [
    {
     "output_type": "error",
     "ename": "SyntaxError",
     "evalue": "unexpected EOF while parsing (<ipython-input-34-6556fd035e82>, line 3)",
     "traceback": [
      "\u001b[1;36m  File \u001b[1;32m\"<ipython-input-34-6556fd035e82>\"\u001b[1;36m, line \u001b[1;32m3\u001b[0m\n\u001b[1;33m    \u001b[0m\n\u001b[1;37m    ^\u001b[0m\n\u001b[1;31mSyntaxError\u001b[0m\u001b[1;31m:\u001b[0m unexpected EOF while parsing\n"
     ]
    }
   ],
   "metadata": {}
  },
  {
   "cell_type": "code",
   "execution_count": null,
   "source": [],
   "outputs": [],
   "metadata": {}
  }
 ],
 "metadata": {
  "orig_nbformat": 4,
  "language_info": {
   "name": "python",
   "version": "3.7.10",
   "mimetype": "text/x-python",
   "codemirror_mode": {
    "name": "ipython",
    "version": 3
   },
   "pygments_lexer": "ipython3",
   "nbconvert_exporter": "python",
   "file_extension": ".py"
  },
  "kernelspec": {
   "name": "python3",
   "display_name": "Python 3.7.10 64-bit ('dev': conda)"
  },
  "interpreter": {
   "hash": "0bc772866a3affdc5803be489598f529b0192fa171585f2d09392617c9a5b224"
  }
 },
 "nbformat": 4,
 "nbformat_minor": 2
}