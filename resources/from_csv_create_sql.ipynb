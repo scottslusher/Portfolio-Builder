{
 "cells": [
  {
   "cell_type": "code",
   "execution_count": 1,
   "source": [
    "import pandas as pd\r\n",
    "from pathlib import Path\r\n",
    "import sqlalchemy as sql"
   ],
   "outputs": [],
   "metadata": {}
  },
  {
   "cell_type": "code",
   "execution_count": 2,
   "source": [
    "# Create a database connection string that links an in-memory database\r\n",
    "database_connection_string = 'sqlite:///stock_industry_top5.db'\r\n",
    "\r\n",
    "# Database connection object\r\n",
    "engine = sql.create_engine(database_connection_string, echo=True)\r\n",
    "\r\n",
    "# Confirm the engine was created\r\n",
    "engine"
   ],
   "outputs": [
    {
     "output_type": "execute_result",
     "data": {
      "text/plain": [
       "Engine(sqlite:///stock_industry_top5.db)"
      ]
     },
     "metadata": {},
     "execution_count": 2
    }
   ],
   "metadata": {}
  },
  {
   "cell_type": "code",
   "execution_count": 3,
   "source": [
    "stocks_df = pd.read_csv(\r\n",
    "    Path('stock_industry_marketcap.csv')\r\n",
    ")\r\n",
    "\r\n",
    "stocks_df.head()"
   ],
   "outputs": [
    {
     "output_type": "execute_result",
     "data": {
      "text/plain": [
       "  Symbol             GICS Sector    Market_Cap\n",
       "0    MMM             Industrials  1.146455e+11\n",
       "1    ABT             Health Care  2.165854e+11\n",
       "2   ABBV             Health Care  2.022537e+11\n",
       "3   ABMD             Health Care  1.569610e+10\n",
       "4    ACN  Information Technology  2.040843e+11"
      ],
      "text/html": [
       "<div>\n",
       "<style scoped>\n",
       "    .dataframe tbody tr th:only-of-type {\n",
       "        vertical-align: middle;\n",
       "    }\n",
       "\n",
       "    .dataframe tbody tr th {\n",
       "        vertical-align: top;\n",
       "    }\n",
       "\n",
       "    .dataframe thead th {\n",
       "        text-align: right;\n",
       "    }\n",
       "</style>\n",
       "<table border=\"1\" class=\"dataframe\">\n",
       "  <thead>\n",
       "    <tr style=\"text-align: right;\">\n",
       "      <th></th>\n",
       "      <th>Symbol</th>\n",
       "      <th>GICS Sector</th>\n",
       "      <th>Market_Cap</th>\n",
       "    </tr>\n",
       "  </thead>\n",
       "  <tbody>\n",
       "    <tr>\n",
       "      <th>0</th>\n",
       "      <td>MMM</td>\n",
       "      <td>Industrials</td>\n",
       "      <td>1.146455e+11</td>\n",
       "    </tr>\n",
       "    <tr>\n",
       "      <th>1</th>\n",
       "      <td>ABT</td>\n",
       "      <td>Health Care</td>\n",
       "      <td>2.165854e+11</td>\n",
       "    </tr>\n",
       "    <tr>\n",
       "      <th>2</th>\n",
       "      <td>ABBV</td>\n",
       "      <td>Health Care</td>\n",
       "      <td>2.022537e+11</td>\n",
       "    </tr>\n",
       "    <tr>\n",
       "      <th>3</th>\n",
       "      <td>ABMD</td>\n",
       "      <td>Health Care</td>\n",
       "      <td>1.569610e+10</td>\n",
       "    </tr>\n",
       "    <tr>\n",
       "      <th>4</th>\n",
       "      <td>ACN</td>\n",
       "      <td>Information Technology</td>\n",
       "      <td>2.040843e+11</td>\n",
       "    </tr>\n",
       "  </tbody>\n",
       "</table>\n",
       "</div>"
      ]
     },
     "metadata": {},
     "execution_count": 3
    }
   ],
   "metadata": {}
  },
  {
   "cell_type": "code",
   "execution_count": 4,
   "source": [
    "stocks_df.to_sql('stock_industry_marketcap', engine, index=False, if_exists='replace')"
   ],
   "outputs": [
    {
     "output_type": "stream",
     "name": "stdout",
     "text": [
      "2021-08-09 11:36:31,135 INFO sqlalchemy.engine.base.Engine SELECT CAST('test plain returns' AS VARCHAR(60)) AS anon_1\n",
      "2021-08-09 11:36:31,137 INFO sqlalchemy.engine.base.Engine ()\n",
      "2021-08-09 11:36:31,150 INFO sqlalchemy.engine.base.Engine SELECT CAST('test unicode returns' AS VARCHAR(60)) AS anon_1\n",
      "2021-08-09 11:36:31,157 INFO sqlalchemy.engine.base.Engine ()\n",
      "2021-08-09 11:36:31,160 INFO sqlalchemy.engine.base.Engine PRAGMA main.table_info(\"stock_industry_marketcap\")\n",
      "2021-08-09 11:36:31,167 INFO sqlalchemy.engine.base.Engine ()\n",
      "2021-08-09 11:36:31,180 INFO sqlalchemy.engine.base.Engine PRAGMA main.table_info(\"stock_industry_marketcap\")\n",
      "2021-08-09 11:36:31,183 INFO sqlalchemy.engine.base.Engine ()\n",
      "2021-08-09 11:36:31,188 INFO sqlalchemy.engine.base.Engine SELECT name FROM sqlite_master WHERE type='table' ORDER BY name\n",
      "2021-08-09 11:36:31,192 INFO sqlalchemy.engine.base.Engine ()\n",
      "2021-08-09 11:36:31,195 INFO sqlalchemy.engine.base.Engine PRAGMA main.table_xinfo(\"stock_industry_marketcap\")\n",
      "2021-08-09 11:36:31,197 INFO sqlalchemy.engine.base.Engine ()\n",
      "2021-08-09 11:36:31,201 INFO sqlalchemy.engine.base.Engine SELECT sql FROM  (SELECT * FROM sqlite_master UNION ALL   SELECT * FROM sqlite_temp_master) WHERE name = ? AND type = 'table'\n",
      "2021-08-09 11:36:31,206 INFO sqlalchemy.engine.base.Engine ('stock_industry_marketcap',)\n",
      "2021-08-09 11:36:31,211 INFO sqlalchemy.engine.base.Engine PRAGMA main.foreign_key_list(\"stock_industry_marketcap\")\n",
      "2021-08-09 11:36:31,212 INFO sqlalchemy.engine.base.Engine ()\n",
      "2021-08-09 11:36:31,214 INFO sqlalchemy.engine.base.Engine PRAGMA temp.foreign_key_list(\"stock_industry_marketcap\")\n",
      "2021-08-09 11:36:31,215 INFO sqlalchemy.engine.base.Engine ()\n",
      "2021-08-09 11:36:31,216 INFO sqlalchemy.engine.base.Engine SELECT sql FROM  (SELECT * FROM sqlite_master UNION ALL   SELECT * FROM sqlite_temp_master) WHERE name = ? AND type = 'table'\n",
      "2021-08-09 11:36:31,218 INFO sqlalchemy.engine.base.Engine ('stock_industry_marketcap',)\n",
      "2021-08-09 11:36:31,223 INFO sqlalchemy.engine.base.Engine PRAGMA main.index_list(\"stock_industry_marketcap\")\n",
      "2021-08-09 11:36:31,231 INFO sqlalchemy.engine.base.Engine ()\n",
      "2021-08-09 11:36:31,244 INFO sqlalchemy.engine.base.Engine PRAGMA temp.index_list(\"stock_industry_marketcap\")\n",
      "2021-08-09 11:36:31,245 INFO sqlalchemy.engine.base.Engine ()\n",
      "2021-08-09 11:36:31,247 INFO sqlalchemy.engine.base.Engine PRAGMA main.index_list(\"stock_industry_marketcap\")\n",
      "2021-08-09 11:36:31,249 INFO sqlalchemy.engine.base.Engine ()\n",
      "2021-08-09 11:36:31,251 INFO sqlalchemy.engine.base.Engine PRAGMA temp.index_list(\"stock_industry_marketcap\")\n",
      "2021-08-09 11:36:31,253 INFO sqlalchemy.engine.base.Engine ()\n",
      "2021-08-09 11:36:31,257 INFO sqlalchemy.engine.base.Engine SELECT sql FROM  (SELECT * FROM sqlite_master UNION ALL   SELECT * FROM sqlite_temp_master) WHERE name = ? AND type = 'table'\n",
      "2021-08-09 11:36:31,259 INFO sqlalchemy.engine.base.Engine ('stock_industry_marketcap',)\n",
      "2021-08-09 11:36:31,267 INFO sqlalchemy.engine.base.Engine \n",
      "DROP TABLE stock_industry_marketcap\n",
      "2021-08-09 11:36:31,268 INFO sqlalchemy.engine.base.Engine ()\n",
      "2021-08-09 11:36:31,275 INFO sqlalchemy.engine.base.Engine COMMIT\n",
      "2021-08-09 11:36:31,280 INFO sqlalchemy.engine.base.Engine \n",
      "CREATE TABLE stock_industry_marketcap (\n",
      "\t\"Symbol\" TEXT, \n",
      "\t\"GICS Sector\" TEXT, \n",
      "\t\"Market_Cap\" FLOAT\n",
      ")\n",
      "\n",
      "\n",
      "2021-08-09 11:36:31,281 INFO sqlalchemy.engine.base.Engine ()\n",
      "2021-08-09 11:36:31,299 INFO sqlalchemy.engine.base.Engine COMMIT\n",
      "2021-08-09 11:36:31,309 INFO sqlalchemy.engine.base.Engine BEGIN (implicit)\n",
      "2021-08-09 11:36:31,317 INFO sqlalchemy.engine.base.Engine INSERT INTO stock_industry_marketcap (\"Symbol\", \"GICS Sector\", \"Market_Cap\") VALUES (?, ?, ?)\n",
      "2021-08-09 11:36:31,320 INFO sqlalchemy.engine.base.Engine (('MMM', 'Industrials', 114645549056.0), ('ABT', 'Health Care', 216585404416.0), ('ABBV', 'Health Care', 202253746176.0), ('ABMD', 'Health Care', 15696103424.0), ('ACN', 'Information Technology', 204084314112.0), ('ATVI', 'Communication Services', 64106471424.0), ('ADBE', 'Information Technology', 300789432320.0), ('AMD', 'Information Technology', 133560123392.0)  ... displaying 10 of 503 total bound parameter sets ...  ('ZION', 'Financials', 9008241664.0), ('ZTS', 'Health Care', 95845965824.0))\n",
      "2021-08-09 11:36:31,329 INFO sqlalchemy.engine.base.Engine COMMIT\n"
     ]
    }
   ],
   "metadata": {}
  },
  {
   "cell_type": "code",
   "execution_count": 5,
   "source": [
    "engine.table_names()"
   ],
   "outputs": [
    {
     "output_type": "stream",
     "name": "stdout",
     "text": [
      "2021-08-09 11:36:33,245 INFO sqlalchemy.engine.base.Engine SELECT name FROM sqlite_master WHERE type='table' ORDER BY name\n",
      "2021-08-09 11:36:33,247 INFO sqlalchemy.engine.base.Engine ()\n"
     ]
    },
    {
     "output_type": "execute_result",
     "data": {
      "text/plain": [
       "['stock_industry_marketcap']"
      ]
     },
     "metadata": {},
     "execution_count": 5
    }
   ],
   "metadata": {}
  },
  {
   "cell_type": "code",
   "execution_count": 6,
   "source": [
    "sql_stock_df = pd.read_sql_table('stock_industry_marketcap', con=engine)\r\n",
    "\r\n",
    "sql_stock_df.head()"
   ],
   "outputs": [
    {
     "output_type": "stream",
     "name": "stdout",
     "text": [
      "2021-08-09 11:36:33,814 INFO sqlalchemy.engine.base.Engine SELECT name FROM sqlite_master WHERE type='table' ORDER BY name\n",
      "2021-08-09 11:36:33,815 INFO sqlalchemy.engine.base.Engine ()\n",
      "2021-08-09 11:36:33,818 INFO sqlalchemy.engine.base.Engine SELECT name FROM sqlite_master WHERE type='view' ORDER BY name\n",
      "2021-08-09 11:36:33,826 INFO sqlalchemy.engine.base.Engine ()\n",
      "2021-08-09 11:36:33,841 INFO sqlalchemy.engine.base.Engine PRAGMA main.table_xinfo(\"stock_industry_marketcap\")\n",
      "2021-08-09 11:36:33,844 INFO sqlalchemy.engine.base.Engine ()\n",
      "2021-08-09 11:36:33,847 INFO sqlalchemy.engine.base.Engine SELECT sql FROM  (SELECT * FROM sqlite_master UNION ALL   SELECT * FROM sqlite_temp_master) WHERE name = ? AND type = 'table'\n",
      "2021-08-09 11:36:33,850 INFO sqlalchemy.engine.base.Engine ('stock_industry_marketcap',)\n",
      "2021-08-09 11:36:33,852 INFO sqlalchemy.engine.base.Engine PRAGMA main.foreign_key_list(\"stock_industry_marketcap\")\n",
      "2021-08-09 11:36:33,857 INFO sqlalchemy.engine.base.Engine ()\n",
      "2021-08-09 11:36:33,860 INFO sqlalchemy.engine.base.Engine PRAGMA temp.foreign_key_list(\"stock_industry_marketcap\")\n",
      "2021-08-09 11:36:33,861 INFO sqlalchemy.engine.base.Engine ()\n",
      "2021-08-09 11:36:33,863 INFO sqlalchemy.engine.base.Engine SELECT sql FROM  (SELECT * FROM sqlite_master UNION ALL   SELECT * FROM sqlite_temp_master) WHERE name = ? AND type = 'table'\n",
      "2021-08-09 11:36:33,864 INFO sqlalchemy.engine.base.Engine ('stock_industry_marketcap',)\n",
      "2021-08-09 11:36:33,867 INFO sqlalchemy.engine.base.Engine PRAGMA main.index_list(\"stock_industry_marketcap\")\n",
      "2021-08-09 11:36:33,868 INFO sqlalchemy.engine.base.Engine ()\n",
      "2021-08-09 11:36:33,871 INFO sqlalchemy.engine.base.Engine PRAGMA temp.index_list(\"stock_industry_marketcap\")\n",
      "2021-08-09 11:36:33,872 INFO sqlalchemy.engine.base.Engine ()\n",
      "2021-08-09 11:36:33,873 INFO sqlalchemy.engine.base.Engine PRAGMA main.index_list(\"stock_industry_marketcap\")\n",
      "2021-08-09 11:36:33,874 INFO sqlalchemy.engine.base.Engine ()\n",
      "2021-08-09 11:36:33,875 INFO sqlalchemy.engine.base.Engine PRAGMA temp.index_list(\"stock_industry_marketcap\")\n",
      "2021-08-09 11:36:33,876 INFO sqlalchemy.engine.base.Engine ()\n",
      "2021-08-09 11:36:33,878 INFO sqlalchemy.engine.base.Engine SELECT sql FROM  (SELECT * FROM sqlite_master UNION ALL   SELECT * FROM sqlite_temp_master) WHERE name = ? AND type = 'table'\n",
      "2021-08-09 11:36:33,879 INFO sqlalchemy.engine.base.Engine ('stock_industry_marketcap',)\n",
      "2021-08-09 11:36:33,884 INFO sqlalchemy.engine.base.OptionEngine SELECT stock_industry_marketcap.\"Symbol\", stock_industry_marketcap.\"GICS Sector\", stock_industry_marketcap.\"Market_Cap\" \n",
      "FROM stock_industry_marketcap\n",
      "2021-08-09 11:36:33,885 INFO sqlalchemy.engine.base.OptionEngine ()\n"
     ]
    },
    {
     "output_type": "execute_result",
     "data": {
      "text/plain": [
       "  Symbol             GICS Sector    Market_Cap\n",
       "0    MMM             Industrials  1.146455e+11\n",
       "1    ABT             Health Care  2.165854e+11\n",
       "2   ABBV             Health Care  2.022537e+11\n",
       "3   ABMD             Health Care  1.569610e+10\n",
       "4    ACN  Information Technology  2.040843e+11"
      ],
      "text/html": [
       "<div>\n",
       "<style scoped>\n",
       "    .dataframe tbody tr th:only-of-type {\n",
       "        vertical-align: middle;\n",
       "    }\n",
       "\n",
       "    .dataframe tbody tr th {\n",
       "        vertical-align: top;\n",
       "    }\n",
       "\n",
       "    .dataframe thead th {\n",
       "        text-align: right;\n",
       "    }\n",
       "</style>\n",
       "<table border=\"1\" class=\"dataframe\">\n",
       "  <thead>\n",
       "    <tr style=\"text-align: right;\">\n",
       "      <th></th>\n",
       "      <th>Symbol</th>\n",
       "      <th>GICS Sector</th>\n",
       "      <th>Market_Cap</th>\n",
       "    </tr>\n",
       "  </thead>\n",
       "  <tbody>\n",
       "    <tr>\n",
       "      <th>0</th>\n",
       "      <td>MMM</td>\n",
       "      <td>Industrials</td>\n",
       "      <td>1.146455e+11</td>\n",
       "    </tr>\n",
       "    <tr>\n",
       "      <th>1</th>\n",
       "      <td>ABT</td>\n",
       "      <td>Health Care</td>\n",
       "      <td>2.165854e+11</td>\n",
       "    </tr>\n",
       "    <tr>\n",
       "      <th>2</th>\n",
       "      <td>ABBV</td>\n",
       "      <td>Health Care</td>\n",
       "      <td>2.022537e+11</td>\n",
       "    </tr>\n",
       "    <tr>\n",
       "      <th>3</th>\n",
       "      <td>ABMD</td>\n",
       "      <td>Health Care</td>\n",
       "      <td>1.569610e+10</td>\n",
       "    </tr>\n",
       "    <tr>\n",
       "      <th>4</th>\n",
       "      <td>ACN</td>\n",
       "      <td>Information Technology</td>\n",
       "      <td>2.040843e+11</td>\n",
       "    </tr>\n",
       "  </tbody>\n",
       "</table>\n",
       "</div>"
      ]
     },
     "metadata": {},
     "execution_count": 6
    }
   ],
   "metadata": {}
  },
  {
   "cell_type": "code",
   "execution_count": 7,
   "source": [
    "top5 = \"\"\"\r\n",
    "SELECT Symbol\r\n",
    "FROM stock_industry_marketcap\r\n",
    "WHERE `GICS Sector` = 'Industrials'\r\n",
    "ORDER BY Market_Cap DESC\r\n",
    "LIMIT 5\r\n",
    "\"\"\"\r\n",
    "# UNION all\r\n",
    "# SELECT * FROM stock_industry_marketcap WHERE GICS Sector = 'Utilities' ORDER BY Market_Cap LIMIT 5\r\n",
    "# UNION all\r\n",
    "# SELECT * FROM stock_industry_marketcap WHERE GICS Sector = 'Real Estate' ORDER BY Market_Cap LIMIT 5\r\n",
    "# UNION all\r\n",
    "# SELECT * FROM stock_industry_marketcap WHERE GICS Sector = 'Materials' ORDER BY Market_Cap LIMIT 5\r\n",
    "# UNION all\r\n",
    "# SELECT * FROM stock_industry_marketcap WHERE GICS Sector = 'Information Technology' ORDER BY Market_Cap LIMIT 5\r\n",
    "# UNION all\r\n",
    "# SELECT * FROM stock_industry_marketcap WHERE GICS Sector = 'Health Care' ORDER BY Market_Cap LIMIT 5\r\n",
    "# UNION all\r\n",
    "# SELECT * FROM stock_industry_marketcap WHERE GICS Sector = 'Financials' ORDER BY Market_Cap LIMIT 5\r\n",
    "# UNION all\r\n",
    "# SELECT * FROM stock_industry_marketcap WHERE GICS Sector = 'Energy' ORDER BY Market_Cap LIMIT 5\r\n",
    "# UNION all\r\n",
    "# SELECT * FROM stock_industry_marketcap WHERE GICS Sector = 'Consumer Staples' ORDER BY Market_Cap LIMIT 5\r\n",
    "# UNION all\r\n",
    "# SELECT * FROM stock_industry_marketcap WHERE GICS Sector = 'Consumer Discretionary' ORDER BY Market_Cap LIMIT 5\r\n",
    "# UNION all\r\n",
    "# SELECT * FROM stock_industry_marketcap WHERE GICS Sector = 'Communication Services' ORDER BY Market_Cap LIMIT 5\r\n",
    "# UNION all\r\n",
    "\r\n"
   ],
   "outputs": [],
   "metadata": {}
  },
  {
   "cell_type": "code",
   "execution_count": 8,
   "source": [
    "results = engine.execute(top5)\r\n"
   ],
   "outputs": [
    {
     "output_type": "stream",
     "name": "stdout",
     "text": [
      "2021-08-09 11:36:37,382 INFO sqlalchemy.engine.base.Engine \n",
      "SELECT Symbol\n",
      "FROM stock_industry_marketcap\n",
      "WHERE `GICS Sector` = 'Industrials'\n",
      "ORDER BY Market_Cap DESC\n",
      "LIMIT 5\n",
      "\n",
      "2021-08-09 11:36:37,386 INFO sqlalchemy.engine.base.Engine ()\n"
     ]
    }
   ],
   "metadata": {}
  },
  {
   "cell_type": "code",
   "execution_count": 9,
   "source": [
    "list(results)"
   ],
   "outputs": [
    {
     "output_type": "execute_result",
     "data": {
      "text/plain": [
       "[('GE',), ('UPS',), ('HON',), ('UNP',), ('BA',)]"
      ]
     },
     "metadata": {},
     "execution_count": 9
    }
   ],
   "metadata": {}
  },
  {
   "cell_type": "code",
   "execution_count": null,
   "source": [
    "# concat sectors_1 sectors_2 sectors_3 to 1 list "
   ],
   "outputs": [],
   "metadata": {}
  }
 ],
 "metadata": {
  "orig_nbformat": 4,
  "language_info": {
   "name": "python",
   "version": "3.7.9",
   "mimetype": "text/x-python",
   "codemirror_mode": {
    "name": "ipython",
    "version": 3
   },
   "pygments_lexer": "ipython3",
   "nbconvert_exporter": "python",
   "file_extension": ".py"
  },
  "kernelspec": {
   "name": "python3",
   "display_name": "Python 3.7.9 64-bit ('dev': conda)"
  },
  "interpreter": {
   "hash": "495ccf4d1983483e4ef5ecb604ad059e9e63ef3705f6ce6119008c8aa5b25d48"
  }
 },
 "nbformat": 4,
 "nbformat_minor": 2
}